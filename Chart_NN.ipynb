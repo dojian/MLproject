{
  "cells": [
    {
      "cell_type": "markdown",
      "metadata": {
        "id": "view-in-github",
        "colab_type": "text"
      },
      "source": [
        "<a href=\"https://colab.research.google.com/github/dojian/MLproject/blob/kristen/Chart_NN.ipynb\" target=\"_parent\"><img src=\"https://colab.research.google.com/assets/colab-badge.svg\" alt=\"Open In Colab\"/></a>"
      ]
    },
    {
      "cell_type": "code",
      "execution_count": null,
      "metadata": {
        "colab": {
          "base_uri": "https://localhost:8080/"
        },
        "id": "gJmetpKj8KyJ",
        "outputId": "659d02d4-3614-4204-cb24-2d9bb8b2a92e"
      },
      "outputs": [
        {
          "output_type": "stream",
          "name": "stdout",
          "text": [
            "Collecting ultralytics\n",
            "  Downloading ultralytics-8.0.225-py3-none-any.whl (660 kB)\n",
            "\u001b[2K     \u001b[90m━━━━━━━━━━━━━━━━━━━━━━━━━━━━━━━━━━━━━━━━\u001b[0m \u001b[32m660.1/660.1 kB\u001b[0m \u001b[31m10.7 MB/s\u001b[0m eta \u001b[36m0:00:00\u001b[0m\n",
            "\u001b[?25hRequirement already satisfied: matplotlib>=3.3.0 in /usr/local/lib/python3.10/dist-packages (from ultralytics) (3.7.1)\n",
            "Requirement already satisfied: numpy>=1.22.2 in /usr/local/lib/python3.10/dist-packages (from ultralytics) (1.23.5)\n",
            "Requirement already satisfied: opencv-python>=4.6.0 in /usr/local/lib/python3.10/dist-packages (from ultralytics) (4.8.0.76)\n",
            "Requirement already satisfied: pillow>=7.1.2 in /usr/local/lib/python3.10/dist-packages (from ultralytics) (9.4.0)\n",
            "Requirement already satisfied: pyyaml>=5.3.1 in /usr/local/lib/python3.10/dist-packages (from ultralytics) (6.0.1)\n",
            "Requirement already satisfied: requests>=2.23.0 in /usr/local/lib/python3.10/dist-packages (from ultralytics) (2.31.0)\n",
            "Requirement already satisfied: scipy>=1.4.1 in /usr/local/lib/python3.10/dist-packages (from ultralytics) (1.11.4)\n",
            "Requirement already satisfied: torch>=1.8.0 in /usr/local/lib/python3.10/dist-packages (from ultralytics) (2.1.0+cu118)\n",
            "Requirement already satisfied: torchvision>=0.9.0 in /usr/local/lib/python3.10/dist-packages (from ultralytics) (0.16.0+cu118)\n",
            "Requirement already satisfied: tqdm>=4.64.0 in /usr/local/lib/python3.10/dist-packages (from ultralytics) (4.66.1)\n",
            "Requirement already satisfied: pandas>=1.1.4 in /usr/local/lib/python3.10/dist-packages (from ultralytics) (1.5.3)\n",
            "Requirement already satisfied: seaborn>=0.11.0 in /usr/local/lib/python3.10/dist-packages (from ultralytics) (0.12.2)\n",
            "Requirement already satisfied: psutil in /usr/local/lib/python3.10/dist-packages (from ultralytics) (5.9.5)\n",
            "Requirement already satisfied: py-cpuinfo in /usr/local/lib/python3.10/dist-packages (from ultralytics) (9.0.0)\n",
            "Collecting thop>=0.1.1 (from ultralytics)\n",
            "  Downloading thop-0.1.1.post2209072238-py3-none-any.whl (15 kB)\n",
            "Requirement already satisfied: contourpy>=1.0.1 in /usr/local/lib/python3.10/dist-packages (from matplotlib>=3.3.0->ultralytics) (1.2.0)\n",
            "Requirement already satisfied: cycler>=0.10 in /usr/local/lib/python3.10/dist-packages (from matplotlib>=3.3.0->ultralytics) (0.12.1)\n",
            "Requirement already satisfied: fonttools>=4.22.0 in /usr/local/lib/python3.10/dist-packages (from matplotlib>=3.3.0->ultralytics) (4.45.1)\n",
            "Requirement already satisfied: kiwisolver>=1.0.1 in /usr/local/lib/python3.10/dist-packages (from matplotlib>=3.3.0->ultralytics) (1.4.5)\n",
            "Requirement already satisfied: packaging>=20.0 in /usr/local/lib/python3.10/dist-packages (from matplotlib>=3.3.0->ultralytics) (23.2)\n",
            "Requirement already satisfied: pyparsing>=2.3.1 in /usr/local/lib/python3.10/dist-packages (from matplotlib>=3.3.0->ultralytics) (3.1.1)\n",
            "Requirement already satisfied: python-dateutil>=2.7 in /usr/local/lib/python3.10/dist-packages (from matplotlib>=3.3.0->ultralytics) (2.8.2)\n",
            "Requirement already satisfied: pytz>=2020.1 in /usr/local/lib/python3.10/dist-packages (from pandas>=1.1.4->ultralytics) (2023.3.post1)\n",
            "Requirement already satisfied: charset-normalizer<4,>=2 in /usr/local/lib/python3.10/dist-packages (from requests>=2.23.0->ultralytics) (3.3.2)\n",
            "Requirement already satisfied: idna<4,>=2.5 in /usr/local/lib/python3.10/dist-packages (from requests>=2.23.0->ultralytics) (3.6)\n",
            "Requirement already satisfied: urllib3<3,>=1.21.1 in /usr/local/lib/python3.10/dist-packages (from requests>=2.23.0->ultralytics) (2.0.7)\n",
            "Requirement already satisfied: certifi>=2017.4.17 in /usr/local/lib/python3.10/dist-packages (from requests>=2.23.0->ultralytics) (2023.11.17)\n",
            "Requirement already satisfied: filelock in /usr/local/lib/python3.10/dist-packages (from torch>=1.8.0->ultralytics) (3.13.1)\n",
            "Requirement already satisfied: typing-extensions in /usr/local/lib/python3.10/dist-packages (from torch>=1.8.0->ultralytics) (4.5.0)\n",
            "Requirement already satisfied: sympy in /usr/local/lib/python3.10/dist-packages (from torch>=1.8.0->ultralytics) (1.12)\n",
            "Requirement already satisfied: networkx in /usr/local/lib/python3.10/dist-packages (from torch>=1.8.0->ultralytics) (3.2.1)\n",
            "Requirement already satisfied: jinja2 in /usr/local/lib/python3.10/dist-packages (from torch>=1.8.0->ultralytics) (3.1.2)\n",
            "Requirement already satisfied: fsspec in /usr/local/lib/python3.10/dist-packages (from torch>=1.8.0->ultralytics) (2023.6.0)\n",
            "Requirement already satisfied: triton==2.1.0 in /usr/local/lib/python3.10/dist-packages (from torch>=1.8.0->ultralytics) (2.1.0)\n",
            "Requirement already satisfied: six>=1.5 in /usr/local/lib/python3.10/dist-packages (from python-dateutil>=2.7->matplotlib>=3.3.0->ultralytics) (1.16.0)\n",
            "Requirement already satisfied: MarkupSafe>=2.0 in /usr/local/lib/python3.10/dist-packages (from jinja2->torch>=1.8.0->ultralytics) (2.1.3)\n",
            "Requirement already satisfied: mpmath>=0.19 in /usr/local/lib/python3.10/dist-packages (from sympy->torch>=1.8.0->ultralytics) (1.3.0)\n",
            "Installing collected packages: thop, ultralytics\n",
            "Successfully installed thop-0.1.1.post2209072238 ultralytics-8.0.225\n"
          ]
        }
      ],
      "source": [
        "!pip install ultralytics"
      ]
    },
    {
      "cell_type": "code",
      "execution_count": null,
      "metadata": {
        "id": "riQ8chLo6j1_"
      },
      "outputs": [],
      "source": [
        "# Import libraries\n",
        "\n",
        "import os\n",
        "import cv2\n",
        "import json\n",
        "import tensorflow as tf\n",
        "import numpy as np\n",
        "import matplotlib.pyplot as plt\n",
        "from math import sqrt, atan2, pi\n",
        "from PIL import Image, ImageDraw\n",
        "from ultralytics import YOLO\n",
        "from sklearn.preprocessing import LabelBinarizer"
      ]
    },
    {
      "cell_type": "code",
      "execution_count": null,
      "metadata": {
        "id": "7Pv-v7Bb6ni-"
      },
      "outputs": [],
      "source": [
        "def canny_edge_detector(input_image):\n",
        "    input_pixels = input_image.load()\n",
        "    width = input_image.width\n",
        "    height = input_image.height\n",
        "\n",
        "    # Transform the image to grayscale\n",
        "    grayscaled = compute_grayscale(input_pixels, width, height)\n",
        "\n",
        "    # Blur it to remove noise\n",
        "    blurred = compute_blur(grayscaled, width, height)\n",
        "\n",
        "    # Compute the gradient\n",
        "    gradient, direction = compute_gradient(blurred, width, height)\n",
        "\n",
        "    # Non-maximum suppression\n",
        "    filter_out_non_maximum(gradient, direction, width, height)\n",
        "\n",
        "    # Filter out some edges\n",
        "    keep = filter_strong_edges(gradient, width, height, 20, 25)\n",
        "\n",
        "    return keep\n",
        "\n",
        "\n",
        "def compute_grayscale(input_pixels, width, height):\n",
        "    grayscale = np.empty((width, height))\n",
        "    for x in range(width):\n",
        "        for y in range(height):\n",
        "            pixel = input_pixels[x, y]\n",
        "            grayscale[x, y] = (pixel[0] + pixel[1] + pixel[2]) / 3\n",
        "    return grayscale\n",
        "\n",
        "\n",
        "def compute_blur(input_pixels, width, height):\n",
        "    # Keep coordinate inside image\n",
        "    clip = lambda x, l, u: l if x < l else u if x > u else x\n",
        "\n",
        "    # Gaussian kernel\n",
        "    kernel = np.array([\n",
        "        [1 / 256,  4 / 256,  6 / 256,  4 / 256, 1 / 256],\n",
        "        [4 / 256, 16 / 256, 24 / 256, 16 / 256, 4 / 256],\n",
        "        [6 / 256, 24 / 256, 36 / 256, 24 / 256, 6 / 256],\n",
        "        [4 / 256, 16 / 256, 24 / 256, 16 / 256, 4 / 256],\n",
        "        [1 / 256,  4 / 256,  6 / 256,  4 / 256, 1 / 256]\n",
        "    ])\n",
        "\n",
        "    # Middle of the kernel\n",
        "    offset = len(kernel) // 2\n",
        "\n",
        "    # Compute the blurred image\n",
        "    blurred = np.empty((width, height))\n",
        "    for x in range(width):\n",
        "        for y in range(height):\n",
        "            acc = 0\n",
        "            for a in range(len(kernel)):\n",
        "                for b in range(len(kernel)):\n",
        "                    xn = clip(x + a - offset, 0, width - 1)\n",
        "                    yn = clip(y + b - offset, 0, height - 1)\n",
        "                    acc += input_pixels[xn, yn] * kernel[a, b]\n",
        "            blurred[x, y] = int(acc)\n",
        "    return blurred\n",
        "\n",
        "\n",
        "def compute_gradient(input_pixels, width, height):\n",
        "    gradient = np.zeros((width, height))\n",
        "    direction = np.zeros((width, height))\n",
        "    for x in range(width):\n",
        "        for y in range(height):\n",
        "            if 0 < x < width - 1 and 0 < y < height - 1:\n",
        "                magx = input_pixels[x + 1, y] - input_pixels[x - 1, y]\n",
        "                magy = input_pixels[x, y + 1] - input_pixels[x, y - 1]\n",
        "                gradient[x, y] = sqrt(magx**2 + magy**2)\n",
        "                direction[x, y] = atan2(magy, magx)\n",
        "    return gradient, direction\n",
        "\n",
        "\n",
        "def filter_out_non_maximum(gradient, direction, width, height):\n",
        "    for x in range(1, width - 1):\n",
        "        for y in range(1, height - 1):\n",
        "            angle = direction[x, y] if direction[x, y] >= 0 else direction[x, y] + pi\n",
        "            rangle = round(angle / (pi / 4))\n",
        "            mag = gradient[x, y]\n",
        "            if ((rangle == 0 or rangle == 4) and (gradient[x - 1, y] > mag or gradient[x + 1, y] > mag)\n",
        "                    or (rangle == 1 and (gradient[x - 1, y - 1] > mag or gradient[x + 1, y + 1] > mag))\n",
        "                    or (rangle == 2 and (gradient[x, y - 1] > mag or gradient[x, y + 1] > mag))\n",
        "                    or (rangle == 3 and (gradient[x + 1, y - 1] > mag or gradient[x - 1, y + 1] > mag))):\n",
        "                gradient[x, y] = 0\n",
        "\n",
        "\n",
        "def filter_strong_edges(gradient, width, height, low, high):\n",
        "    # Keep strong edges\n",
        "    keep = set()\n",
        "    for x in range(width):\n",
        "        for y in range(height):\n",
        "            if gradient[x, y] > high:\n",
        "                keep.add((x, y))\n",
        "\n",
        "    # Keep weak edges next to a pixel to keep\n",
        "    lastiter = keep\n",
        "    while lastiter:\n",
        "        newkeep = set()\n",
        "        for x, y in lastiter:\n",
        "            for a, b in ((-1, -1), (-1, 0), (-1, 1), (0, -1), (0, 1), (1, -1), (1, 0), (1, 1)):\n",
        "                if gradient[x + a, y + b] > low and (x+a, y+b) not in keep:\n",
        "                    newkeep.add((x+a, y+b))\n",
        "        keep.update(newkeep)\n",
        "        lastiter = newkeep\n",
        "\n",
        "    return list(keep)\n",
        "\n",
        "\n",
        "class MyLabelBinarizer(LabelBinarizer):\n",
        "    def transform(self, y):\n",
        "        Y = super().transform(y)\n",
        "        if self.y_type_ == 'binary':\n",
        "            return np.hstack((Y, 1-Y))\n",
        "        else:\n",
        "            return Y\n",
        "    def inverse_transform(self, Y, threshold=None):\n",
        "        if self.y_type_ == 'binary':\n",
        "            return super().inverse_transform(Y[:, 0], threshold)\n",
        "        else:\n",
        "            return super().inverse_transform(Y, threshold)\n",
        "\n",
        "def get_iou(bb1, bb2):\n",
        "    assert bb1['x1'] < bb1['x2']\n",
        "    assert bb1['y1'] < bb1['y2']\n",
        "    assert bb2['x1'] < bb2['x2']\n",
        "    assert bb2['y1'] < bb2['y2']\n",
        "    x_left = max(bb1['x1'], bb2['x1'])\n",
        "    y_top = max(bb1['y1'], bb2['y1'])\n",
        "    x_right = min(bb1['x2'], bb2['x2'])\n",
        "    y_bottom = min(bb1['y2'], bb2['y2'])\n",
        "    if x_right < x_left or y_bottom < y_top:\n",
        "        return 0.0\n",
        "    intersection_area = (x_right - x_left) * (y_bottom - y_top)\n",
        "    bb1_area = (bb1['x2'] - bb1['x1']) * (bb1['y2'] - bb1['y1'])\n",
        "    bb2_area = (bb2['x2'] - bb2['x1']) * (bb2['y2'] - bb2['y1'])\n",
        "    iou = intersection_area / float(bb1_area + bb2_area - intersection_area)\n",
        "    assert iou >= 0.0\n",
        "    assert iou <= 1.0\n",
        "    return iou"
      ]
    },
    {
      "cell_type": "code",
      "execution_count": null,
      "metadata": {
        "id": "zO-Ns8Da6qD7"
      },
      "outputs": [],
      "source": [
        "class Data_Loader():\n",
        "\n",
        "    def __init__(self, data_file_path, label_file_path, n_images):\n",
        "        self.data_file_path = data_file_path\n",
        "        self.label_file_path = label_file_path\n",
        "        self.n_images = n_images\n",
        "#        self.chart_type = chart_type  # Added chart_type as an attribute\n",
        "\n",
        "    def load_image_data(self):\n",
        "        X = []\n",
        "        Y = []\n",
        "\n",
        "        for file in os.listdir(self.data_file_path):\n",
        "            file_path = os.path.join(self.data_file_path, file)\n",
        "\n",
        "            if file.endswith('.jpg'):\n",
        "                img_annotations = self.__load_annotations(file)\n",
        "\n",
        "                # Check if annotations exist and if chart-type matches self.chart_type\n",
        "                if img_annotations is not None:\n",
        "                    Y.append(img_annotations)\n",
        "                    img = cv2.imread(file_path)\n",
        "                    img = np.array(img, dtype=np.float16)\n",
        "                    X.append(img)\n",
        "\n",
        "                # Stop if enough images are loaded\n",
        "                if len(X) >= self.n_images:\n",
        "                    return X, Y\n",
        "\n",
        "        return X, Y\n",
        "\n",
        "    def __load_annotations(self, image_file_name):\n",
        "        file_name = image_file_name.split('.jpg')[0]\n",
        "        json_file_name = file_name + '.json'\n",
        "        json_file_path = os.path.join(self.label_file_path, json_file_name)\n",
        "\n",
        "        if os.path.isfile(json_file_path):\n",
        "            with open(json_file_path) as f:\n",
        "                return json.load(f)\n",
        "\n",
        "        else:\n",
        "            return None"
      ]
    },
    {
      "cell_type": "code",
      "execution_count": null,
      "metadata": {
        "id": "kWj7rnMG6tfL",
        "colab": {
          "base_uri": "https://localhost:8080/"
        },
        "outputId": "879f06e9-87ad-4bea-fbb3-ef81fab65110"
      },
      "outputs": [
        {
          "output_type": "stream",
          "name": "stdout",
          "text": [
            "Downloading https://github.com/ultralytics/assets/releases/download/v0.0.0/yolov8n.pt to 'yolov8n.pt'...\n"
          ]
        },
        {
          "output_type": "stream",
          "name": "stderr",
          "text": [
            "100%|██████████| 6.23M/6.23M [00:00<00:00, 108MB/s]\n"
          ]
        }
      ],
      "source": [
        "#YOLO (You Only Look Once) is a popular deep learning algorithm used for real-time object detection\n",
        "model = YOLO('yolov8n.pt')\n",
        "#Selective Search is a technique that tries to identify potential bounding boxes or “regions of\n",
        "#interest” in an image where objects might be located.\n",
        "ss = cv2.ximgproc.segmentation.createSelectiveSearchSegmentation()\n"
      ]
    },
    {
      "cell_type": "code",
      "execution_count": null,
      "metadata": {
        "colab": {
          "base_uri": "https://localhost:8080/"
        },
        "id": "qop3Bsa07d56",
        "outputId": "15012dc1-0a05-46b2-d334-a0e2b8eaf7f2"
      },
      "outputs": [
        {
          "output_type": "stream",
          "name": "stdout",
          "text": [
            "Downloading benetech-making-graphs-accessible.zip to /content\n",
            " 99% 969M/982M [00:08<00:00, 111MB/s]\n",
            "100% 982M/982M [00:08<00:00, 119MB/s]\n"
          ]
        }
      ],
      "source": [
        "#Load data from Kaggle\n",
        "!pip install -U -q kaggle\n",
        "!mkdir -p ~/.kaggle\n",
        "!echo '{\"username\":\"angel80423\",\"key\":\"f5a347582d10b1f9f45bc7bb61ab390b\"}' > ~/.kaggle/kaggle.json\n",
        "!chmod 600 ~/.kaggle/kaggle.json\n",
        "!kaggle competitions download -c benetech-making-graphs-accessible"
      ]
    },
    {
      "cell_type": "code",
      "execution_count": null,
      "metadata": {
        "id": "143jh3ko7f8P"
      },
      "outputs": [],
      "source": [
        "!unzip -q benetech-making-graphs-accessible.zip -d ./"
      ]
    },
    {
      "cell_type": "code",
      "execution_count": null,
      "metadata": {
        "id": "bK0kLsXn7xun"
      },
      "outputs": [],
      "source": [
        "data_file_path = '/content/train/images'\n",
        "label_file_path = '/content/train/annotations'"
      ]
    },
    {
      "cell_type": "code",
      "execution_count": null,
      "metadata": {
        "id": "TnzbiBKW71b7"
      },
      "outputs": [],
      "source": [
        "n_images = 20000\n",
        "#chart_type='scatter'\n",
        "\n",
        "# Load in raw data\n",
        "X_raw, Y_raw = Data_Loader(data_file_path,\n",
        "                           label_file_path, n_images).load_image_data()\n"
      ]
    },
    {
      "cell_type": "code",
      "execution_count": null,
      "metadata": {
        "id": "VL0oYScj8m_x"
      },
      "outputs": [],
      "source": [
        "class Image_Processor():\n",
        "\n",
        "    def __init__(self, images):\n",
        "        self.images = images\n",
        "        self.min_width, self.min_height = self.__find_smallest_image_width_and_height()\n",
        "        self.resized_images = self.__resize_images()\n",
        "\n",
        "\n",
        "    def __resize_images(self):\n",
        "\n",
        "        X_resized = []\n",
        "\n",
        "        for img in self.images:\n",
        "            X_resized.append(tf.image.resize(img,\n",
        "                                             size=(self.min_width, self.min_height)))\n",
        "\n",
        "        return np.array(X_resized, dtype=np.float16)\n",
        "\n",
        "\n",
        "    def __find_smallest_image_width_and_height(self):\n",
        "\n",
        "        min_width = np.size(self.images[0], 0)\n",
        "        min_height = np.size(self.images[0], 1)\n",
        "\n",
        "        for img in self.images[1:]:\n",
        "\n",
        "            if np.size(img, 0) < min_width:\n",
        "                min_width = np.size(img, 0)\n",
        "\n",
        "            if np.size(img, 1) < min_height:\n",
        "                min_height = np.size(img, 1)\n",
        "\n",
        "        return min_width, min_height"
      ]
    },
    {
      "cell_type": "code",
      "execution_count": null,
      "metadata": {
        "id": "GhkPCMAi8wyM"
      },
      "outputs": [],
      "source": [
        "X_processed = Image_Processor(X_raw)\n",
        "X_resized = X_processed.resized_images\n",
        "X_gray = X_resized / 255.0"
      ]
    },
    {
      "cell_type": "code",
      "execution_count": null,
      "metadata": {
        "id": "vpaAlFDH91-B",
        "colab": {
          "base_uri": "https://localhost:8080/"
        },
        "outputId": "9be789e9-265f-4bea-f927-15b853ab1cd7"
      },
      "outputs": [
        {
          "output_type": "execute_result",
          "data": {
            "text/plain": [
              "(20000, 136, 318, 3)"
            ]
          },
          "metadata": {},
          "execution_count": 12
        }
      ],
      "source": [
        "X_resized.shape"
      ]
    },
    {
      "cell_type": "code",
      "execution_count": null,
      "metadata": {
        "id": "mQ2OLqz_8y7y"
      },
      "outputs": [],
      "source": [
        "class Data_Loader():\n",
        "    def __init__(self, data_file_path, label_file_path, n_images):\n",
        "\n",
        "        self.data_file_path = data_file_path\n",
        "        self.label_file_path = label_file_path\n",
        "        self.n_images = n_images\n",
        "\n",
        "\n",
        "    def load_image_data(self):\n",
        "        X = []\n",
        "        Y = []\n",
        "        for file in os.listdir(self.data_file_path):\n",
        "            file_path = os.path.join(self.data_file_path, file)\n",
        "            if file.endswith('.jpg'):\n",
        "                img_annotations = self.__load_annotations(file)\n",
        "                if img_annotations is not None:\n",
        "                    Y.append(img_annotations)\n",
        "                    img = cv2.imread(file_path)\n",
        "                    X.append(img)\n",
        "                if len(X) >= self.n_images :\n",
        "                    return X, Y\n",
        "        return X, Y\n",
        "\n",
        "\n",
        "    def __load_annotations(self, image_file_name):\n",
        "        file_name = image_file_name.split('.jpg')[0]\n",
        "        json_file_name = file_name + '.json'\n",
        "        json_file_path = os.path.join(self.label_file_path, json_file_name)\n",
        "        if os.path.isfile(json_file_path):\n",
        "            f = open(json_file_path)\n",
        "            return json.load(f)\n",
        "        else:\n",
        "            return None\n"
      ]
    },
    {
      "cell_type": "code",
      "execution_count": null,
      "metadata": {
        "id": "cA9Vtn1z8-9Y"
      },
      "outputs": [],
      "source": [
        "def build_model(input_shape):\n",
        "\n",
        "    model = tf.keras.Sequential()\n",
        "\n",
        "    # add first convolution layer to the model\n",
        "    model.add(tf.keras.layers.Conv2D(\n",
        "        filters=64,\n",
        "        kernel_size=(7, 7),\n",
        "        strides=(2, 2),\n",
        "        padding='same',\n",
        "        data_format='channels_last',\n",
        "        name='conv_1',\n",
        "        activation='relu'))\n",
        "\n",
        "\n",
        "    # add a max pooling layer with pool size (2,2) and strides of 2\n",
        "    # (this will reduce the spatial dimensions by half)\n",
        "    model.add(tf.keras.layers.MaxPool2D(\n",
        "        pool_size=(2, 2),\n",
        "        name='pool_1'))\n",
        "\n",
        "    # add first convolution layer to the model\n",
        "    model.add(tf.keras.layers.Conv2D(\n",
        "        filters=32,\n",
        "        kernel_size=(5, 5),\n",
        "        strides=(1, 1),\n",
        "        padding='same',\n",
        "        data_format='channels_last',\n",
        "        name='conv_2',\n",
        "        activation='relu'))\n",
        "\n",
        "    model.add(tf.keras.layers.MaxPool2D(\n",
        "      pool_size=(2, 2),\n",
        "      name='pool_2'))\n",
        "\n",
        "      # add first convolution layer to the model\n",
        "    model.add(tf.keras.layers.Conv2D(\n",
        "        filters=16,\n",
        "        kernel_size=(3, 3),\n",
        "        strides=(1, 1),\n",
        "        padding='same',\n",
        "        data_format='channels_last',\n",
        "        name='conv_3',\n",
        "        activation='relu'))\n",
        "\n",
        "    model.add(tf.keras.layers.MaxPool2D(\n",
        "      pool_size=(2, 2),\n",
        "      name='pool_3'))\n",
        "\n",
        "    # add second convolutional layer\n",
        "    # model.add(tf.keras.layers.Conv2D(\n",
        "    #     filters=64,\n",
        "    #     kernel_size=(5, 5),\n",
        "    #     strides=(1, 1),\n",
        "    #     padding='same',\n",
        "    #     name='conv_2',\n",
        "    #     activation='relu'))\n",
        "\n",
        "    # # add second max pooling layer with pool size (2,2) and strides of 2\n",
        "    # # (this will further reduce the spatial dimensions by half)\n",
        "    # model.add(tf.keras.layers.MaxPool2D(\n",
        "    #     pool_size=(2, 2), name='pool_2')\n",
        "    # )\n",
        "\n",
        "\n",
        "    # add a fully connected layer (need to flatten the output of the previous layers first)\n",
        "    model.add(tf.keras.layers.Flatten())\n",
        "    model.add(tf.keras.layers.Dense(\n",
        "        units=16,\n",
        "        name='fc_1',\n",
        "        activation='relu'))\n",
        "\n",
        "    # add dropout layer\n",
        "    model.add(tf.keras.layers.Dropout(rate=0.2))\n",
        "\n",
        "    # add the last fully connected layer\n",
        "    # this last layer sets the activation function to \"None\" in order to output the logits\n",
        "    # note that passing activation = \"sigmoid\" will return class memembership probabilities but\n",
        "    # in TensorFlow logits are prefered for numerical stability\n",
        "    # set units=1 to get a single output unit (remember it's a binary classification problem)\n",
        "    model.add(tf.keras.layers.Dense(\n",
        "        units=5,\n",
        "        name='fc_2',\n",
        "        activation=None))\n",
        "\n",
        "    model.build(input_shape=input_shape)\n",
        "\n",
        "    return model"
      ]
    },
    {
      "cell_type": "code",
      "execution_count": null,
      "metadata": {
        "id": "YKyl3hFA9whe",
        "colab": {
          "base_uri": "https://localhost:8080/"
        },
        "outputId": "88fea749-e4c2-48e3-88e8-4f90a8f35ea2"
      },
      "outputs": [
        {
          "output_type": "execute_result",
          "data": {
            "text/plain": [
              "(20000, 136, 318, 3)"
            ]
          },
          "metadata": {},
          "execution_count": 15
        }
      ],
      "source": [
        "X_gray.shape\n",
        "#X_gray = np.array(X_gray, dtype=np.float16)"
      ]
    },
    {
      "cell_type": "code",
      "execution_count": null,
      "metadata": {
        "colab": {
          "base_uri": "https://localhost:8080/"
        },
        "id": "fzJ5CiQc9Axg",
        "outputId": "6d3a0c5d-9b83-4c93-e42d-fcaf1a74fa46"
      },
      "outputs": [
        {
          "output_type": "stream",
          "name": "stdout",
          "text": [
            "Epoch 1/150\n",
            "250/250 [==============================] - 17s 21ms/step - loss: 0.9001 - accuracy: 0.6025 - val_loss: 0.4287 - val_accuracy: 0.8023\n",
            "Epoch 2/150\n",
            "250/250 [==============================] - 5s 19ms/step - loss: 0.3897 - accuracy: 0.8454 - val_loss: 0.2008 - val_accuracy: 0.9385\n",
            "Epoch 3/150\n",
            "250/250 [==============================] - 5s 19ms/step - loss: 0.2329 - accuracy: 0.9127 - val_loss: 0.1387 - val_accuracy: 0.9620\n",
            "Epoch 4/150\n",
            "250/250 [==============================] - 5s 19ms/step - loss: 0.1687 - accuracy: 0.9391 - val_loss: 0.1130 - val_accuracy: 0.9685\n",
            "Epoch 5/150\n",
            "250/250 [==============================] - 5s 19ms/step - loss: 0.1309 - accuracy: 0.9508 - val_loss: 0.0767 - val_accuracy: 0.9833\n",
            "Epoch 6/150\n",
            "250/250 [==============================] - 5s 19ms/step - loss: 0.1564 - accuracy: 0.9461 - val_loss: 0.1081 - val_accuracy: 0.9762\n",
            "Epoch 7/150\n",
            "250/250 [==============================] - 5s 19ms/step - loss: 0.1158 - accuracy: 0.9672 - val_loss: 0.0756 - val_accuracy: 0.9850\n",
            "Epoch 8/150\n",
            "250/250 [==============================] - 5s 19ms/step - loss: 0.0886 - accuracy: 0.9729 - val_loss: 0.0693 - val_accuracy: 0.9868\n",
            "Epoch 9/150\n",
            "250/250 [==============================] - 5s 19ms/step - loss: 0.0790 - accuracy: 0.9749 - val_loss: 0.0844 - val_accuracy: 0.9868\n",
            "Epoch 10/150\n",
            "250/250 [==============================] - 5s 19ms/step - loss: 0.0707 - accuracy: 0.9779 - val_loss: 0.0957 - val_accuracy: 0.9827\n",
            "Epoch 11/150\n",
            "250/250 [==============================] - 5s 19ms/step - loss: 0.0639 - accuracy: 0.9808 - val_loss: 0.0732 - val_accuracy: 0.9895\n",
            "Epoch 12/150\n",
            "250/250 [==============================] - 5s 19ms/step - loss: 0.0638 - accuracy: 0.9805 - val_loss: 0.0756 - val_accuracy: 0.9862\n",
            "Epoch 13/150\n",
            "250/250 [==============================] - 5s 19ms/step - loss: 0.0593 - accuracy: 0.9808 - val_loss: 0.0750 - val_accuracy: 0.9890\n",
            "Epoch 14/150\n",
            "250/250 [==============================] - 5s 19ms/step - loss: 0.0650 - accuracy: 0.9781 - val_loss: 0.0771 - val_accuracy: 0.9890\n",
            "Epoch 15/150\n",
            "250/250 [==============================] - 5s 19ms/step - loss: 0.0540 - accuracy: 0.9812 - val_loss: 0.0900 - val_accuracy: 0.9905\n",
            "Epoch 16/150\n",
            "250/250 [==============================] - 5s 19ms/step - loss: 0.0548 - accuracy: 0.9814 - val_loss: 0.0838 - val_accuracy: 0.9887\n",
            "Epoch 17/150\n",
            "250/250 [==============================] - 5s 19ms/step - loss: 0.0673 - accuracy: 0.9764 - val_loss: 0.0696 - val_accuracy: 0.9900\n",
            "Epoch 18/150\n",
            "250/250 [==============================] - 5s 19ms/step - loss: 0.0493 - accuracy: 0.9822 - val_loss: 0.0701 - val_accuracy: 0.9898\n",
            "Epoch 19/150\n",
            "250/250 [==============================] - 5s 19ms/step - loss: 0.0533 - accuracy: 0.9809 - val_loss: 0.0897 - val_accuracy: 0.9900\n",
            "Epoch 20/150\n",
            "250/250 [==============================] - 5s 19ms/step - loss: 0.0471 - accuracy: 0.9839 - val_loss: 0.1424 - val_accuracy: 0.9775\n",
            "Epoch 21/150\n",
            "250/250 [==============================] - 5s 19ms/step - loss: 0.0610 - accuracy: 0.9794 - val_loss: 0.0889 - val_accuracy: 0.9905\n",
            "Epoch 22/150\n",
            "250/250 [==============================] - 5s 19ms/step - loss: 0.0779 - accuracy: 0.9724 - val_loss: 0.0905 - val_accuracy: 0.9883\n",
            "Epoch 23/150\n",
            "250/250 [==============================] - 5s 19ms/step - loss: 0.0461 - accuracy: 0.9841 - val_loss: 0.0827 - val_accuracy: 0.9912\n",
            "Epoch 24/150\n",
            "250/250 [==============================] - 5s 19ms/step - loss: 0.0430 - accuracy: 0.9856 - val_loss: 0.0704 - val_accuracy: 0.9912\n",
            "Epoch 25/150\n",
            "250/250 [==============================] - 5s 19ms/step - loss: 0.0392 - accuracy: 0.9868 - val_loss: 0.0779 - val_accuracy: 0.9902\n",
            "Epoch 26/150\n",
            "250/250 [==============================] - 5s 19ms/step - loss: 0.0426 - accuracy: 0.9858 - val_loss: 0.0597 - val_accuracy: 0.9915\n",
            "Epoch 27/150\n",
            "250/250 [==============================] - 5s 19ms/step - loss: 0.0398 - accuracy: 0.9868 - val_loss: 0.0655 - val_accuracy: 0.9893\n",
            "Epoch 28/150\n",
            "250/250 [==============================] - 5s 19ms/step - loss: 0.0385 - accuracy: 0.9872 - val_loss: 0.0746 - val_accuracy: 0.9898\n",
            "Epoch 29/150\n",
            "250/250 [==============================] - 5s 19ms/step - loss: 0.0412 - accuracy: 0.9862 - val_loss: 0.0672 - val_accuracy: 0.9915\n",
            "Epoch 30/150\n",
            "250/250 [==============================] - 5s 19ms/step - loss: 0.0435 - accuracy: 0.9866 - val_loss: 0.0816 - val_accuracy: 0.9908\n",
            "Epoch 31/150\n",
            "250/250 [==============================] - 5s 19ms/step - loss: 0.0430 - accuracy: 0.9858 - val_loss: 0.0618 - val_accuracy: 0.9900\n",
            "Epoch 32/150\n",
            "250/250 [==============================] - 5s 19ms/step - loss: 0.0434 - accuracy: 0.9858 - val_loss: 0.0710 - val_accuracy: 0.9902\n",
            "Epoch 33/150\n",
            "250/250 [==============================] - 5s 19ms/step - loss: 0.0374 - accuracy: 0.9879 - val_loss: 0.0578 - val_accuracy: 0.9923\n",
            "Epoch 34/150\n",
            "250/250 [==============================] - 5s 19ms/step - loss: 0.0400 - accuracy: 0.9881 - val_loss: 0.0719 - val_accuracy: 0.9912\n",
            "Epoch 35/150\n",
            "250/250 [==============================] - 5s 19ms/step - loss: 0.0493 - accuracy: 0.9854 - val_loss: 0.0645 - val_accuracy: 0.9902\n",
            "Epoch 36/150\n",
            "250/250 [==============================] - 5s 19ms/step - loss: 0.0377 - accuracy: 0.9887 - val_loss: 0.0684 - val_accuracy: 0.9918\n",
            "Epoch 37/150\n",
            "250/250 [==============================] - 5s 19ms/step - loss: 0.0327 - accuracy: 0.9907 - val_loss: 0.0604 - val_accuracy: 0.9920\n",
            "Epoch 38/150\n",
            "250/250 [==============================] - 5s 19ms/step - loss: 0.0454 - accuracy: 0.9884 - val_loss: 0.0721 - val_accuracy: 0.9880\n",
            "Epoch 39/150\n",
            "250/250 [==============================] - 5s 19ms/step - loss: 0.0585 - accuracy: 0.9825 - val_loss: 0.0991 - val_accuracy: 0.9862\n",
            "Epoch 40/150\n",
            "250/250 [==============================] - 5s 19ms/step - loss: 0.0400 - accuracy: 0.9879 - val_loss: 0.0891 - val_accuracy: 0.9908\n",
            "Epoch 41/150\n",
            "250/250 [==============================] - 5s 19ms/step - loss: 0.0307 - accuracy: 0.9912 - val_loss: 0.0899 - val_accuracy: 0.9920\n",
            "Epoch 42/150\n",
            "250/250 [==============================] - 5s 19ms/step - loss: 0.0351 - accuracy: 0.9903 - val_loss: 0.0944 - val_accuracy: 0.9923\n",
            "Epoch 43/150\n",
            "250/250 [==============================] - 5s 19ms/step - loss: 0.0306 - accuracy: 0.9900 - val_loss: 0.1207 - val_accuracy: 0.9910\n",
            "Epoch 44/150\n",
            "250/250 [==============================] - 5s 19ms/step - loss: 0.0346 - accuracy: 0.9900 - val_loss: 0.1024 - val_accuracy: 0.9908\n",
            "Epoch 45/150\n",
            "250/250 [==============================] - 5s 19ms/step - loss: 0.0300 - accuracy: 0.9917 - val_loss: 0.0840 - val_accuracy: 0.9915\n",
            "Epoch 46/150\n",
            "250/250 [==============================] - 5s 19ms/step - loss: 0.0322 - accuracy: 0.9908 - val_loss: 0.0811 - val_accuracy: 0.9925\n",
            "Epoch 47/150\n",
            "250/250 [==============================] - 5s 19ms/step - loss: 0.0324 - accuracy: 0.9908 - val_loss: 0.0980 - val_accuracy: 0.9858\n",
            "Epoch 48/150\n",
            "250/250 [==============================] - 5s 19ms/step - loss: 0.0353 - accuracy: 0.9894 - val_loss: 0.0878 - val_accuracy: 0.9923\n",
            "Epoch 49/150\n",
            "250/250 [==============================] - 5s 19ms/step - loss: 0.0427 - accuracy: 0.9867 - val_loss: 0.0642 - val_accuracy: 0.9915\n",
            "Epoch 50/150\n",
            "250/250 [==============================] - 5s 19ms/step - loss: 0.0414 - accuracy: 0.9883 - val_loss: 0.0696 - val_accuracy: 0.9915\n",
            "Epoch 51/150\n",
            "250/250 [==============================] - 5s 19ms/step - loss: 0.0335 - accuracy: 0.9901 - val_loss: 0.0701 - val_accuracy: 0.9940\n",
            "Epoch 52/150\n",
            "250/250 [==============================] - 5s 19ms/step - loss: 0.0323 - accuracy: 0.9912 - val_loss: 0.0723 - val_accuracy: 0.9930\n",
            "Epoch 53/150\n",
            "250/250 [==============================] - 5s 19ms/step - loss: 0.0280 - accuracy: 0.9919 - val_loss: 0.0742 - val_accuracy: 0.9920\n",
            "Epoch 54/150\n",
            "250/250 [==============================] - 5s 19ms/step - loss: 0.0345 - accuracy: 0.9902 - val_loss: 0.0714 - val_accuracy: 0.9908\n",
            "Epoch 55/150\n",
            "250/250 [==============================] - 5s 19ms/step - loss: 0.0345 - accuracy: 0.9902 - val_loss: 0.0637 - val_accuracy: 0.9937\n",
            "Epoch 56/150\n",
            "250/250 [==============================] - 5s 19ms/step - loss: 0.0321 - accuracy: 0.9902 - val_loss: 0.0633 - val_accuracy: 0.9883\n",
            "Epoch 57/150\n",
            "250/250 [==============================] - 5s 19ms/step - loss: 0.0316 - accuracy: 0.9903 - val_loss: 0.0713 - val_accuracy: 0.9933\n",
            "Epoch 58/150\n",
            "250/250 [==============================] - 5s 19ms/step - loss: 0.0305 - accuracy: 0.9915 - val_loss: 0.0804 - val_accuracy: 0.9923\n",
            "Epoch 59/150\n",
            "250/250 [==============================] - 5s 19ms/step - loss: 0.0399 - accuracy: 0.9894 - val_loss: 0.0713 - val_accuracy: 0.9918\n",
            "Epoch 60/150\n",
            "250/250 [==============================] - 5s 19ms/step - loss: 0.0323 - accuracy: 0.9904 - val_loss: 0.0752 - val_accuracy: 0.9918\n",
            "Epoch 61/150\n",
            "250/250 [==============================] - 5s 19ms/step - loss: 0.0279 - accuracy: 0.9915 - val_loss: 0.0713 - val_accuracy: 0.9933\n",
            "Epoch 62/150\n",
            "250/250 [==============================] - 5s 19ms/step - loss: 0.0350 - accuracy: 0.9908 - val_loss: 0.1194 - val_accuracy: 0.9910\n",
            "Epoch 63/150\n",
            "250/250 [==============================] - 5s 19ms/step - loss: 0.0302 - accuracy: 0.9917 - val_loss: 0.1253 - val_accuracy: 0.9918\n",
            "Epoch 64/150\n",
            "250/250 [==============================] - 5s 19ms/step - loss: 0.0319 - accuracy: 0.9911 - val_loss: 0.0753 - val_accuracy: 0.9927\n",
            "Epoch 65/150\n",
            "250/250 [==============================] - 5s 19ms/step - loss: 0.0357 - accuracy: 0.9901 - val_loss: 0.0827 - val_accuracy: 0.9915\n",
            "Epoch 66/150\n",
            "250/250 [==============================] - 5s 19ms/step - loss: 0.0398 - accuracy: 0.9881 - val_loss: 0.0786 - val_accuracy: 0.9908\n",
            "Epoch 67/150\n",
            "250/250 [==============================] - 5s 19ms/step - loss: 0.0279 - accuracy: 0.9924 - val_loss: 0.0770 - val_accuracy: 0.9925\n",
            "Epoch 68/150\n",
            "250/250 [==============================] - 5s 19ms/step - loss: 0.0330 - accuracy: 0.9908 - val_loss: 0.0657 - val_accuracy: 0.9920\n",
            "Epoch 69/150\n",
            "250/250 [==============================] - 5s 19ms/step - loss: 0.0350 - accuracy: 0.9887 - val_loss: 0.0886 - val_accuracy: 0.9923\n",
            "Epoch 70/150\n",
            "250/250 [==============================] - 5s 19ms/step - loss: 0.0259 - accuracy: 0.9916 - val_loss: 0.0718 - val_accuracy: 0.9937\n",
            "Epoch 71/150\n",
            "250/250 [==============================] - 5s 19ms/step - loss: 0.0280 - accuracy: 0.9911 - val_loss: 0.0750 - val_accuracy: 0.9927\n",
            "Epoch 72/150\n",
            "250/250 [==============================] - 5s 19ms/step - loss: 0.0228 - accuracy: 0.9923 - val_loss: 0.0783 - val_accuracy: 0.9930\n",
            "Epoch 73/150\n",
            "250/250 [==============================] - 5s 19ms/step - loss: 0.0178 - accuracy: 0.9943 - val_loss: 0.0822 - val_accuracy: 0.9935\n",
            "Epoch 74/150\n",
            "250/250 [==============================] - 5s 19ms/step - loss: 0.0264 - accuracy: 0.9926 - val_loss: 0.0741 - val_accuracy: 0.9933\n",
            "Epoch 75/150\n",
            "250/250 [==============================] - 5s 19ms/step - loss: 0.0206 - accuracy: 0.9934 - val_loss: 0.0854 - val_accuracy: 0.9912\n",
            "Epoch 76/150\n",
            "250/250 [==============================] - 5s 19ms/step - loss: 0.0350 - accuracy: 0.9898 - val_loss: 0.0872 - val_accuracy: 0.9900\n",
            "Epoch 77/150\n",
            "250/250 [==============================] - 5s 19ms/step - loss: 0.0198 - accuracy: 0.9934 - val_loss: 0.0839 - val_accuracy: 0.9937\n",
            "Epoch 78/150\n",
            "250/250 [==============================] - 5s 19ms/step - loss: 0.0171 - accuracy: 0.9944 - val_loss: 0.0740 - val_accuracy: 0.9930\n",
            "Epoch 79/150\n",
            "250/250 [==============================] - 5s 19ms/step - loss: 0.0158 - accuracy: 0.9946 - val_loss: 0.0770 - val_accuracy: 0.9937\n",
            "Epoch 80/150\n",
            "250/250 [==============================] - 5s 19ms/step - loss: 0.0147 - accuracy: 0.9948 - val_loss: 0.0823 - val_accuracy: 0.9930\n",
            "Epoch 81/150\n",
            "250/250 [==============================] - 5s 19ms/step - loss: 0.0142 - accuracy: 0.9949 - val_loss: 0.0814 - val_accuracy: 0.9940\n",
            "Epoch 82/150\n",
            "250/250 [==============================] - 5s 19ms/step - loss: 0.0134 - accuracy: 0.9956 - val_loss: 0.0716 - val_accuracy: 0.9950\n",
            "Epoch 83/150\n",
            "250/250 [==============================] - 5s 19ms/step - loss: 0.0178 - accuracy: 0.9939 - val_loss: 0.2421 - val_accuracy: 0.9362\n",
            "Epoch 84/150\n",
            "250/250 [==============================] - 5s 19ms/step - loss: 0.0243 - accuracy: 0.9919 - val_loss: 0.0910 - val_accuracy: 0.9910\n",
            "Epoch 85/150\n",
            "250/250 [==============================] - 5s 19ms/step - loss: 0.0191 - accuracy: 0.9935 - val_loss: 0.0731 - val_accuracy: 0.9933\n",
            "Epoch 86/150\n",
            "250/250 [==============================] - 5s 19ms/step - loss: 0.0166 - accuracy: 0.9940 - val_loss: 0.0696 - val_accuracy: 0.9925\n",
            "Epoch 87/150\n",
            "250/250 [==============================] - 5s 19ms/step - loss: 0.0116 - accuracy: 0.9963 - val_loss: 0.0809 - val_accuracy: 0.9912\n",
            "Epoch 88/150\n",
            "250/250 [==============================] - 5s 19ms/step - loss: 0.0150 - accuracy: 0.9948 - val_loss: 0.0844 - val_accuracy: 0.9930\n",
            "Epoch 89/150\n",
            "250/250 [==============================] - 5s 19ms/step - loss: 0.0147 - accuracy: 0.9948 - val_loss: 0.0970 - val_accuracy: 0.9933\n",
            "Epoch 90/150\n",
            "250/250 [==============================] - 5s 19ms/step - loss: 0.0137 - accuracy: 0.9954 - val_loss: 0.0986 - val_accuracy: 0.9935\n",
            "Epoch 91/150\n",
            "250/250 [==============================] - 5s 19ms/step - loss: 0.0137 - accuracy: 0.9948 - val_loss: 0.1014 - val_accuracy: 0.9925\n",
            "Epoch 92/150\n",
            "250/250 [==============================] - 5s 19ms/step - loss: 0.0137 - accuracy: 0.9946 - val_loss: 0.0896 - val_accuracy: 0.9930\n",
            "Epoch 93/150\n",
            "250/250 [==============================] - 5s 19ms/step - loss: 0.0143 - accuracy: 0.9945 - val_loss: 0.0985 - val_accuracy: 0.9915\n",
            "Epoch 94/150\n",
            "250/250 [==============================] - 5s 19ms/step - loss: 0.0454 - accuracy: 0.9935 - val_loss: 0.0911 - val_accuracy: 0.9850\n",
            "Epoch 95/150\n",
            "250/250 [==============================] - 5s 20ms/step - loss: 0.0164 - accuracy: 0.9935 - val_loss: 0.0959 - val_accuracy: 0.9920\n",
            "Epoch 96/150\n",
            "250/250 [==============================] - 5s 19ms/step - loss: 0.0138 - accuracy: 0.9950 - val_loss: 0.0772 - val_accuracy: 0.9933\n",
            "Epoch 97/150\n",
            "250/250 [==============================] - 5s 19ms/step - loss: 0.0141 - accuracy: 0.9944 - val_loss: 0.0864 - val_accuracy: 0.9927\n",
            "Epoch 98/150\n",
            "250/250 [==============================] - 5s 19ms/step - loss: 0.0106 - accuracy: 0.9954 - val_loss: 0.0859 - val_accuracy: 0.9937\n",
            "Epoch 99/150\n",
            "250/250 [==============================] - 5s 19ms/step - loss: 0.0129 - accuracy: 0.9946 - val_loss: 0.0924 - val_accuracy: 0.9935\n",
            "Epoch 100/150\n",
            "250/250 [==============================] - 5s 20ms/step - loss: 0.0100 - accuracy: 0.9966 - val_loss: 0.0957 - val_accuracy: 0.9942\n",
            "Epoch 101/150\n",
            "250/250 [==============================] - 5s 19ms/step - loss: 0.0116 - accuracy: 0.9954 - val_loss: 0.0965 - val_accuracy: 0.9935\n",
            "Epoch 102/150\n",
            "250/250 [==============================] - 5s 19ms/step - loss: 0.0102 - accuracy: 0.9964 - val_loss: 0.0822 - val_accuracy: 0.9945\n",
            "Epoch 103/150\n",
            "250/250 [==============================] - 5s 19ms/step - loss: 0.0108 - accuracy: 0.9959 - val_loss: 0.0743 - val_accuracy: 0.9950\n",
            "Epoch 104/150\n",
            "250/250 [==============================] - 5s 19ms/step - loss: 0.0110 - accuracy: 0.9954 - val_loss: 0.0882 - val_accuracy: 0.9952\n",
            "Epoch 105/150\n",
            "250/250 [==============================] - 5s 19ms/step - loss: 0.0106 - accuracy: 0.9961 - val_loss: 0.0913 - val_accuracy: 0.9948\n",
            "Epoch 106/150\n",
            "250/250 [==============================] - 5s 19ms/step - loss: 0.0110 - accuracy: 0.9954 - val_loss: 0.1410 - val_accuracy: 0.9920\n",
            "Epoch 107/150\n",
            "250/250 [==============================] - 5s 19ms/step - loss: 0.0152 - accuracy: 0.9948 - val_loss: 0.0883 - val_accuracy: 0.9920\n",
            "Epoch 108/150\n",
            "250/250 [==============================] - 5s 20ms/step - loss: 0.0288 - accuracy: 0.9918 - val_loss: 0.0706 - val_accuracy: 0.9933\n",
            "Epoch 109/150\n",
            "250/250 [==============================] - 5s 19ms/step - loss: 0.0103 - accuracy: 0.9960 - val_loss: 0.0838 - val_accuracy: 0.9927\n",
            "Epoch 110/150\n",
            "250/250 [==============================] - 5s 19ms/step - loss: 0.0104 - accuracy: 0.9962 - val_loss: 0.0757 - val_accuracy: 0.9940\n",
            "Epoch 111/150\n",
            "250/250 [==============================] - 5s 19ms/step - loss: 0.0095 - accuracy: 0.9958 - val_loss: 0.0727 - val_accuracy: 0.9945\n",
            "Epoch 112/150\n",
            "250/250 [==============================] - 5s 19ms/step - loss: 0.0086 - accuracy: 0.9962 - val_loss: 0.0943 - val_accuracy: 0.9920\n",
            "Epoch 113/150\n",
            "250/250 [==============================] - 5s 20ms/step - loss: 0.0083 - accuracy: 0.9966 - val_loss: 0.0980 - val_accuracy: 0.9933\n",
            "Epoch 114/150\n",
            "250/250 [==============================] - 5s 19ms/step - loss: 0.0103 - accuracy: 0.9962 - val_loss: 0.0945 - val_accuracy: 0.9930\n",
            "Epoch 115/150\n",
            "250/250 [==============================] - 5s 19ms/step - loss: 0.0133 - accuracy: 0.9948 - val_loss: 0.1047 - val_accuracy: 0.9935\n",
            "Epoch 116/150\n",
            "250/250 [==============================] - 5s 20ms/step - loss: 0.0121 - accuracy: 0.9956 - val_loss: 0.1238 - val_accuracy: 0.9925\n",
            "Epoch 117/150\n",
            "250/250 [==============================] - 5s 20ms/step - loss: 0.0348 - accuracy: 0.9900 - val_loss: 0.0613 - val_accuracy: 0.9875\n",
            "Epoch 118/150\n",
            "250/250 [==============================] - 5s 20ms/step - loss: 0.0150 - accuracy: 0.9948 - val_loss: 0.0708 - val_accuracy: 0.9933\n",
            "Epoch 119/150\n",
            "250/250 [==============================] - 5s 19ms/step - loss: 0.0101 - accuracy: 0.9956 - val_loss: 0.0721 - val_accuracy: 0.9937\n",
            "Epoch 120/150\n",
            "250/250 [==============================] - 5s 20ms/step - loss: 0.0072 - accuracy: 0.9971 - val_loss: 0.0883 - val_accuracy: 0.9935\n",
            "Epoch 121/150\n",
            "250/250 [==============================] - 5s 20ms/step - loss: 0.0101 - accuracy: 0.9960 - val_loss: 0.0848 - val_accuracy: 0.9930\n",
            "Epoch 122/150\n",
            "250/250 [==============================] - 5s 20ms/step - loss: 0.0091 - accuracy: 0.9959 - val_loss: 0.0996 - val_accuracy: 0.9920\n",
            "Epoch 123/150\n",
            "250/250 [==============================] - 5s 20ms/step - loss: 0.0086 - accuracy: 0.9966 - val_loss: 0.0945 - val_accuracy: 0.9937\n",
            "Epoch 124/150\n",
            "250/250 [==============================] - 5s 20ms/step - loss: 0.0093 - accuracy: 0.9960 - val_loss: 0.0943 - val_accuracy: 0.9933\n",
            "Epoch 125/150\n",
            "250/250 [==============================] - 5s 19ms/step - loss: 0.0083 - accuracy: 0.9956 - val_loss: 0.0988 - val_accuracy: 0.9940\n",
            "Epoch 126/150\n",
            "250/250 [==============================] - 5s 20ms/step - loss: 0.0079 - accuracy: 0.9968 - val_loss: 0.1142 - val_accuracy: 0.9927\n",
            "Epoch 127/150\n",
            "250/250 [==============================] - 5s 19ms/step - loss: 0.0111 - accuracy: 0.9955 - val_loss: 0.1098 - val_accuracy: 0.9908\n",
            "Epoch 128/150\n",
            "250/250 [==============================] - 5s 20ms/step - loss: 0.0173 - accuracy: 0.9949 - val_loss: 0.0995 - val_accuracy: 0.9923\n",
            "Epoch 129/150\n",
            "250/250 [==============================] - 5s 20ms/step - loss: 0.0112 - accuracy: 0.9961 - val_loss: 0.0922 - val_accuracy: 0.9900\n",
            "Epoch 130/150\n",
            "250/250 [==============================] - 5s 20ms/step - loss: 0.0101 - accuracy: 0.9960 - val_loss: 0.0883 - val_accuracy: 0.9930\n",
            "Epoch 131/150\n",
            "250/250 [==============================] - 5s 20ms/step - loss: 0.0102 - accuracy: 0.9964 - val_loss: 0.0983 - val_accuracy: 0.9940\n",
            "Epoch 132/150\n",
            "250/250 [==============================] - 5s 20ms/step - loss: 0.0086 - accuracy: 0.9965 - val_loss: 0.0924 - val_accuracy: 0.9942\n",
            "Epoch 133/150\n",
            "250/250 [==============================] - 5s 20ms/step - loss: 0.0136 - accuracy: 0.9949 - val_loss: 0.1147 - val_accuracy: 0.9915\n",
            "Epoch 134/150\n",
            "250/250 [==============================] - 5s 20ms/step - loss: 0.0113 - accuracy: 0.9951 - val_loss: 0.0833 - val_accuracy: 0.9937\n",
            "Epoch 135/150\n",
            "250/250 [==============================] - 5s 20ms/step - loss: 0.0093 - accuracy: 0.9966 - val_loss: 0.0798 - val_accuracy: 0.9948\n",
            "Epoch 136/150\n",
            "250/250 [==============================] - 5s 19ms/step - loss: 0.0079 - accuracy: 0.9966 - val_loss: 0.1016 - val_accuracy: 0.9937\n",
            "Epoch 137/150\n",
            "250/250 [==============================] - 5s 20ms/step - loss: 0.0093 - accuracy: 0.9964 - val_loss: 0.0908 - val_accuracy: 0.9935\n",
            "Epoch 138/150\n",
            "250/250 [==============================] - 5s 20ms/step - loss: 0.0075 - accuracy: 0.9965 - val_loss: 0.0829 - val_accuracy: 0.9902\n",
            "Epoch 139/150\n",
            "250/250 [==============================] - 5s 20ms/step - loss: 0.0128 - accuracy: 0.9957 - val_loss: 0.0885 - val_accuracy: 0.9918\n",
            "Epoch 140/150\n",
            "250/250 [==============================] - 5s 20ms/step - loss: 0.0079 - accuracy: 0.9964 - val_loss: 0.0871 - val_accuracy: 0.9930\n",
            "Epoch 141/150\n",
            "250/250 [==============================] - 5s 19ms/step - loss: 0.0255 - accuracy: 0.9924 - val_loss: 0.0826 - val_accuracy: 0.9935\n",
            "Epoch 142/150\n",
            "250/250 [==============================] - 5s 20ms/step - loss: 0.0083 - accuracy: 0.9961 - val_loss: 0.0852 - val_accuracy: 0.9930\n",
            "Epoch 143/150\n",
            "250/250 [==============================] - 5s 20ms/step - loss: 0.0077 - accuracy: 0.9967 - val_loss: 0.0875 - val_accuracy: 0.9933\n",
            "Epoch 144/150\n",
            "250/250 [==============================] - 5s 20ms/step - loss: 0.0123 - accuracy: 0.9956 - val_loss: 0.0962 - val_accuracy: 0.9945\n",
            "Epoch 145/150\n",
            "250/250 [==============================] - 5s 20ms/step - loss: 0.0060 - accuracy: 0.9977 - val_loss: 0.1063 - val_accuracy: 0.9933\n",
            "Epoch 146/150\n",
            "250/250 [==============================] - 5s 20ms/step - loss: 0.0073 - accuracy: 0.9966 - val_loss: 0.1099 - val_accuracy: 0.9930\n",
            "Epoch 147/150\n",
            "250/250 [==============================] - 5s 19ms/step - loss: 0.0095 - accuracy: 0.9964 - val_loss: 0.0945 - val_accuracy: 0.9923\n",
            "Epoch 148/150\n",
            "250/250 [==============================] - 5s 20ms/step - loss: 0.0077 - accuracy: 0.9967 - val_loss: 0.0894 - val_accuracy: 0.9942\n",
            "Epoch 149/150\n",
            "250/250 [==============================] - 5s 20ms/step - loss: 0.0096 - accuracy: 0.9967 - val_loss: 0.0817 - val_accuracy: 0.9945\n",
            "Epoch 150/150\n",
            "250/250 [==============================] - 5s 20ms/step - loss: 0.0124 - accuracy: 0.9947 - val_loss: 0.1043 - val_accuracy: 0.9920\n"
          ]
        }
      ],
      "source": [
        "Y_plot_type = [y['chart-type'] for y in Y_raw]\n",
        "\n",
        "plot_type_mapping = {'scatter':0, 'line':1, 'dot':2, 'vertical_bar':3,\n",
        "                       'horizontal_bar':4}\n",
        "Y_plot_type = [plot_type_mapping[plot_type] for plot_type in Y_plot_type]\n",
        "Y_plot_type = np.array(Y_plot_type)\n",
        "shuffle = tf.random.shuffle(tf.range(tf.shape(X_gray)[0], dtype=tf.int32))\n",
        "X_all = tf.gather(X_gray, shuffle)\n",
        "y_all = tf.gather(Y_plot_type, shuffle)\n",
        "\n",
        "split = int(len(X_raw) * 0.8)\n",
        "\n",
        "X_train, Y_train = X_all[:split], y_all[:split]\n",
        "X_val, Y_val = X_all[split:], y_all[split:]\n",
        "\n",
        "model = build_model(\n",
        "     input_shape=(None, X_processed.min_width, X_processed.min_height, 3))\n",
        "\n",
        "model.compile(optimizer=tf.keras.optimizers.Adam(),\n",
        "               loss=tf.keras.losses.SparseCategoricalCrossentropy(from_logits=True),\n",
        "               metrics=['accuracy'])\n",
        "\n",
        "history = model.fit(X_train, Y_train,\n",
        "                     epochs=150,\n",
        "                     validation_data=(X_val, Y_val), batch_size=64 )"
      ]
    },
    {
      "cell_type": "code",
      "execution_count": null,
      "metadata": {
        "colab": {
          "base_uri": "https://localhost:8080/",
          "height": 927
        },
        "id": "zkkPyEiH9FaP",
        "outputId": "dc78a7bd-81a6-4f7a-dc9b-3d16b93e1701"
      },
      "outputs": [
        {
          "output_type": "display_data",
          "data": {
            "text/plain": [
              "<Figure size 640x480 with 1 Axes>"
            ],
            "image/png": "[encoded data removed]"
          },
          "metadata": {}
        },
        {
          "output_type": "display_data",
          "data": {
            "text/plain": [
              "<Figure size 640x480 with 1 Axes>"
            ],
            "image/png": "[encoded data removed]"
          },
          "metadata": {}
        }
      ],
      "source": [
        "plt.plot(history.history['accuracy'])\n",
        "plt.plot(history.history['val_accuracy'])\n",
        "plt.title('model accuracy')\n",
        "plt.ylabel('accuracy')\n",
        "plt.xlabel('epoch')\n",
        "plt.legend(['train', 'test'], loc='upper left')\n",
        "plt.show()\n",
        "# summarize history for loss\n",
        "plt.plot(history.history['loss'])\n",
        "plt.plot(history.history['val_loss'])\n",
        "plt.title('model loss')\n",
        "plt.ylabel('loss')\n",
        "plt.xlabel('epoch')\n",
        "plt.legend(['train', 'test'], loc='upper left')\n",
        "plt.show()"
      ]
    },
    {
      "cell_type": "code",
      "source": [
        "ypred=model.predict(X_train)"
      ],
      "metadata": {
        "colab": {
          "base_uri": "https://localhost:8080/"
        },
        "id": "dOdeKlWb1tYo",
        "outputId": "2778b4d6-67a3-466c-e6ce-f91debacc953"
      },
      "execution_count": null,
      "outputs": [
        {
          "output_type": "stream",
          "name": "stdout",
          "text": [
            "434/500 [=========================>....] - ETA: 0s"
          ]
        }
      ]
    },
    {
      "cell_type": "code",
      "source": [
        "Y_train"
      ],
      "metadata": {
        "colab": {
          "base_uri": "https://localhost:8080/"
        },
        "id": "Zke-f33d8Hji",
        "outputId": "5f5e0fe8-de00-41e7-8a9f-736368c6e5cf"
      },
      "execution_count": null,
      "outputs": [
        {
          "output_type": "execute_result",
          "data": {
            "text/plain": [
              "<tf.Tensor: shape=(16000,), dtype=int64, numpy=array([3, 3, 3, ..., 1, 0, 1])>"
            ]
          },
          "metadata": {},
          "execution_count": 24
        }
      ]
    },
    {
      "cell_type": "code",
      "source": [
        "from sklearn.metrics import confusion_matrix,accuracy_score\n",
        "confusion_matrix(Y_val,ypred)"
      ],
      "metadata": {
        "colab": {
          "base_uri": "https://localhost:8080/",
          "height": 338
        },
        "id": "4l-X0VLF1tl6",
        "outputId": "0dc258f5-1c4e-4d1a-d09e-20967ed7ee3d"
      },
      "execution_count": null,
      "outputs": [
        {
          "output_type": "error",
          "ename": "ValueError",
          "evalue": "ignored",
          "traceback": [
            "\u001b[0;31m---------------------------------------------------------------------------\u001b[0m",
            "\u001b[0;31mValueError\u001b[0m                                Traceback (most recent call last)",
            "\u001b[0;32m<ipython-input-20-a8f9ebb025dc>\u001b[0m in \u001b[0;36m<cell line: 2>\u001b[0;34m()\u001b[0m\n\u001b[1;32m      1\u001b[0m \u001b[0;32mfrom\u001b[0m \u001b[0msklearn\u001b[0m\u001b[0;34m.\u001b[0m\u001b[0mmetrics\u001b[0m \u001b[0;32mimport\u001b[0m \u001b[0mconfusion_matrix\u001b[0m\u001b[0;34m,\u001b[0m\u001b[0maccuracy_score\u001b[0m\u001b[0;34m\u001b[0m\u001b[0;34m\u001b[0m\u001b[0m\n\u001b[0;32m----> 2\u001b[0;31m \u001b[0mconfusion_matrix\u001b[0m\u001b[0;34m(\u001b[0m\u001b[0mY_val\u001b[0m\u001b[0;34m,\u001b[0m\u001b[0mypred\u001b[0m\u001b[0;34m)\u001b[0m\u001b[0;34m\u001b[0m\u001b[0;34m\u001b[0m\u001b[0m\n\u001b[0m",
            "\u001b[0;32m/usr/local/lib/python3.10/dist-packages/sklearn/metrics/_classification.py\u001b[0m in \u001b[0;36mconfusion_matrix\u001b[0;34m(y_true, y_pred, labels, sample_weight, normalize)\u001b[0m\n\u001b[1;32m    315\u001b[0m     \u001b[0;34m(\u001b[0m\u001b[0;36m0\u001b[0m\u001b[0;34m,\u001b[0m \u001b[0;36m2\u001b[0m\u001b[0;34m,\u001b[0m \u001b[0;36m1\u001b[0m\u001b[0;34m,\u001b[0m \u001b[0;36m1\u001b[0m\u001b[0;34m)\u001b[0m\u001b[0;34m\u001b[0m\u001b[0;34m\u001b[0m\u001b[0m\n\u001b[1;32m    316\u001b[0m     \"\"\"\n\u001b[0;32m--> 317\u001b[0;31m     \u001b[0my_type\u001b[0m\u001b[0;34m,\u001b[0m \u001b[0my_true\u001b[0m\u001b[0;34m,\u001b[0m \u001b[0my_pred\u001b[0m \u001b[0;34m=\u001b[0m \u001b[0m_check_targets\u001b[0m\u001b[0;34m(\u001b[0m\u001b[0my_true\u001b[0m\u001b[0;34m,\u001b[0m \u001b[0my_pred\u001b[0m\u001b[0;34m)\u001b[0m\u001b[0;34m\u001b[0m\u001b[0;34m\u001b[0m\u001b[0m\n\u001b[0m\u001b[1;32m    318\u001b[0m     \u001b[0;32mif\u001b[0m \u001b[0my_type\u001b[0m \u001b[0;32mnot\u001b[0m \u001b[0;32min\u001b[0m \u001b[0;34m(\u001b[0m\u001b[0;34m\"binary\"\u001b[0m\u001b[0;34m,\u001b[0m \u001b[0;34m\"multiclass\"\u001b[0m\u001b[0;34m)\u001b[0m\u001b[0;34m:\u001b[0m\u001b[0;34m\u001b[0m\u001b[0;34m\u001b[0m\u001b[0m\n\u001b[1;32m    319\u001b[0m         \u001b[0;32mraise\u001b[0m \u001b[0mValueError\u001b[0m\u001b[0;34m(\u001b[0m\u001b[0;34m\"%s is not supported\"\u001b[0m \u001b[0;34m%\u001b[0m \u001b[0my_type\u001b[0m\u001b[0;34m)\u001b[0m\u001b[0;34m\u001b[0m\u001b[0;34m\u001b[0m\u001b[0m\n",
            "\u001b[0;32m/usr/local/lib/python3.10/dist-packages/sklearn/metrics/_classification.py\u001b[0m in \u001b[0;36m_check_targets\u001b[0;34m(y_true, y_pred)\u001b[0m\n\u001b[1;32m     93\u001b[0m \u001b[0;34m\u001b[0m\u001b[0m\n\u001b[1;32m     94\u001b[0m     \u001b[0;32mif\u001b[0m \u001b[0mlen\u001b[0m\u001b[0;34m(\u001b[0m\u001b[0my_type\u001b[0m\u001b[0;34m)\u001b[0m \u001b[0;34m>\u001b[0m \u001b[0;36m1\u001b[0m\u001b[0;34m:\u001b[0m\u001b[0;34m\u001b[0m\u001b[0;34m\u001b[0m\u001b[0m\n\u001b[0;32m---> 95\u001b[0;31m         raise ValueError(\n\u001b[0m\u001b[1;32m     96\u001b[0m             \"Classification metrics can't handle a mix of {0} and {1} targets\".format(\n\u001b[1;32m     97\u001b[0m                 \u001b[0mtype_true\u001b[0m\u001b[0;34m,\u001b[0m \u001b[0mtype_pred\u001b[0m\u001b[0;34m\u001b[0m\u001b[0;34m\u001b[0m\u001b[0m\n",
            "\u001b[0;31mValueError\u001b[0m: Classification metrics can't handle a mix of multiclass and continuous-multioutput targets"
          ]
        }
      ]
    },
    {
      "cell_type": "code",
      "source": [],
      "metadata": {
        "id": "LlmgTYfj1to_"
      },
      "execution_count": null,
      "outputs": []
    },
    {
      "cell_type": "code",
      "source": [],
      "metadata": {
        "id": "jRFt8Mo11tsF"
      },
      "execution_count": null,
      "outputs": []
    },
    {
      "cell_type": "code",
      "source": [],
      "metadata": {
        "id": "JHFPNCJU1tvI"
      },
      "execution_count": null,
      "outputs": []
    },
    {
      "cell_type": "code",
      "execution_count": null,
      "metadata": {
        "id": "lOl_Rfzi9n_c",
        "colab": {
          "base_uri": "https://localhost:8080/"
        },
        "outputId": "b4293a70-5e36-4480-bfc4-0cf06888e0bb"
      },
      "outputs": [
        {
          "output_type": "stream",
          "name": "stdout",
          "text": [
            "0 conv_1 (None, 68, 159, 64)\n",
            "2 conv_2 (None, 34, 79, 32)\n",
            "4 conv_3 (None, 17, 39, 16)\n"
          ]
        }
      ],
      "source": [
        "# summarize feature map shapes\n",
        "for i in range(len(model.layers)):\n",
        "  layer = model.layers[i]\n",
        " # check for convolutional layer\n",
        "  if 'conv' not in layer.name:\n",
        "    continue\n",
        " # summarize output shape\n",
        "  print(i, layer.name, layer.output.shape)"
      ]
    },
    {
      "cell_type": "code",
      "source": [
        "from keras.models import Model\n",
        "# redefine model to output right after the first hidden layer\n",
        "model = Model(inputs=model.inputs, outputs=model.layers[0].output)"
      ],
      "metadata": {
        "id": "3UhLg2Fbu6zS"
      },
      "execution_count": null,
      "outputs": []
    },
    {
      "cell_type": "code",
      "source": [
        "# load the image with the required shape\n",
        "from keras.preprocessing.image import load_img\n",
        "img = load_img(r'/content/train/images/0a2a659c989b.jpg', target_size=(136, 318))"
      ],
      "metadata": {
        "id": "2NEESsANu9w8"
      },
      "execution_count": null,
      "outputs": []
    },
    {
      "cell_type": "code",
      "source": [
        "# convert the image to an array\n",
        "from keras.preprocessing.image import img_to_array\n",
        "from numpy import expand_dims\n",
        "from keras.applications.vgg16 import preprocess_input\n",
        "\n",
        "img = img_to_array(img)\n",
        "# expand dimensions so that it represents a single 'sample'\n",
        "img = expand_dims(img, axis=0)"
      ],
      "metadata": {
        "id": "Cb3QhL-uu_ht"
      },
      "execution_count": null,
      "outputs": []
    },
    {
      "cell_type": "code",
      "source": [
        "# get feature map for first hidden layer\n",
        "feature_maps = model.predict(img)"
      ],
      "metadata": {
        "colab": {
          "base_uri": "https://localhost:8080/"
        },
        "id": "AvUrP3k1vBTg",
        "outputId": "17876079-a44b-49bd-8f1f-8a1ff7d45026"
      },
      "execution_count": null,
      "outputs": [
        {
          "output_type": "stream",
          "name": "stdout",
          "text": [
            "1/1 [==============================] - 0s 81ms/step\n"
          ]
        }
      ]
    },
    {
      "cell_type": "code",
      "source": [
        "import matplotlib.pyplot as pyplot\n",
        "square = 8\n",
        "ix = 1\n",
        "for _ in range(square):\n",
        "  for _ in range(square):\n",
        " # specify subplot and turn of axis\n",
        "    ax = pyplot.subplot(square, square, ix)\n",
        "    ax.set_xticks([])\n",
        "    ax.set_yticks([])\n",
        " # plot filter channel in grayscale\n",
        "    pyplot.imshow(feature_maps[0, :, :, ix-1], cmap='gray')\n",
        "    ix += 1\n",
        "# show the figure\n",
        "#pyplot.figure(figsize=(18  ,18))\n",
        "pyplot.savefig('filters.jpg', dpi=1300)\n"
      ],
      "metadata": {
        "colab": {
          "base_uri": "https://localhost:8080/",
          "height": 389
        },
        "id": "r10E7h6GvCvJ",
        "outputId": "e58093ac-1a65-4b80-8e08-c387b29ef0fa"
      },
      "execution_count": null,
      "outputs": [
        {
          "output_type": "display_data",
          "data": {
            "text/plain": [
              "<Figure size 640x480 with 64 Axes>"
            ],
            "image/png": "[encoded data removed]"
          },
          "metadata": {}
        }
      ]
    },
    {
      "cell_type": "code",
      "source": [
        "X_train.shape"
      ],
      "metadata": {
        "colab": {
          "base_uri": "https://localhost:8080/"
        },
        "id": "_j-tMFDPznOF",
        "outputId": "072a0295-22d7-45ff-8193-a83a83347b58"
      },
      "execution_count": null,
      "outputs": [
        {
          "output_type": "execute_result",
          "data": {
            "text/plain": [
              "TensorShape([16000, 136, 318, 3])"
            ]
          },
          "metadata": {},
          "execution_count": 53
        }
      ]
    },
    {
      "cell_type": "code",
      "source": [
        "\n",
        "from numpy import loadtxt\n",
        "from xgboost import XGBClassifier\n",
        "from sklearn.model_selection import train_test_split\n",
        "from sklearn.metrics import accuracy_score\n",
        "# fit model no training data\n",
        "tf.experimental.numpy.experimental_enable_numpy_behavior()\n",
        "model = XGBClassifier()\n",
        "X_train2 = X_train.reshape(X_train.shape[0], -1)\n",
        "model.fit(X_train, Y_train)"
      ],
      "metadata": {
        "colab": {
          "base_uri": "https://localhost:8080/",
          "height": 356
        },
        "id": "tk7-PKGYvKCi",
        "outputId": "a167dfbe-0a79-4e53-8c1b-179cf7be7919"
      },
      "execution_count": null,
      "outputs": [
        {
          "output_type": "error",
          "ename": "ValueError",
          "evalue": "ignored",
          "traceback": [
            "\u001b[0;31m---------------------------------------------------------------------------\u001b[0m",
            "\u001b[0;31mValueError\u001b[0m                                Traceback (most recent call last)",
            "\u001b[0;32m<ipython-input-55-55eb0055dcf2>\u001b[0m in \u001b[0;36m<cell line: 9>\u001b[0;34m()\u001b[0m\n\u001b[1;32m      7\u001b[0m \u001b[0mmodel\u001b[0m \u001b[0;34m=\u001b[0m \u001b[0mXGBClassifier\u001b[0m\u001b[0;34m(\u001b[0m\u001b[0;34m)\u001b[0m\u001b[0;34m\u001b[0m\u001b[0;34m\u001b[0m\u001b[0m\n\u001b[1;32m      8\u001b[0m \u001b[0mX_train2\u001b[0m \u001b[0;34m=\u001b[0m \u001b[0mX_train\u001b[0m\u001b[0;34m.\u001b[0m\u001b[0mreshape\u001b[0m\u001b[0;34m(\u001b[0m\u001b[0mX_train\u001b[0m\u001b[0;34m.\u001b[0m\u001b[0mshape\u001b[0m\u001b[0;34m[\u001b[0m\u001b[0;36m0\u001b[0m\u001b[0;34m]\u001b[0m\u001b[0;34m,\u001b[0m \u001b[0;34m-\u001b[0m\u001b[0;36m1\u001b[0m\u001b[0;34m)\u001b[0m\u001b[0;34m\u001b[0m\u001b[0;34m\u001b[0m\u001b[0m\n\u001b[0;32m----> 9\u001b[0;31m \u001b[0mmodel\u001b[0m\u001b[0;34m.\u001b[0m\u001b[0mfit\u001b[0m\u001b[0;34m(\u001b[0m\u001b[0mX_train\u001b[0m\u001b[0;34m,\u001b[0m \u001b[0mY_train\u001b[0m\u001b[0;34m)\u001b[0m\u001b[0;34m\u001b[0m\u001b[0;34m\u001b[0m\u001b[0m\n\u001b[0m",
            "\u001b[0;32m/usr/local/lib/python3.10/dist-packages/xgboost/core.py\u001b[0m in \u001b[0;36minner_f\u001b[0;34m(*args, **kwargs)\u001b[0m\n\u001b[1;32m    727\u001b[0m             \u001b[0;32mfor\u001b[0m \u001b[0mk\u001b[0m\u001b[0;34m,\u001b[0m \u001b[0marg\u001b[0m \u001b[0;32min\u001b[0m \u001b[0mzip\u001b[0m\u001b[0;34m(\u001b[0m\u001b[0msig\u001b[0m\u001b[0;34m.\u001b[0m\u001b[0mparameters\u001b[0m\u001b[0;34m,\u001b[0m \u001b[0margs\u001b[0m\u001b[0;34m)\u001b[0m\u001b[0;34m:\u001b[0m\u001b[0;34m\u001b[0m\u001b[0;34m\u001b[0m\u001b[0m\n\u001b[1;32m    728\u001b[0m                 \u001b[0mkwargs\u001b[0m\u001b[0;34m[\u001b[0m\u001b[0mk\u001b[0m\u001b[0;34m]\u001b[0m \u001b[0;34m=\u001b[0m \u001b[0marg\u001b[0m\u001b[0;34m\u001b[0m\u001b[0;34m\u001b[0m\u001b[0m\n\u001b[0;32m--> 729\u001b[0;31m             \u001b[0;32mreturn\u001b[0m \u001b[0mfunc\u001b[0m\u001b[0;34m(\u001b[0m\u001b[0;34m**\u001b[0m\u001b[0mkwargs\u001b[0m\u001b[0;34m)\u001b[0m\u001b[0;34m\u001b[0m\u001b[0;34m\u001b[0m\u001b[0m\n\u001b[0m\u001b[1;32m    730\u001b[0m \u001b[0;34m\u001b[0m\u001b[0m\n\u001b[1;32m    731\u001b[0m         \u001b[0;32mreturn\u001b[0m \u001b[0minner_f\u001b[0m\u001b[0;34m\u001b[0m\u001b[0;34m\u001b[0m\u001b[0m\n",
            "\u001b[0;32m/usr/local/lib/python3.10/dist-packages/xgboost/sklearn.py\u001b[0m in \u001b[0;36mfit\u001b[0;34m(self, X, y, sample_weight, base_margin, eval_set, eval_metric, early_stopping_rounds, verbose, xgb_model, sample_weight_eval_set, base_margin_eval_set, feature_weights, callbacks)\u001b[0m\n\u001b[1;32m   1494\u001b[0m                 \u001b[0mxgb_model\u001b[0m\u001b[0;34m,\u001b[0m \u001b[0meval_metric\u001b[0m\u001b[0;34m,\u001b[0m \u001b[0mparams\u001b[0m\u001b[0;34m,\u001b[0m \u001b[0mearly_stopping_rounds\u001b[0m\u001b[0;34m,\u001b[0m \u001b[0mcallbacks\u001b[0m\u001b[0;34m\u001b[0m\u001b[0;34m\u001b[0m\u001b[0m\n\u001b[1;32m   1495\u001b[0m             )\n\u001b[0;32m-> 1496\u001b[0;31m             train_dmatrix, evals = _wrap_evaluation_matrices(\n\u001b[0m\u001b[1;32m   1497\u001b[0m                 \u001b[0mmissing\u001b[0m\u001b[0;34m=\u001b[0m\u001b[0mself\u001b[0m\u001b[0;34m.\u001b[0m\u001b[0mmissing\u001b[0m\u001b[0;34m,\u001b[0m\u001b[0;34m\u001b[0m\u001b[0;34m\u001b[0m\u001b[0m\n\u001b[1;32m   1498\u001b[0m                 \u001b[0mX\u001b[0m\u001b[0;34m=\u001b[0m\u001b[0mX\u001b[0m\u001b[0;34m,\u001b[0m\u001b[0;34m\u001b[0m\u001b[0;34m\u001b[0m\u001b[0m\n",
            "\u001b[0;32m/usr/local/lib/python3.10/dist-packages/xgboost/sklearn.py\u001b[0m in \u001b[0;36m_wrap_evaluation_matrices\u001b[0;34m(missing, X, y, group, qid, sample_weight, base_margin, feature_weights, eval_set, sample_weight_eval_set, base_margin_eval_set, eval_group, eval_qid, create_dmatrix, enable_categorical, feature_types)\u001b[0m\n\u001b[1;32m    532\u001b[0m     \"\"\"Convert array_like evaluation matrices into DMatrix.  Perform validation on the\n\u001b[1;32m    533\u001b[0m     way.\"\"\"\n\u001b[0;32m--> 534\u001b[0;31m     train_dmatrix = create_dmatrix(\n\u001b[0m\u001b[1;32m    535\u001b[0m         \u001b[0mdata\u001b[0m\u001b[0;34m=\u001b[0m\u001b[0mX\u001b[0m\u001b[0;34m,\u001b[0m\u001b[0;34m\u001b[0m\u001b[0;34m\u001b[0m\u001b[0m\n\u001b[1;32m    536\u001b[0m         \u001b[0mlabel\u001b[0m\u001b[0;34m=\u001b[0m\u001b[0my\u001b[0m\u001b[0;34m,\u001b[0m\u001b[0;34m\u001b[0m\u001b[0;34m\u001b[0m\u001b[0m\n",
            "\u001b[0;32m/usr/local/lib/python3.10/dist-packages/xgboost/sklearn.py\u001b[0m in \u001b[0;36m_create_dmatrix\u001b[0;34m(self, ref, **kwargs)\u001b[0m\n\u001b[1;32m    957\u001b[0m             \u001b[0;32mexcept\u001b[0m \u001b[0mTypeError\u001b[0m\u001b[0;34m:\u001b[0m  \u001b[0;31m# `QuantileDMatrix` supports lesser types than DMatrix\u001b[0m\u001b[0;34m\u001b[0m\u001b[0;34m\u001b[0m\u001b[0m\n\u001b[1;32m    958\u001b[0m                 \u001b[0;32mpass\u001b[0m\u001b[0;34m\u001b[0m\u001b[0;34m\u001b[0m\u001b[0m\n\u001b[0;32m--> 959\u001b[0;31m         \u001b[0;32mreturn\u001b[0m \u001b[0mDMatrix\u001b[0m\u001b[0;34m(\u001b[0m\u001b[0;34m**\u001b[0m\u001b[0mkwargs\u001b[0m\u001b[0;34m,\u001b[0m \u001b[0mnthread\u001b[0m\u001b[0;34m=\u001b[0m\u001b[0mself\u001b[0m\u001b[0;34m.\u001b[0m\u001b[0mn_jobs\u001b[0m\u001b[0;34m)\u001b[0m\u001b[0;34m\u001b[0m\u001b[0;34m\u001b[0m\u001b[0m\n\u001b[0m\u001b[1;32m    960\u001b[0m \u001b[0;34m\u001b[0m\u001b[0m\n\u001b[1;32m    961\u001b[0m     \u001b[0;32mdef\u001b[0m \u001b[0m_set_evaluation_result\u001b[0m\u001b[0;34m(\u001b[0m\u001b[0mself\u001b[0m\u001b[0;34m,\u001b[0m \u001b[0mevals_result\u001b[0m\u001b[0;34m:\u001b[0m \u001b[0mTrainingCallback\u001b[0m\u001b[0;34m.\u001b[0m\u001b[0mEvalsLog\u001b[0m\u001b[0;34m)\u001b[0m \u001b[0;34m->\u001b[0m \u001b[0;32mNone\u001b[0m\u001b[0;34m:\u001b[0m\u001b[0;34m\u001b[0m\u001b[0;34m\u001b[0m\u001b[0m\n",
            "\u001b[0;32m/usr/local/lib/python3.10/dist-packages/xgboost/core.py\u001b[0m in \u001b[0;36minner_f\u001b[0;34m(*args, **kwargs)\u001b[0m\n\u001b[1;32m    727\u001b[0m             \u001b[0;32mfor\u001b[0m \u001b[0mk\u001b[0m\u001b[0;34m,\u001b[0m \u001b[0marg\u001b[0m \u001b[0;32min\u001b[0m \u001b[0mzip\u001b[0m\u001b[0;34m(\u001b[0m\u001b[0msig\u001b[0m\u001b[0;34m.\u001b[0m\u001b[0mparameters\u001b[0m\u001b[0;34m,\u001b[0m \u001b[0margs\u001b[0m\u001b[0;34m)\u001b[0m\u001b[0;34m:\u001b[0m\u001b[0;34m\u001b[0m\u001b[0;34m\u001b[0m\u001b[0m\n\u001b[1;32m    728\u001b[0m                 \u001b[0mkwargs\u001b[0m\u001b[0;34m[\u001b[0m\u001b[0mk\u001b[0m\u001b[0;34m]\u001b[0m \u001b[0;34m=\u001b[0m \u001b[0marg\u001b[0m\u001b[0;34m\u001b[0m\u001b[0;34m\u001b[0m\u001b[0m\n\u001b[0;32m--> 729\u001b[0;31m             \u001b[0;32mreturn\u001b[0m \u001b[0mfunc\u001b[0m\u001b[0;34m(\u001b[0m\u001b[0;34m**\u001b[0m\u001b[0mkwargs\u001b[0m\u001b[0;34m)\u001b[0m\u001b[0;34m\u001b[0m\u001b[0;34m\u001b[0m\u001b[0m\n\u001b[0m\u001b[1;32m    730\u001b[0m \u001b[0;34m\u001b[0m\u001b[0m\n\u001b[1;32m    731\u001b[0m         \u001b[0;32mreturn\u001b[0m \u001b[0minner_f\u001b[0m\u001b[0;34m\u001b[0m\u001b[0;34m\u001b[0m\u001b[0m\n",
            "\u001b[0;32m/usr/local/lib/python3.10/dist-packages/xgboost/core.py\u001b[0m in \u001b[0;36m__init__\u001b[0;34m(self, data, label, weight, base_margin, missing, silent, feature_names, feature_types, nthread, group, qid, label_lower_bound, label_upper_bound, feature_weights, enable_categorical, data_split_mode)\u001b[0m\n\u001b[1;32m    854\u001b[0m             \u001b[0;32mreturn\u001b[0m\u001b[0;34m\u001b[0m\u001b[0;34m\u001b[0m\u001b[0m\n\u001b[1;32m    855\u001b[0m \u001b[0;34m\u001b[0m\u001b[0m\n\u001b[0;32m--> 856\u001b[0;31m         handle, feature_names, feature_types = dispatch_data_backend(\n\u001b[0m\u001b[1;32m    857\u001b[0m             \u001b[0mdata\u001b[0m\u001b[0;34m,\u001b[0m\u001b[0;34m\u001b[0m\u001b[0;34m\u001b[0m\u001b[0m\n\u001b[1;32m    858\u001b[0m             \u001b[0mmissing\u001b[0m\u001b[0;34m=\u001b[0m\u001b[0mself\u001b[0m\u001b[0;34m.\u001b[0m\u001b[0mmissing\u001b[0m\u001b[0;34m,\u001b[0m\u001b[0;34m\u001b[0m\u001b[0;34m\u001b[0m\u001b[0m\n",
            "\u001b[0;32m/usr/local/lib/python3.10/dist-packages/xgboost/data.py\u001b[0m in \u001b[0;36mdispatch_data_backend\u001b[0;34m(data, missing, threads, feature_names, feature_types, enable_categorical, data_split_mode)\u001b[0m\n\u001b[1;32m   1063\u001b[0m     \u001b[0;34m\"\"\"Dispatch data for DMatrix.\"\"\"\u001b[0m\u001b[0;34m\u001b[0m\u001b[0;34m\u001b[0m\u001b[0m\n\u001b[1;32m   1064\u001b[0m     \u001b[0;32mif\u001b[0m \u001b[0;32mnot\u001b[0m \u001b[0m_is_cudf_ser\u001b[0m\u001b[0;34m(\u001b[0m\u001b[0mdata\u001b[0m\u001b[0;34m)\u001b[0m \u001b[0;32mand\u001b[0m \u001b[0;32mnot\u001b[0m \u001b[0m_is_pandas_series\u001b[0m\u001b[0;34m(\u001b[0m\u001b[0mdata\u001b[0m\u001b[0;34m)\u001b[0m\u001b[0;34m:\u001b[0m\u001b[0;34m\u001b[0m\u001b[0;34m\u001b[0m\u001b[0m\n\u001b[0;32m-> 1065\u001b[0;31m         \u001b[0m_check_data_shape\u001b[0m\u001b[0;34m(\u001b[0m\u001b[0mdata\u001b[0m\u001b[0;34m)\u001b[0m\u001b[0;34m\u001b[0m\u001b[0;34m\u001b[0m\u001b[0m\n\u001b[0m\u001b[1;32m   1066\u001b[0m     \u001b[0;32mif\u001b[0m \u001b[0m_is_scipy_csr\u001b[0m\u001b[0;34m(\u001b[0m\u001b[0mdata\u001b[0m\u001b[0;34m)\u001b[0m\u001b[0;34m:\u001b[0m\u001b[0;34m\u001b[0m\u001b[0;34m\u001b[0m\u001b[0m\n\u001b[1;32m   1067\u001b[0m         \u001b[0;32mreturn\u001b[0m \u001b[0m_from_scipy_csr\u001b[0m\u001b[0;34m(\u001b[0m\u001b[0mdata\u001b[0m\u001b[0;34m,\u001b[0m \u001b[0mmissing\u001b[0m\u001b[0;34m,\u001b[0m \u001b[0mthreads\u001b[0m\u001b[0;34m,\u001b[0m \u001b[0mfeature_names\u001b[0m\u001b[0;34m,\u001b[0m \u001b[0mfeature_types\u001b[0m\u001b[0;34m)\u001b[0m\u001b[0;34m\u001b[0m\u001b[0;34m\u001b[0m\u001b[0m\n",
            "\u001b[0;32m/usr/local/lib/python3.10/dist-packages/xgboost/data.py\u001b[0m in \u001b[0;36m_check_data_shape\u001b[0;34m(data)\u001b[0m\n\u001b[1;32m     55\u001b[0m \u001b[0;32mdef\u001b[0m \u001b[0m_check_data_shape\u001b[0m\u001b[0;34m(\u001b[0m\u001b[0mdata\u001b[0m\u001b[0;34m:\u001b[0m \u001b[0mDataType\u001b[0m\u001b[0;34m)\u001b[0m \u001b[0;34m->\u001b[0m \u001b[0;32mNone\u001b[0m\u001b[0;34m:\u001b[0m\u001b[0;34m\u001b[0m\u001b[0;34m\u001b[0m\u001b[0m\n\u001b[1;32m     56\u001b[0m     \u001b[0;32mif\u001b[0m \u001b[0mhasattr\u001b[0m\u001b[0;34m(\u001b[0m\u001b[0mdata\u001b[0m\u001b[0;34m,\u001b[0m \u001b[0;34m\"shape\"\u001b[0m\u001b[0;34m)\u001b[0m \u001b[0;32mand\u001b[0m \u001b[0mlen\u001b[0m\u001b[0;34m(\u001b[0m\u001b[0mdata\u001b[0m\u001b[0;34m.\u001b[0m\u001b[0mshape\u001b[0m\u001b[0;34m)\u001b[0m \u001b[0;34m!=\u001b[0m \u001b[0;36m2\u001b[0m\u001b[0;34m:\u001b[0m\u001b[0;34m\u001b[0m\u001b[0;34m\u001b[0m\u001b[0m\n\u001b[0;32m---> 57\u001b[0;31m         \u001b[0;32mraise\u001b[0m \u001b[0mValueError\u001b[0m\u001b[0;34m(\u001b[0m\u001b[0;34m\"Please reshape the input data into 2-dimensional matrix.\"\u001b[0m\u001b[0;34m)\u001b[0m\u001b[0;34m\u001b[0m\u001b[0;34m\u001b[0m\u001b[0m\n\u001b[0m\u001b[1;32m     58\u001b[0m \u001b[0;34m\u001b[0m\u001b[0m\n\u001b[1;32m     59\u001b[0m \u001b[0;34m\u001b[0m\u001b[0m\n",
            "\u001b[0;31mValueError\u001b[0m: Please reshape the input data into 2-dimensional matrix."
          ]
        }
      ]
    },
    {
      "cell_type": "code",
      "source": [],
      "metadata": {
        "id": "RUl-nIJBzVms"
      },
      "execution_count": null,
      "outputs": []
    }
  ],
  "metadata": {
    "accelerator": "GPU",
    "colab": {
      "machine_shape": "hm",
      "provenance": [],
      "gpuType": "V100",
      "authorship_tag": "ABX9TyNHW9bSRaZJ1SfrdDH4QFr+",
      "include_colab_link": true
    },
    "kernelspec": {
      "display_name": "Python 3",
      "name": "python3"
    },
    "language_info": {
      "name": "python"
    }
  },
  "nbformat": 4,
  "nbformat_minor": 0
}