{
  "cells": [
    {
      "cell_type": "markdown",
      "metadata": {
        "id": "view-in-github",
        "colab_type": "text"
      },
      "source": [
        "<a href=\"https://colab.research.google.com/github/dojian/MLproject/blob/kristen/Chart_NN.ipynb\" target=\"_parent\"><img src=\"https://colab.research.google.com/assets/colab-badge.svg\" alt=\"Open In Colab\"/></a>"
      ]
    },
    {
      "cell_type": "code",
      "execution_count": 2,
      "metadata": {
        "colab": {
          "base_uri": "https://localhost:8080/"
        },
        "id": "gJmetpKj8KyJ",
        "outputId": "6356a0b7-49dd-4a70-f397-3f126ef28856"
      },
      "outputs": [
        {
          "output_type": "stream",
          "name": "stdout",
          "text": [
            "Collecting ultralytics\n",
            "  Downloading ultralytics-8.0.226-py3-none-any.whl (660 kB)\n",
            "\u001b[2K     \u001b[90m━━━━━━━━━━━━━━━━━━━━━━━━━━━━━━━━━━━━━━━━\u001b[0m \u001b[32m660.4/660.4 kB\u001b[0m \u001b[31m5.4 MB/s\u001b[0m eta \u001b[36m0:00:00\u001b[0m\n",
            "\u001b[?25hRequirement already satisfied: matplotlib>=3.3.0 in /usr/local/lib/python3.10/dist-packages (from ultralytics) (3.7.1)\n",
            "Requirement already satisfied: numpy>=1.22.2 in /usr/local/lib/python3.10/dist-packages (from ultralytics) (1.23.5)\n",
            "Requirement already satisfied: opencv-python>=4.6.0 in /usr/local/lib/python3.10/dist-packages (from ultralytics) (4.8.0.76)\n",
            "Requirement already satisfied: pillow>=7.1.2 in /usr/local/lib/python3.10/dist-packages (from ultralytics) (9.4.0)\n",
            "Requirement already satisfied: pyyaml>=5.3.1 in /usr/local/lib/python3.10/dist-packages (from ultralytics) (6.0.1)\n",
            "Requirement already satisfied: requests>=2.23.0 in /usr/local/lib/python3.10/dist-packages (from ultralytics) (2.31.0)\n",
            "Requirement already satisfied: scipy>=1.4.1 in /usr/local/lib/python3.10/dist-packages (from ultralytics) (1.11.4)\n",
            "Requirement already satisfied: torch>=1.8.0 in /usr/local/lib/python3.10/dist-packages (from ultralytics) (2.1.0+cu118)\n",
            "Requirement already satisfied: torchvision>=0.9.0 in /usr/local/lib/python3.10/dist-packages (from ultralytics) (0.16.0+cu118)\n",
            "Requirement already satisfied: tqdm>=4.64.0 in /usr/local/lib/python3.10/dist-packages (from ultralytics) (4.66.1)\n",
            "Requirement already satisfied: pandas>=1.1.4 in /usr/local/lib/python3.10/dist-packages (from ultralytics) (1.5.3)\n",
            "Requirement already satisfied: seaborn>=0.11.0 in /usr/local/lib/python3.10/dist-packages (from ultralytics) (0.12.2)\n",
            "Requirement already satisfied: psutil in /usr/local/lib/python3.10/dist-packages (from ultralytics) (5.9.5)\n",
            "Requirement already satisfied: py-cpuinfo in /usr/local/lib/python3.10/dist-packages (from ultralytics) (9.0.0)\n",
            "Collecting thop>=0.1.1 (from ultralytics)\n",
            "  Downloading thop-0.1.1.post2209072238-py3-none-any.whl (15 kB)\n",
            "Requirement already satisfied: contourpy>=1.0.1 in /usr/local/lib/python3.10/dist-packages (from matplotlib>=3.3.0->ultralytics) (1.2.0)\n",
            "Requirement already satisfied: cycler>=0.10 in /usr/local/lib/python3.10/dist-packages (from matplotlib>=3.3.0->ultralytics) (0.12.1)\n",
            "Requirement already satisfied: fonttools>=4.22.0 in /usr/local/lib/python3.10/dist-packages (from matplotlib>=3.3.0->ultralytics) (4.45.1)\n",
            "Requirement already satisfied: kiwisolver>=1.0.1 in /usr/local/lib/python3.10/dist-packages (from matplotlib>=3.3.0->ultralytics) (1.4.5)\n",
            "Requirement already satisfied: packaging>=20.0 in /usr/local/lib/python3.10/dist-packages (from matplotlib>=3.3.0->ultralytics) (23.2)\n",
            "Requirement already satisfied: pyparsing>=2.3.1 in /usr/local/lib/python3.10/dist-packages (from matplotlib>=3.3.0->ultralytics) (3.1.1)\n",
            "Requirement already satisfied: python-dateutil>=2.7 in /usr/local/lib/python3.10/dist-packages (from matplotlib>=3.3.0->ultralytics) (2.8.2)\n",
            "Requirement already satisfied: pytz>=2020.1 in /usr/local/lib/python3.10/dist-packages (from pandas>=1.1.4->ultralytics) (2023.3.post1)\n",
            "Requirement already satisfied: charset-normalizer<4,>=2 in /usr/local/lib/python3.10/dist-packages (from requests>=2.23.0->ultralytics) (3.3.2)\n",
            "Requirement already satisfied: idna<4,>=2.5 in /usr/local/lib/python3.10/dist-packages (from requests>=2.23.0->ultralytics) (3.6)\n",
            "Requirement already satisfied: urllib3<3,>=1.21.1 in /usr/local/lib/python3.10/dist-packages (from requests>=2.23.0->ultralytics) (2.0.7)\n",
            "Requirement already satisfied: certifi>=2017.4.17 in /usr/local/lib/python3.10/dist-packages (from requests>=2.23.0->ultralytics) (2023.11.17)\n",
            "Requirement already satisfied: filelock in /usr/local/lib/python3.10/dist-packages (from torch>=1.8.0->ultralytics) (3.13.1)\n",
            "Requirement already satisfied: typing-extensions in /usr/local/lib/python3.10/dist-packages (from torch>=1.8.0->ultralytics) (4.5.0)\n",
            "Requirement already satisfied: sympy in /usr/local/lib/python3.10/dist-packages (from torch>=1.8.0->ultralytics) (1.12)\n",
            "Requirement already satisfied: networkx in /usr/local/lib/python3.10/dist-packages (from torch>=1.8.0->ultralytics) (3.2.1)\n",
            "Requirement already satisfied: jinja2 in /usr/local/lib/python3.10/dist-packages (from torch>=1.8.0->ultralytics) (3.1.2)\n",
            "Requirement already satisfied: fsspec in /usr/local/lib/python3.10/dist-packages (from torch>=1.8.0->ultralytics) (2023.6.0)\n",
            "Requirement already satisfied: triton==2.1.0 in /usr/local/lib/python3.10/dist-packages (from torch>=1.8.0->ultralytics) (2.1.0)\n",
            "Requirement already satisfied: six>=1.5 in /usr/local/lib/python3.10/dist-packages (from python-dateutil>=2.7->matplotlib>=3.3.0->ultralytics) (1.16.0)\n",
            "Requirement already satisfied: MarkupSafe>=2.0 in /usr/local/lib/python3.10/dist-packages (from jinja2->torch>=1.8.0->ultralytics) (2.1.3)\n",
            "Requirement already satisfied: mpmath>=0.19 in /usr/local/lib/python3.10/dist-packages (from sympy->torch>=1.8.0->ultralytics) (1.3.0)\n",
            "Installing collected packages: thop, ultralytics\n",
            "Successfully installed thop-0.1.1.post2209072238 ultralytics-8.0.226\n"
          ]
        }
      ],
      "source": [
        "!pip install ultralytics"
      ]
    },
    {
      "cell_type": "code",
      "execution_count": 3,
      "metadata": {
        "id": "riQ8chLo6j1_"
      },
      "outputs": [],
      "source": [
        "# Import libraries\n",
        "\n",
        "import os\n",
        "import cv2\n",
        "import json\n",
        "import tensorflow as tf\n",
        "import numpy as np\n",
        "import matplotlib.pyplot as plt\n",
        "from math import sqrt, atan2, pi\n",
        "from PIL import Image, ImageDraw\n",
        "from ultralytics import YOLO\n",
        "from sklearn.preprocessing import LabelBinarizer"
      ]
    },
    {
      "cell_type": "code",
      "execution_count": 4,
      "metadata": {
        "id": "7Pv-v7Bb6ni-"
      },
      "outputs": [],
      "source": [
        "def canny_edge_detector(input_image):\n",
        "    input_pixels = input_image.load()\n",
        "    width = input_image.width\n",
        "    height = input_image.height\n",
        "\n",
        "    # Transform the image to grayscale\n",
        "    grayscaled = compute_grayscale(input_pixels, width, height)\n",
        "\n",
        "    # Blur it to remove noise\n",
        "    blurred = compute_blur(grayscaled, width, height)\n",
        "\n",
        "    # Compute the gradient\n",
        "    gradient, direction = compute_gradient(blurred, width, height)\n",
        "\n",
        "    # Non-maximum suppression\n",
        "    filter_out_non_maximum(gradient, direction, width, height)\n",
        "\n",
        "    # Filter out some edges\n",
        "    keep = filter_strong_edges(gradient, width, height, 20, 25)\n",
        "\n",
        "    return keep\n",
        "\n",
        "\n",
        "def compute_grayscale(input_pixels, width, height):\n",
        "    grayscale = np.empty((width, height))\n",
        "    for x in range(width):\n",
        "        for y in range(height):\n",
        "            pixel = input_pixels[x, y]\n",
        "            grayscale[x, y] = (pixel[0] + pixel[1] + pixel[2]) / 3\n",
        "    return grayscale\n",
        "\n",
        "\n",
        "def compute_blur(input_pixels, width, height):\n",
        "    # Keep coordinate inside image\n",
        "    clip = lambda x, l, u: l if x < l else u if x > u else x\n",
        "\n",
        "    # Gaussian kernel\n",
        "    kernel = np.array([\n",
        "        [1 / 256,  4 / 256,  6 / 256,  4 / 256, 1 / 256],\n",
        "        [4 / 256, 16 / 256, 24 / 256, 16 / 256, 4 / 256],\n",
        "        [6 / 256, 24 / 256, 36 / 256, 24 / 256, 6 / 256],\n",
        "        [4 / 256, 16 / 256, 24 / 256, 16 / 256, 4 / 256],\n",
        "        [1 / 256,  4 / 256,  6 / 256,  4 / 256, 1 / 256]\n",
        "    ])\n",
        "\n",
        "    # Middle of the kernel\n",
        "    offset = len(kernel) // 2\n",
        "\n",
        "    # Compute the blurred image\n",
        "    blurred = np.empty((width, height))\n",
        "    for x in range(width):\n",
        "        for y in range(height):\n",
        "            acc = 0\n",
        "            for a in range(len(kernel)):\n",
        "                for b in range(len(kernel)):\n",
        "                    xn = clip(x + a - offset, 0, width - 1)\n",
        "                    yn = clip(y + b - offset, 0, height - 1)\n",
        "                    acc += input_pixels[xn, yn] * kernel[a, b]\n",
        "            blurred[x, y] = int(acc)\n",
        "    return blurred\n",
        "\n",
        "\n",
        "def compute_gradient(input_pixels, width, height):\n",
        "    gradient = np.zeros((width, height))\n",
        "    direction = np.zeros((width, height))\n",
        "    for x in range(width):\n",
        "        for y in range(height):\n",
        "            if 0 < x < width - 1 and 0 < y < height - 1:\n",
        "                magx = input_pixels[x + 1, y] - input_pixels[x - 1, y]\n",
        "                magy = input_pixels[x, y + 1] - input_pixels[x, y - 1]\n",
        "                gradient[x, y] = sqrt(magx**2 + magy**2)\n",
        "                direction[x, y] = atan2(magy, magx)\n",
        "    return gradient, direction\n",
        "\n",
        "\n",
        "def filter_out_non_maximum(gradient, direction, width, height):\n",
        "    for x in range(1, width - 1):\n",
        "        for y in range(1, height - 1):\n",
        "            angle = direction[x, y] if direction[x, y] >= 0 else direction[x, y] + pi\n",
        "            rangle = round(angle / (pi / 4))\n",
        "            mag = gradient[x, y]\n",
        "            if ((rangle == 0 or rangle == 4) and (gradient[x - 1, y] > mag or gradient[x + 1, y] > mag)\n",
        "                    or (rangle == 1 and (gradient[x - 1, y - 1] > mag or gradient[x + 1, y + 1] > mag))\n",
        "                    or (rangle == 2 and (gradient[x, y - 1] > mag or gradient[x, y + 1] > mag))\n",
        "                    or (rangle == 3 and (gradient[x + 1, y - 1] > mag or gradient[x - 1, y + 1] > mag))):\n",
        "                gradient[x, y] = 0\n",
        "\n",
        "\n",
        "def filter_strong_edges(gradient, width, height, low, high):\n",
        "    # Keep strong edges\n",
        "    keep = set()\n",
        "    for x in range(width):\n",
        "        for y in range(height):\n",
        "            if gradient[x, y] > high:\n",
        "                keep.add((x, y))\n",
        "\n",
        "    # Keep weak edges next to a pixel to keep\n",
        "    lastiter = keep\n",
        "    while lastiter:\n",
        "        newkeep = set()\n",
        "        for x, y in lastiter:\n",
        "            for a, b in ((-1, -1), (-1, 0), (-1, 1), (0, -1), (0, 1), (1, -1), (1, 0), (1, 1)):\n",
        "                if gradient[x + a, y + b] > low and (x+a, y+b) not in keep:\n",
        "                    newkeep.add((x+a, y+b))\n",
        "        keep.update(newkeep)\n",
        "        lastiter = newkeep\n",
        "\n",
        "    return list(keep)\n",
        "\n",
        "\n",
        "class MyLabelBinarizer(LabelBinarizer):\n",
        "    def transform(self, y):\n",
        "        Y = super().transform(y)\n",
        "        if self.y_type_ == 'binary':\n",
        "            return np.hstack((Y, 1-Y))\n",
        "        else:\n",
        "            return Y\n",
        "    def inverse_transform(self, Y, threshold=None):\n",
        "        if self.y_type_ == 'binary':\n",
        "            return super().inverse_transform(Y[:, 0], threshold)\n",
        "        else:\n",
        "            return super().inverse_transform(Y, threshold)\n",
        "\n",
        "def get_iou(bb1, bb2):\n",
        "    assert bb1['x1'] < bb1['x2']\n",
        "    assert bb1['y1'] < bb1['y2']\n",
        "    assert bb2['x1'] < bb2['x2']\n",
        "    assert bb2['y1'] < bb2['y2']\n",
        "    x_left = max(bb1['x1'], bb2['x1'])\n",
        "    y_top = max(bb1['y1'], bb2['y1'])\n",
        "    x_right = min(bb1['x2'], bb2['x2'])\n",
        "    y_bottom = min(bb1['y2'], bb2['y2'])\n",
        "    if x_right < x_left or y_bottom < y_top:\n",
        "        return 0.0\n",
        "    intersection_area = (x_right - x_left) * (y_bottom - y_top)\n",
        "    bb1_area = (bb1['x2'] - bb1['x1']) * (bb1['y2'] - bb1['y1'])\n",
        "    bb2_area = (bb2['x2'] - bb2['x1']) * (bb2['y2'] - bb2['y1'])\n",
        "    iou = intersection_area / float(bb1_area + bb2_area - intersection_area)\n",
        "    assert iou >= 0.0\n",
        "    assert iou <= 1.0\n",
        "    return iou"
      ]
    },
    {
      "cell_type": "code",
      "execution_count": 5,
      "metadata": {
        "id": "zO-Ns8Da6qD7"
      },
      "outputs": [],
      "source": [
        "class Data_Loader():\n",
        "\n",
        "    def __init__(self, data_file_path, label_file_path, n_images):\n",
        "        self.data_file_path = data_file_path\n",
        "        self.label_file_path = label_file_path\n",
        "        self.n_images = n_images\n",
        "#        self.chart_type = chart_type  # Added chart_type as an attribute\n",
        "\n",
        "    def load_image_data(self):\n",
        "        X = []\n",
        "        Y = []\n",
        "\n",
        "        for file in os.listdir(self.data_file_path):\n",
        "            file_path = os.path.join(self.data_file_path, file)\n",
        "\n",
        "            if file.endswith('.jpg'):\n",
        "                img_annotations = self.__load_annotations(file)\n",
        "\n",
        "                # Check if annotations exist and if chart-type matches self.chart_type\n",
        "                if img_annotations is not None:\n",
        "                    Y.append(img_annotations)\n",
        "                    img = cv2.imread(file_path)\n",
        "                    img = np.array(img, dtype=np.float16)\n",
        "                    X.append(img)\n",
        "\n",
        "                # Stop if enough images are loaded\n",
        "                if len(X) >= self.n_images:\n",
        "                    return X, Y\n",
        "\n",
        "        return X, Y\n",
        "\n",
        "    def __load_annotations(self, image_file_name):\n",
        "        file_name = image_file_name.split('.jpg')[0]\n",
        "        json_file_name = file_name + '.json'\n",
        "        json_file_path = os.path.join(self.label_file_path, json_file_name)\n",
        "\n",
        "        if os.path.isfile(json_file_path):\n",
        "            with open(json_file_path) as f:\n",
        "                return json.load(f)\n",
        "\n",
        "        else:\n",
        "            return None"
      ]
    },
    {
      "cell_type": "code",
      "execution_count": 6,
      "metadata": {
        "id": "kWj7rnMG6tfL",
        "colab": {
          "base_uri": "https://localhost:8080/"
        },
        "outputId": "43688b03-7e8b-49e9-d9e8-2322a71c5c69"
      },
      "outputs": [
        {
          "output_type": "stream",
          "name": "stdout",
          "text": [
            "Downloading https://github.com/ultralytics/assets/releases/download/v0.0.0/yolov8n.pt to 'yolov8n.pt'...\n"
          ]
        },
        {
          "output_type": "stream",
          "name": "stderr",
          "text": [
            "100%|██████████| 6.23M/6.23M [00:00<00:00, 66.7MB/s]\n"
          ]
        }
      ],
      "source": [
        "#YOLO (You Only Look Once) is a popular deep learning algorithm used for real-time object detection\n",
        "model = YOLO('yolov8n.pt')\n",
        "#Selective Search is a technique that tries to identify potential bounding boxes or “regions of\n",
        "#interest” in an image where objects might be located.\n",
        "ss = cv2.ximgproc.segmentation.createSelectiveSearchSegmentation()\n"
      ]
    },
    {
      "cell_type": "code",
      "execution_count": 7,
      "metadata": {
        "colab": {
          "base_uri": "https://localhost:8080/"
        },
        "id": "qop3Bsa07d56",
        "outputId": "2384d9c0-50a2-41aa-ebf2-00a6cf208a1e"
      },
      "outputs": [
        {
          "output_type": "stream",
          "name": "stdout",
          "text": [
            "Downloading benetech-making-graphs-accessible.zip to /content\n",
            "100% 978M/982M [00:06<00:00, 154MB/s]\n",
            "100% 982M/982M [00:06<00:00, 150MB/s]\n"
          ]
        }
      ],
      "source": [
        "#Load data from Kaggle\n",
        "!pip install -U -q kaggle\n",
        "!mkdir -p ~/.kaggle\n",
        "!echo '{\"username\":\"angel80423\",\"key\":\"f5a347582d10b1f9f45bc7bb61ab390b\"}' > ~/.kaggle/kaggle.json\n",
        "!chmod 600 ~/.kaggle/kaggle.json\n",
        "!kaggle competitions download -c benetech-making-graphs-accessible"
      ]
    },
    {
      "cell_type": "code",
      "execution_count": 8,
      "metadata": {
        "id": "143jh3ko7f8P"
      },
      "outputs": [],
      "source": [
        "!unzip -q benetech-making-graphs-accessible.zip -d ./"
      ]
    },
    {
      "cell_type": "code",
      "execution_count": 9,
      "metadata": {
        "id": "bK0kLsXn7xun"
      },
      "outputs": [],
      "source": [
        "data_file_path = '/content/train/images'\n",
        "label_file_path = '/content/train/annotations'"
      ]
    },
    {
      "cell_type": "code",
      "execution_count": 10,
      "metadata": {
        "id": "TnzbiBKW71b7"
      },
      "outputs": [],
      "source": [
        "n_images = 20500\n",
        "#chart_type='scatter'\n",
        "\n",
        "# Load in raw data\n",
        "X_raw, Y_raw = Data_Loader(data_file_path,\n",
        "                           label_file_path, n_images).load_image_data()\n"
      ]
    },
    {
      "cell_type": "code",
      "execution_count": 11,
      "metadata": {
        "id": "VL0oYScj8m_x"
      },
      "outputs": [],
      "source": [
        "class Image_Processor():\n",
        "\n",
        "    def __init__(self, images):\n",
        "        self.images = images\n",
        "        self.min_width, self.min_height = self.__find_smallest_image_width_and_height()\n",
        "        self.resized_images = self.__resize_images()\n",
        "\n",
        "\n",
        "    def __resize_images(self):\n",
        "\n",
        "        X_resized = []\n",
        "        for img in self.images:\n",
        "            X_resized.append(tf.image.resize(img,\n",
        "                                             size=(self.min_width, self.min_height)))\n",
        "\n",
        "        return np.array(X_resized, dtype=np.float16)\n",
        "\n",
        "\n",
        "    def __find_smallest_image_width_and_height(self):\n",
        "\n",
        "        min_width = np.size(self.images[0], 0)\n",
        "        min_height = np.size(self.images[0], 1)\n",
        "\n",
        "        for img in self.images[1:]:\n",
        "\n",
        "            if np.size(img, 0) < min_width:\n",
        "                min_width = np.size(img, 0)\n",
        "\n",
        "            if np.size(img, 1) < min_height:\n",
        "                min_height = np.size(img, 1)\n",
        "\n",
        "        return min_width, min_height"
      ]
    },
    {
      "cell_type": "code",
      "execution_count": 12,
      "metadata": {
        "id": "GhkPCMAi8wyM"
      },
      "outputs": [],
      "source": [
        "X_processed = Image_Processor(X_raw)\n",
        "X_resized = X_processed.resized_images\n",
        "X_gray = X_resized / 255.0"
      ]
    },
    {
      "cell_type": "code",
      "source": [
        "X_processed_test = Image_Processor(X_test)\n",
        "X_resized = X_processed.resized_images\n",
        "X_gray = X_resized / 255.0"
      ],
      "metadata": {
        "id": "vNLgGAcufQiV"
      },
      "execution_count": null,
      "outputs": []
    },
    {
      "cell_type": "code",
      "source": [],
      "metadata": {
        "id": "EXm6S8xMgN3L"
      },
      "execution_count": null,
      "outputs": []
    },
    {
      "cell_type": "code",
      "execution_count": 8,
      "metadata": {
        "id": "vpaAlFDH91-B",
        "colab": {
          "base_uri": "https://localhost:8080/"
        },
        "outputId": "78c73a2d-124c-48dd-d95e-eb85016cb139"
      },
      "outputs": [
        {
          "output_type": "execute_result",
          "data": {
            "text/plain": [
              "(20500, 136, 318, 3)"
            ]
          },
          "metadata": {},
          "execution_count": 8
        }
      ],
      "source": [
        "X_resized.shape"
      ]
    },
    {
      "cell_type": "code",
      "execution_count": 13,
      "metadata": {
        "id": "cA9Vtn1z8-9Y"
      },
      "outputs": [],
      "source": [
        "def build_model(input_shape):\n",
        "\n",
        "    model = tf.keras.Sequential()\n",
        "\n",
        "    # add first convolution layer to the model\n",
        "    model.add(tf.keras.layers.Conv2D(\n",
        "        filters=64,\n",
        "        kernel_size=(7, 7),\n",
        "        strides=(2, 2),\n",
        "        padding='same',\n",
        "        data_format='channels_last',\n",
        "        name='conv_1',\n",
        "        activation='relu'))\n",
        "\n",
        "\n",
        "    # add a max pooling layer with pool size (2,2) and strides of 2\n",
        "    # (this will reduce the spatial dimensions by half)\n",
        "    model.add(tf.keras.layers.MaxPool2D(\n",
        "        pool_size=(2, 2),\n",
        "        name='pool_1'))\n",
        "\n",
        "    # add first convolution layer to the model\n",
        "    model.add(tf.keras.layers.Conv2D(\n",
        "        filters=32,\n",
        "        kernel_size=(5, 5),\n",
        "        strides=(1, 1),\n",
        "        padding='same',\n",
        "        data_format='channels_last',\n",
        "        name='conv_2',\n",
        "        activation='relu'))\n",
        "\n",
        "    model.add(tf.keras.layers.MaxPool2D(\n",
        "      pool_size=(2, 2),\n",
        "      name='pool_2'))\n",
        "\n",
        "      # add first convolution layer to the model\n",
        "    model.add(tf.keras.layers.Conv2D(\n",
        "        filters=16,\n",
        "        kernel_size=(3, 3),\n",
        "        strides=(1, 1),\n",
        "        padding='same',\n",
        "        data_format='channels_last',\n",
        "        name='conv_3',\n",
        "        activation='relu'))\n",
        "\n",
        "    model.add(tf.keras.layers.MaxPool2D(\n",
        "      pool_size=(2, 2),\n",
        "      name='pool_3'))\n",
        "\n",
        "    # add second convolutional layer\n",
        "    # model.add(tf.keras.layers.Conv2D(\n",
        "    #     filters=64,\n",
        "    #     kernel_size=(5, 5),\n",
        "    #     strides=(1, 1),\n",
        "    #     padding='same',\n",
        "    #     name='conv_2',\n",
        "    #     activation='relu'))\n",
        "\n",
        "    # # add second max pooling layer with pool size (2,2) and strides of 2\n",
        "    # # (this will further reduce the spatial dimensions by half)\n",
        "    # model.add(tf.keras.layers.MaxPool2D(\n",
        "    #     pool_size=(2, 2), name='pool_2')\n",
        "    # )\n",
        "\n",
        "\n",
        "    # add a fully connected layer (need to flatten the output of the previous layers first)\n",
        "    model.add(tf.keras.layers.Flatten())\n",
        "    model.add(tf.keras.layers.Dense(\n",
        "        units=16,\n",
        "        name='fc_1',\n",
        "        activation='relu'))\n",
        "\n",
        "    # add dropout layer\n",
        "    model.add(tf.keras.layers.Dropout(rate=0.2))\n",
        "\n",
        "    # add the last fully connected layer\n",
        "    # this last layer sets the activation function to \"None\" in order to output the logits\n",
        "    # note that passing activation = \"sigmoid\" will return class memembership probabilities but\n",
        "    # in TensorFlow logits are prefered for numerical stability\n",
        "    # set units=1 to get a single output unit (remember it's a binary classification problem)\n",
        "    model.add(tf.keras.layers.Dense(\n",
        "        units=5,\n",
        "        name='fc_2',\n",
        "        activation=None))\n",
        "\n",
        "    model.build(input_shape=input_shape)\n",
        "\n",
        "    return model"
      ]
    },
    {
      "cell_type": "code",
      "execution_count": 10,
      "metadata": {
        "id": "YKyl3hFA9whe"
      },
      "outputs": [],
      "source": [
        "#y_all = np.array(X_gray, dtype=np.float16)"
      ]
    },
    {
      "cell_type": "code",
      "execution_count": 14,
      "metadata": {
        "colab": {
          "base_uri": "https://localhost:8080/"
        },
        "id": "fzJ5CiQc9Axg",
        "outputId": "fd76e0a4-f677-4431-d197-93180c597d21"
      },
      "outputs": [
        {
          "output_type": "stream",
          "name": "stdout",
          "text": [
            "Model: \"sequential\"\n",
            "_________________________________________________________________\n",
            " Layer (type)                Output Shape              Param #   \n",
            "=================================================================\n",
            " conv_1 (Conv2D)             (None, 68, 159, 64)       9472      \n",
            "                                                                 \n",
            " pool_1 (MaxPooling2D)       (None, 34, 79, 64)        0         \n",
            "                                                                 \n",
            " conv_2 (Conv2D)             (None, 34, 79, 32)        51232     \n",
            "                                                                 \n",
            " pool_2 (MaxPooling2D)       (None, 17, 39, 32)        0         \n",
            "                                                                 \n",
            " conv_3 (Conv2D)             (None, 17, 39, 16)        4624      \n",
            "                                                                 \n",
            " pool_3 (MaxPooling2D)       (None, 8, 19, 16)         0         \n",
            "                                                                 \n",
            " flatten (Flatten)           (None, 2432)              0         \n",
            "                                                                 \n",
            " fc_1 (Dense)                (None, 16)                38928     \n",
            "                                                                 \n",
            " dropout (Dropout)           (None, 16)                0         \n",
            "                                                                 \n",
            " fc_2 (Dense)                (None, 5)                 85        \n",
            "                                                                 \n",
            "=================================================================\n",
            "Total params: 104341 (407.58 KB)\n",
            "Trainable params: 104341 (407.58 KB)\n",
            "Non-trainable params: 0 (0.00 Byte)\n",
            "_________________________________________________________________\n"
          ]
        }
      ],
      "source": [
        "Y_plot_type = [y['chart-type'] for y in Y_raw]\n",
        "\n",
        "plot_type_mapping = {'scatter':0, 'line':1, 'dot':2, 'vertical_bar':3,\n",
        "                       'horizontal_bar':4}\n",
        "Y_plot_type = [plot_type_mapping[plot_type] for plot_type in Y_plot_type]\n",
        "Y_plot_type = np.array(Y_plot_type)\n",
        "shuffle = tf.random.shuffle(tf.range(tf.shape(X_gray)[0], dtype=tf.int32))\n",
        "X_all = tf.gather(X_gray, shuffle)\n",
        "y_all = tf.gather(Y_plot_type, shuffle)\n",
        "\n",
        "split = int(len(X_raw) * 0.7)\n",
        "split2 = int(len(X_raw) * 0.9)\n",
        "\n",
        "\n",
        "X_train, Y_train = X_all[:split], y_all[:split]\n",
        "X_val, Y_val = X_all[split:split2], y_all[split:split2]\n",
        "X_test, Y_test = X_all[split2:], y_all[split2:]\n",
        "\n",
        "model = build_model(\n",
        "     input_shape=(None, X_processed.min_width, X_processed.min_height, 3))\n",
        "\n",
        "model.compile(optimizer=tf.keras.optimizers.Adam(),\n",
        "               loss=tf.keras.losses.SparseCategoricalCrossentropy(from_logits=True),\n",
        "               metrics=['accuracy'])\n",
        "model.summary()\n"
      ]
    },
    {
      "cell_type": "code",
      "source": [
        "history = model.fit(X_train, Y_train,\n",
        "                     epochs=125,\n",
        "                     validation_data=(X_val, Y_val), batch_size=64 )"
      ],
      "metadata": {
        "colab": {
          "base_uri": "https://localhost:8080/"
        },
        "id": "RpGlz4s9b57R",
        "outputId": "a3048c22-222f-4dd7-c433-460d06677b13"
      },
      "execution_count": 15,
      "outputs": [
        {
          "output_type": "stream",
          "name": "stdout",
          "text": [
            "Epoch 1/125\n",
            "225/225 [==============================] - 17s 24ms/step - loss: 0.9832 - accuracy: 0.5560 - val_loss: 0.4300 - val_accuracy: 0.7874\n",
            "Epoch 2/125\n",
            "225/225 [==============================] - 5s 21ms/step - loss: 0.5174 - accuracy: 0.7355 - val_loss: 0.2928 - val_accuracy: 0.8883\n",
            "Epoch 3/125\n",
            "225/225 [==============================] - 5s 22ms/step - loss: 0.4175 - accuracy: 0.7984 - val_loss: 0.2473 - val_accuracy: 0.8961\n",
            "Epoch 4/125\n",
            "225/225 [==============================] - 5s 21ms/step - loss: 0.3669 - accuracy: 0.8353 - val_loss: 0.1935 - val_accuracy: 0.9566\n",
            "Epoch 5/125\n",
            "225/225 [==============================] - 5s 21ms/step - loss: 0.2976 - accuracy: 0.8908 - val_loss: 0.1345 - val_accuracy: 0.9700\n",
            "Epoch 6/125\n",
            "225/225 [==============================] - 5s 21ms/step - loss: 0.2314 - accuracy: 0.9232 - val_loss: 0.1060 - val_accuracy: 0.9768\n",
            "Epoch 7/125\n",
            "225/225 [==============================] - 5s 21ms/step - loss: 0.1945 - accuracy: 0.9332 - val_loss: 0.0886 - val_accuracy: 0.9776\n",
            "Epoch 8/125\n",
            "225/225 [==============================] - 5s 21ms/step - loss: 0.1616 - accuracy: 0.9475 - val_loss: 0.0831 - val_accuracy: 0.9781\n",
            "Epoch 9/125\n",
            "225/225 [==============================] - 5s 21ms/step - loss: 0.1276 - accuracy: 0.9631 - val_loss: 0.0684 - val_accuracy: 0.9810\n",
            "Epoch 10/125\n",
            "225/225 [==============================] - 5s 21ms/step - loss: 0.1261 - accuracy: 0.9619 - val_loss: 0.0757 - val_accuracy: 0.9773\n",
            "Epoch 11/125\n",
            "225/225 [==============================] - 5s 21ms/step - loss: 0.1116 - accuracy: 0.9663 - val_loss: 0.0582 - val_accuracy: 0.9839\n",
            "Epoch 12/125\n",
            "225/225 [==============================] - 5s 21ms/step - loss: 0.1048 - accuracy: 0.9706 - val_loss: 0.0632 - val_accuracy: 0.9822\n",
            "Epoch 13/125\n",
            "225/225 [==============================] - 5s 22ms/step - loss: 0.1014 - accuracy: 0.9698 - val_loss: 0.0609 - val_accuracy: 0.9863\n",
            "Epoch 14/125\n",
            "225/225 [==============================] - 5s 21ms/step - loss: 0.0909 - accuracy: 0.9733 - val_loss: 0.0406 - val_accuracy: 0.9890\n",
            "Epoch 15/125\n",
            "225/225 [==============================] - 5s 21ms/step - loss: 0.1037 - accuracy: 0.9693 - val_loss: 0.0470 - val_accuracy: 0.9871\n",
            "Epoch 16/125\n",
            "225/225 [==============================] - 5s 21ms/step - loss: 0.0840 - accuracy: 0.9761 - val_loss: 0.0476 - val_accuracy: 0.9890\n",
            "Epoch 17/125\n",
            "225/225 [==============================] - 5s 21ms/step - loss: 0.0821 - accuracy: 0.9771 - val_loss: 0.0493 - val_accuracy: 0.9881\n",
            "Epoch 18/125\n",
            "225/225 [==============================] - 5s 21ms/step - loss: 0.0739 - accuracy: 0.9798 - val_loss: 0.0439 - val_accuracy: 0.9876\n",
            "Epoch 19/125\n",
            "225/225 [==============================] - 5s 22ms/step - loss: 0.0770 - accuracy: 0.9787 - val_loss: 0.0485 - val_accuracy: 0.9893\n",
            "Epoch 20/125\n",
            "225/225 [==============================] - 5s 21ms/step - loss: 0.0699 - accuracy: 0.9815 - val_loss: 0.0493 - val_accuracy: 0.9898\n",
            "Epoch 21/125\n",
            "225/225 [==============================] - 5s 21ms/step - loss: 0.0879 - accuracy: 0.9755 - val_loss: 0.0438 - val_accuracy: 0.9871\n",
            "Epoch 22/125\n",
            "225/225 [==============================] - 5s 21ms/step - loss: 0.0671 - accuracy: 0.9811 - val_loss: 0.0425 - val_accuracy: 0.9893\n",
            "Epoch 23/125\n",
            "225/225 [==============================] - 5s 21ms/step - loss: 0.0641 - accuracy: 0.9826 - val_loss: 0.0575 - val_accuracy: 0.9888\n",
            "Epoch 24/125\n",
            "225/225 [==============================] - 5s 22ms/step - loss: 0.0590 - accuracy: 0.9836 - val_loss: 0.0373 - val_accuracy: 0.9905\n",
            "Epoch 25/125\n",
            "225/225 [==============================] - 5s 21ms/step - loss: 0.0558 - accuracy: 0.9848 - val_loss: 0.0400 - val_accuracy: 0.9907\n",
            "Epoch 26/125\n",
            "225/225 [==============================] - 5s 22ms/step - loss: 0.0637 - accuracy: 0.9825 - val_loss: 0.0462 - val_accuracy: 0.9898\n",
            "Epoch 27/125\n",
            "225/225 [==============================] - 5s 22ms/step - loss: 0.0562 - accuracy: 0.9854 - val_loss: 0.0398 - val_accuracy: 0.9927\n",
            "Epoch 28/125\n",
            "225/225 [==============================] - 5s 21ms/step - loss: 0.0611 - accuracy: 0.9824 - val_loss: 0.0616 - val_accuracy: 0.9881\n",
            "Epoch 29/125\n",
            "225/225 [==============================] - 5s 21ms/step - loss: 0.0528 - accuracy: 0.9865 - val_loss: 0.0332 - val_accuracy: 0.9917\n",
            "Epoch 30/125\n",
            "225/225 [==============================] - 5s 21ms/step - loss: 0.0506 - accuracy: 0.9868 - val_loss: 0.0461 - val_accuracy: 0.9917\n",
            "Epoch 31/125\n",
            "225/225 [==============================] - 5s 21ms/step - loss: 0.0508 - accuracy: 0.9864 - val_loss: 0.0929 - val_accuracy: 0.9776\n",
            "Epoch 32/125\n",
            "225/225 [==============================] - 5s 21ms/step - loss: 0.0501 - accuracy: 0.9872 - val_loss: 0.0378 - val_accuracy: 0.9927\n",
            "Epoch 33/125\n",
            "225/225 [==============================] - 5s 21ms/step - loss: 0.0435 - accuracy: 0.9894 - val_loss: 0.0291 - val_accuracy: 0.9922\n",
            "Epoch 34/125\n",
            "225/225 [==============================] - 5s 21ms/step - loss: 0.0453 - accuracy: 0.9883 - val_loss: 0.0424 - val_accuracy: 0.9902\n",
            "Epoch 35/125\n",
            "225/225 [==============================] - 5s 21ms/step - loss: 0.0567 - accuracy: 0.9857 - val_loss: 0.0370 - val_accuracy: 0.9924\n",
            "Epoch 36/125\n",
            "225/225 [==============================] - 5s 21ms/step - loss: 0.0452 - accuracy: 0.9868 - val_loss: 0.0373 - val_accuracy: 0.9917\n",
            "Epoch 37/125\n",
            "225/225 [==============================] - 5s 21ms/step - loss: 0.0391 - accuracy: 0.9885 - val_loss: 0.0470 - val_accuracy: 0.9907\n",
            "Epoch 38/125\n",
            "225/225 [==============================] - 5s 21ms/step - loss: 0.0470 - accuracy: 0.9861 - val_loss: 0.0714 - val_accuracy: 0.9881\n",
            "Epoch 39/125\n",
            "225/225 [==============================] - 5s 21ms/step - loss: 0.0403 - accuracy: 0.9891 - val_loss: 0.0477 - val_accuracy: 0.9898\n",
            "Epoch 40/125\n",
            "225/225 [==============================] - 5s 21ms/step - loss: 0.0327 - accuracy: 0.9902 - val_loss: 0.0430 - val_accuracy: 0.9898\n",
            "Epoch 41/125\n",
            "225/225 [==============================] - 5s 21ms/step - loss: 0.0346 - accuracy: 0.9887 - val_loss: 0.0304 - val_accuracy: 0.9922\n",
            "Epoch 42/125\n",
            "225/225 [==============================] - 5s 21ms/step - loss: 0.0293 - accuracy: 0.9907 - val_loss: 0.0373 - val_accuracy: 0.9934\n",
            "Epoch 43/125\n",
            "225/225 [==============================] - 5s 21ms/step - loss: 0.0304 - accuracy: 0.9902 - val_loss: 0.0406 - val_accuracy: 0.9915\n",
            "Epoch 44/125\n",
            "225/225 [==============================] - 5s 21ms/step - loss: 0.0294 - accuracy: 0.9895 - val_loss: 0.0555 - val_accuracy: 0.9922\n",
            "Epoch 45/125\n",
            "225/225 [==============================] - 5s 21ms/step - loss: 0.0261 - accuracy: 0.9912 - val_loss: 0.0435 - val_accuracy: 0.9939\n",
            "Epoch 46/125\n",
            "225/225 [==============================] - 5s 21ms/step - loss: 0.0271 - accuracy: 0.9911 - val_loss: 0.0343 - val_accuracy: 0.9922\n",
            "Epoch 47/125\n",
            "225/225 [==============================] - 5s 21ms/step - loss: 0.0251 - accuracy: 0.9913 - val_loss: 0.0382 - val_accuracy: 0.9922\n",
            "Epoch 48/125\n",
            "225/225 [==============================] - 5s 21ms/step - loss: 0.0323 - accuracy: 0.9895 - val_loss: 0.0577 - val_accuracy: 0.9910\n",
            "Epoch 49/125\n",
            "225/225 [==============================] - 5s 21ms/step - loss: 0.0513 - accuracy: 0.9834 - val_loss: 0.0437 - val_accuracy: 0.9917\n",
            "Epoch 50/125\n",
            "225/225 [==============================] - 5s 22ms/step - loss: 0.0292 - accuracy: 0.9892 - val_loss: 0.0856 - val_accuracy: 0.9856\n",
            "Epoch 51/125\n",
            "225/225 [==============================] - 5s 21ms/step - loss: 0.0232 - accuracy: 0.9922 - val_loss: 0.0365 - val_accuracy: 0.9929\n",
            "Epoch 52/125\n",
            "225/225 [==============================] - 5s 21ms/step - loss: 0.0288 - accuracy: 0.9886 - val_loss: 0.0489 - val_accuracy: 0.9932\n",
            "Epoch 53/125\n",
            "225/225 [==============================] - 5s 22ms/step - loss: 0.0245 - accuracy: 0.9906 - val_loss: 0.0431 - val_accuracy: 0.9924\n",
            "Epoch 54/125\n",
            "225/225 [==============================] - 5s 21ms/step - loss: 0.0268 - accuracy: 0.9908 - val_loss: 0.0468 - val_accuracy: 0.9927\n",
            "Epoch 55/125\n",
            "225/225 [==============================] - 5s 21ms/step - loss: 0.0229 - accuracy: 0.9903 - val_loss: 0.0431 - val_accuracy: 0.9922\n",
            "Epoch 56/125\n",
            "225/225 [==============================] - 5s 21ms/step - loss: 0.0194 - accuracy: 0.9921 - val_loss: 0.0366 - val_accuracy: 0.9939\n",
            "Epoch 57/125\n",
            "225/225 [==============================] - 5s 21ms/step - loss: 0.0170 - accuracy: 0.9933 - val_loss: 0.0427 - val_accuracy: 0.9937\n",
            "Epoch 58/125\n",
            "225/225 [==============================] - 5s 21ms/step - loss: 0.0226 - accuracy: 0.9918 - val_loss: 0.0429 - val_accuracy: 0.9934\n",
            "Epoch 59/125\n",
            "225/225 [==============================] - 5s 21ms/step - loss: 0.0201 - accuracy: 0.9920 - val_loss: 0.0535 - val_accuracy: 0.9937\n",
            "Epoch 60/125\n",
            "225/225 [==============================] - 5s 21ms/step - loss: 0.0169 - accuracy: 0.9929 - val_loss: 0.0582 - val_accuracy: 0.9937\n",
            "Epoch 61/125\n",
            "225/225 [==============================] - 5s 21ms/step - loss: 0.0185 - accuracy: 0.9934 - val_loss: 0.0640 - val_accuracy: 0.9924\n",
            "Epoch 62/125\n",
            "225/225 [==============================] - 5s 21ms/step - loss: 0.0262 - accuracy: 0.9912 - val_loss: 0.0835 - val_accuracy: 0.9768\n",
            "Epoch 63/125\n",
            "225/225 [==============================] - 5s 21ms/step - loss: 0.0270 - accuracy: 0.9914 - val_loss: 0.0575 - val_accuracy: 0.9915\n",
            "Epoch 64/125\n",
            "225/225 [==============================] - 5s 21ms/step - loss: 0.0223 - accuracy: 0.9921 - val_loss: 0.0588 - val_accuracy: 0.9934\n",
            "Epoch 65/125\n",
            "225/225 [==============================] - 5s 21ms/step - loss: 0.0250 - accuracy: 0.9916 - val_loss: 0.0306 - val_accuracy: 0.9932\n",
            "Epoch 66/125\n",
            "225/225 [==============================] - 5s 22ms/step - loss: 0.0235 - accuracy: 0.9923 - val_loss: 0.0595 - val_accuracy: 0.9932\n",
            "Epoch 67/125\n",
            "225/225 [==============================] - 5s 21ms/step - loss: 0.0182 - accuracy: 0.9944 - val_loss: 0.0454 - val_accuracy: 0.9937\n",
            "Epoch 68/125\n",
            "225/225 [==============================] - 5s 22ms/step - loss: 0.0138 - accuracy: 0.9946 - val_loss: 0.0382 - val_accuracy: 0.9944\n",
            "Epoch 69/125\n",
            "225/225 [==============================] - 5s 22ms/step - loss: 0.0181 - accuracy: 0.9946 - val_loss: 0.0455 - val_accuracy: 0.9922\n",
            "Epoch 70/125\n",
            "225/225 [==============================] - 5s 22ms/step - loss: 0.0182 - accuracy: 0.9940 - val_loss: 0.0441 - val_accuracy: 0.9941\n",
            "Epoch 71/125\n",
            "225/225 [==============================] - 5s 21ms/step - loss: 0.0217 - accuracy: 0.9929 - val_loss: 0.0493 - val_accuracy: 0.9927\n",
            "Epoch 72/125\n",
            "225/225 [==============================] - 5s 21ms/step - loss: 0.0146 - accuracy: 0.9948 - val_loss: 0.0409 - val_accuracy: 0.9946\n",
            "Epoch 73/125\n",
            "225/225 [==============================] - 5s 21ms/step - loss: 0.0135 - accuracy: 0.9951 - val_loss: 0.0468 - val_accuracy: 0.9944\n",
            "Epoch 74/125\n",
            "225/225 [==============================] - 5s 21ms/step - loss: 0.0121 - accuracy: 0.9960 - val_loss: 0.0371 - val_accuracy: 0.9941\n",
            "Epoch 75/125\n",
            "225/225 [==============================] - 5s 22ms/step - loss: 0.0128 - accuracy: 0.9952 - val_loss: 0.0411 - val_accuracy: 0.9954\n",
            "Epoch 76/125\n",
            "225/225 [==============================] - 5s 22ms/step - loss: 0.0150 - accuracy: 0.9953 - val_loss: 0.0401 - val_accuracy: 0.9924\n",
            "Epoch 77/125\n",
            "225/225 [==============================] - 5s 21ms/step - loss: 0.0269 - accuracy: 0.9907 - val_loss: 0.0307 - val_accuracy: 0.9917\n",
            "Epoch 78/125\n",
            "225/225 [==============================] - 5s 21ms/step - loss: 0.0240 - accuracy: 0.9913 - val_loss: 0.0328 - val_accuracy: 0.9941\n",
            "Epoch 79/125\n",
            "225/225 [==============================] - 5s 21ms/step - loss: 0.0194 - accuracy: 0.9937 - val_loss: 0.0374 - val_accuracy: 0.9929\n",
            "Epoch 80/125\n",
            "225/225 [==============================] - 5s 21ms/step - loss: 0.0181 - accuracy: 0.9941 - val_loss: 0.0400 - val_accuracy: 0.9944\n",
            "Epoch 81/125\n",
            "225/225 [==============================] - 5s 21ms/step - loss: 0.0137 - accuracy: 0.9952 - val_loss: 0.0378 - val_accuracy: 0.9946\n",
            "Epoch 82/125\n",
            "225/225 [==============================] - 5s 21ms/step - loss: 0.0155 - accuracy: 0.9949 - val_loss: 0.0355 - val_accuracy: 0.9941\n",
            "Epoch 83/125\n",
            "225/225 [==============================] - 5s 21ms/step - loss: 0.0160 - accuracy: 0.9953 - val_loss: 0.0529 - val_accuracy: 0.9922\n",
            "Epoch 84/125\n",
            "225/225 [==============================] - 5s 21ms/step - loss: 0.0173 - accuracy: 0.9942 - val_loss: 0.0392 - val_accuracy: 0.9922\n",
            "Epoch 85/125\n",
            "225/225 [==============================] - 5s 21ms/step - loss: 0.0171 - accuracy: 0.9944 - val_loss: 0.0365 - val_accuracy: 0.9949\n",
            "Epoch 86/125\n",
            "225/225 [==============================] - 5s 21ms/step - loss: 0.0152 - accuracy: 0.9955 - val_loss: 0.0345 - val_accuracy: 0.9941\n",
            "Epoch 87/125\n",
            "225/225 [==============================] - 5s 21ms/step - loss: 0.0126 - accuracy: 0.9959 - val_loss: 0.0342 - val_accuracy: 0.9956\n",
            "Epoch 88/125\n",
            "225/225 [==============================] - 5s 21ms/step - loss: 0.0131 - accuracy: 0.9957 - val_loss: 0.0513 - val_accuracy: 0.9934\n",
            "Epoch 89/125\n",
            "225/225 [==============================] - 5s 21ms/step - loss: 0.0243 - accuracy: 0.9921 - val_loss: 0.0616 - val_accuracy: 0.9917\n",
            "Epoch 90/125\n",
            "225/225 [==============================] - 5s 21ms/step - loss: 0.0221 - accuracy: 0.9934 - val_loss: 0.0577 - val_accuracy: 0.9939\n",
            "Epoch 91/125\n",
            "225/225 [==============================] - 5s 21ms/step - loss: 0.0118 - accuracy: 0.9960 - val_loss: 0.0548 - val_accuracy: 0.9941\n",
            "Epoch 92/125\n",
            "225/225 [==============================] - 5s 21ms/step - loss: 0.0160 - accuracy: 0.9946 - val_loss: 0.0459 - val_accuracy: 0.9934\n",
            "Epoch 93/125\n",
            "225/225 [==============================] - 5s 21ms/step - loss: 0.0123 - accuracy: 0.9958 - val_loss: 0.0436 - val_accuracy: 0.9939\n",
            "Epoch 94/125\n",
            "225/225 [==============================] - 5s 21ms/step - loss: 0.0120 - accuracy: 0.9962 - val_loss: 0.0478 - val_accuracy: 0.9944\n",
            "Epoch 95/125\n",
            "225/225 [==============================] - 5s 21ms/step - loss: 0.0143 - accuracy: 0.9949 - val_loss: 0.0306 - val_accuracy: 0.9939\n",
            "Epoch 96/125\n",
            "225/225 [==============================] - 5s 21ms/step - loss: 0.0147 - accuracy: 0.9957 - val_loss: 0.0330 - val_accuracy: 0.9941\n",
            "Epoch 97/125\n",
            "225/225 [==============================] - 5s 21ms/step - loss: 0.0134 - accuracy: 0.9954 - val_loss: 0.0246 - val_accuracy: 0.9949\n",
            "Epoch 98/125\n",
            "225/225 [==============================] - 5s 21ms/step - loss: 0.0128 - accuracy: 0.9959 - val_loss: 0.0471 - val_accuracy: 0.9929\n",
            "Epoch 99/125\n",
            "225/225 [==============================] - 5s 21ms/step - loss: 0.0136 - accuracy: 0.9953 - val_loss: 0.0423 - val_accuracy: 0.9939\n",
            "Epoch 100/125\n",
            "225/225 [==============================] - 5s 21ms/step - loss: 0.0171 - accuracy: 0.9952 - val_loss: 0.0419 - val_accuracy: 0.9915\n",
            "Epoch 101/125\n",
            "225/225 [==============================] - 5s 21ms/step - loss: 0.0168 - accuracy: 0.9948 - val_loss: 0.0369 - val_accuracy: 0.9917\n",
            "Epoch 102/125\n",
            "225/225 [==============================] - 5s 21ms/step - loss: 0.0213 - accuracy: 0.9934 - val_loss: 0.0487 - val_accuracy: 0.9939\n",
            "Epoch 103/125\n",
            "225/225 [==============================] - 5s 21ms/step - loss: 0.0121 - accuracy: 0.9962 - val_loss: 0.0600 - val_accuracy: 0.9922\n",
            "Epoch 104/125\n",
            "225/225 [==============================] - 5s 21ms/step - loss: 0.0118 - accuracy: 0.9962 - val_loss: 0.0620 - val_accuracy: 0.9929\n",
            "Epoch 105/125\n",
            "225/225 [==============================] - 5s 21ms/step - loss: 0.0145 - accuracy: 0.9953 - val_loss: 0.0755 - val_accuracy: 0.9929\n",
            "Epoch 106/125\n",
            "225/225 [==============================] - 5s 21ms/step - loss: 0.0116 - accuracy: 0.9961 - val_loss: 0.0323 - val_accuracy: 0.9946\n",
            "Epoch 107/125\n",
            "225/225 [==============================] - 5s 21ms/step - loss: 0.0100 - accuracy: 0.9969 - val_loss: 0.0318 - val_accuracy: 0.9941\n",
            "Epoch 108/125\n",
            "225/225 [==============================] - 5s 21ms/step - loss: 0.0133 - accuracy: 0.9957 - val_loss: 0.0470 - val_accuracy: 0.9934\n",
            "Epoch 109/125\n",
            "225/225 [==============================] - 5s 21ms/step - loss: 0.0091 - accuracy: 0.9969 - val_loss: 0.0531 - val_accuracy: 0.9946\n",
            "Epoch 110/125\n",
            "225/225 [==============================] - 5s 21ms/step - loss: 0.0118 - accuracy: 0.9962 - val_loss: 0.0312 - val_accuracy: 0.9949\n",
            "Epoch 111/125\n",
            "225/225 [==============================] - 5s 21ms/step - loss: 0.0108 - accuracy: 0.9964 - val_loss: 0.0305 - val_accuracy: 0.9954\n",
            "Epoch 112/125\n",
            "225/225 [==============================] - 5s 21ms/step - loss: 0.0122 - accuracy: 0.9960 - val_loss: 0.0425 - val_accuracy: 0.9939\n",
            "Epoch 113/125\n",
            "225/225 [==============================] - 5s 21ms/step - loss: 0.0142 - accuracy: 0.9960 - val_loss: 0.0478 - val_accuracy: 0.9946\n",
            "Epoch 114/125\n",
            "225/225 [==============================] - 5s 21ms/step - loss: 0.0177 - accuracy: 0.9941 - val_loss: 0.0437 - val_accuracy: 0.9934\n",
            "Epoch 115/125\n",
            "225/225 [==============================] - 5s 21ms/step - loss: 0.0109 - accuracy: 0.9962 - val_loss: 0.0530 - val_accuracy: 0.9924\n",
            "Epoch 116/125\n",
            "225/225 [==============================] - 5s 21ms/step - loss: 0.0094 - accuracy: 0.9967 - val_loss: 0.0388 - val_accuracy: 0.9944\n",
            "Epoch 117/125\n",
            "225/225 [==============================] - 5s 21ms/step - loss: 0.0088 - accuracy: 0.9967 - val_loss: 0.0504 - val_accuracy: 0.9934\n",
            "Epoch 118/125\n",
            "225/225 [==============================] - 5s 22ms/step - loss: 0.0108 - accuracy: 0.9961 - val_loss: 0.0484 - val_accuracy: 0.9944\n",
            "Epoch 119/125\n",
            "225/225 [==============================] - 5s 21ms/step - loss: 0.0099 - accuracy: 0.9967 - val_loss: 0.0503 - val_accuracy: 0.9949\n",
            "Epoch 120/125\n",
            "225/225 [==============================] - 5s 21ms/step - loss: 0.0075 - accuracy: 0.9975 - val_loss: 0.0579 - val_accuracy: 0.9956\n",
            "Epoch 121/125\n",
            "225/225 [==============================] - 5s 21ms/step - loss: 0.0125 - accuracy: 0.9966 - val_loss: 0.0762 - val_accuracy: 0.9915\n",
            "Epoch 122/125\n",
            "225/225 [==============================] - 5s 21ms/step - loss: 0.0121 - accuracy: 0.9961 - val_loss: 0.0481 - val_accuracy: 0.9944\n",
            "Epoch 123/125\n",
            "225/225 [==============================] - 5s 21ms/step - loss: 0.0118 - accuracy: 0.9954 - val_loss: 0.0416 - val_accuracy: 0.9941\n",
            "Epoch 124/125\n",
            "225/225 [==============================] - 5s 21ms/step - loss: 0.0092 - accuracy: 0.9969 - val_loss: 0.0631 - val_accuracy: 0.9941\n",
            "Epoch 125/125\n",
            "225/225 [==============================] - 5s 21ms/step - loss: 0.0086 - accuracy: 0.9968 - val_loss: 0.0445 - val_accuracy: 0.9941\n"
          ]
        }
      ]
    },
    {
      "cell_type": "code",
      "execution_count": 16,
      "metadata": {
        "colab": {
          "base_uri": "https://localhost:8080/",
          "height": 927
        },
        "id": "zkkPyEiH9FaP",
        "outputId": "df164d2e-987c-477d-a5f0-d7eec986ec4c"
      },
      "outputs": [
        {
          "output_type": "display_data",
          "data": {
            "text/plain": [
              "<Figure size 640x480 with 1 Axes>"
            ],
            "image/png": "[encoded data removed]"
          },
          "metadata": {}
        },
        {
          "output_type": "display_data",
          "data": {
            "text/plain": [
              "<Figure size 640x480 with 1 Axes>"
            ],
            "image/png": "[encoded data removed]"
          },
          "metadata": {}
        }
      ],
      "source": [
        "plt.plot(history.history['accuracy'])\n",
        "plt.plot(history.history['val_accuracy'])\n",
        "plt.title('model accuracy')\n",
        "plt.ylabel('accuracy')\n",
        "plt.xlabel('epoch')\n",
        "plt.legend(['train', 'test'], loc='upper left')\n",
        "plt.show()\n",
        "# summarize history for loss\n",
        "plt.plot(history.history['loss'])\n",
        "plt.plot(history.history['val_loss'])\n",
        "plt.title('model loss')\n",
        "plt.ylabel('loss')\n",
        "plt.xlabel('epoch')\n",
        "plt.legend(['train', 'test'], loc='upper left')\n",
        "plt.show()"
      ]
    },
    {
      "cell_type": "code",
      "source": [
        "score = model.evaluate(X_val, Y_val, verbose=1)"
      ],
      "metadata": {
        "colab": {
          "base_uri": "https://localhost:8080/"
        },
        "id": "jlRW6oErMMMx",
        "outputId": "2cf8d807-9f29-4c4b-84d2-8b9cae7f18c7"
      },
      "execution_count": null,
      "outputs": [
        {
          "output_type": "stream",
          "name": "stdout",
          "text": [
            "125/125 [==============================] - 1s 7ms/step - loss: 0.0491 - accuracy: 0.9930\n"
          ]
        }
      ]
    },
    {
      "cell_type": "code",
      "source": [
        "ypred = model.predict(X_test)\n",
        "ypred"
      ],
      "metadata": {
        "id": "FQ9EFFN7Lrae"
      },
      "execution_count": null,
      "outputs": []
    },
    {
      "cell_type": "code",
      "source": [
        "ypred.shape"
      ],
      "metadata": {
        "colab": {
          "base_uri": "https://localhost:8080/"
        },
        "id": "9QIS3Z-9NSxI",
        "outputId": "7e59ad6c-4e60-4534-9004-1df75fb3adc3"
      },
      "execution_count": null,
      "outputs": [
        {
          "output_type": "execute_result",
          "data": {
            "text/plain": [
              "(2050, 5)"
            ]
          },
          "metadata": {},
          "execution_count": 12
        }
      ]
    },
    {
      "cell_type": "code",
      "source": [
        "Y_train.shape"
      ],
      "metadata": {
        "colab": {
          "base_uri": "https://localhost:8080/"
        },
        "id": "Bf3mlJ4CNk3p",
        "outputId": "8b7decb8-69b4-4dcb-e009-4a2e2c018606"
      },
      "execution_count": null,
      "outputs": [
        {
          "output_type": "execute_result",
          "data": {
            "text/plain": [
              "TensorShape([16000])"
            ]
          },
          "metadata": {},
          "execution_count": 30
        }
      ]
    },
    {
      "cell_type": "code",
      "source": [
        "ypred= np.argmax(model.predict(X_test), axis=-1)\n",
        "ypred\n"
      ],
      "metadata": {
        "colab": {
          "base_uri": "https://localhost:8080/"
        },
        "id": "dOdeKlWb1tYo",
        "outputId": "5572793e-a63c-4740-a616-fa0fb9ac6ae0"
      },
      "execution_count": 17,
      "outputs": [
        {
          "output_type": "stream",
          "name": "stdout",
          "text": [
            "65/65 [==============================] - 1s 6ms/step\n"
          ]
        },
        {
          "output_type": "execute_result",
          "data": {
            "text/plain": [
              "array([1, 3, 0, ..., 3, 1, 2])"
            ]
          },
          "metadata": {},
          "execution_count": 17
        }
      ]
    },
    {
      "cell_type": "code",
      "source": [
        "from sklearn.metrics import confusion_matrix,accuracy_score\n",
        "confusion_matrix(Y_test,ypred)"
      ],
      "metadata": {
        "colab": {
          "base_uri": "https://localhost:8080/"
        },
        "id": "4l-X0VLF1tl6",
        "outputId": "8102bf50-c704-4f10-d0d8-3d40dc1a690e"
      },
      "execution_count": 18,
      "outputs": [
        {
          "output_type": "execute_result",
          "data": {
            "text/plain": [
              "array([[374,   2,   0,   0,   0],\n",
              "       [  1, 878,   0,   2,   1],\n",
              "       [  0,   0, 185,   0,   0],\n",
              "       [  0,   0,   0, 605,   0],\n",
              "       [  0,   1,   0,   0,   1]])"
            ]
          },
          "metadata": {},
          "execution_count": 18
        }
      ]
    },
    {
      "cell_type": "code",
      "source": [
        "import seaborn as sns\n",
        "import matplotlib.pyplot as plt\n",
        "cm = confusion_matrix(Y_test, ypred)\n",
        "\n",
        "ax= plt.subplot()\n",
        "sns.heatmap(cm, annot=True, fmt='g', ax=ax);  #annot=True to annotate cells, ftm='g' to disable scientific notation\n",
        "\n",
        "# labels, title and ticks\n",
        "ax.set_xlabel('Predicted labels');ax.set_ylabel('True labels');\n",
        "ax.set_title('Confusion Matrix');\n",
        "#ax.xaxis.set_ticklabels(['0', '1', '2', '3', '4']); ax.yaxis.set_ticklabels(['0', '1', '2', '3', '4']);\n",
        "ax.xaxis.set_ticklabels(['Scatter', 'Line', 'Dot', 'Vertical bar', 'Horizontal bar'], rotation = 45); ax.yaxis.set_ticklabels(['Scatter', 'Line', 'Dot', 'Vertical Bar', 'Horizontal bar'], rotation = 45);"
      ],
      "metadata": {
        "id": "LlmgTYfj1to_",
        "colab": {
          "base_uri": "https://localhost:8080/",
          "height": 537
        },
        "outputId": "75ced4cf-3596-4f3f-f0f1-d202cc04bc74"
      },
      "execution_count": 19,
      "outputs": [
        {
          "output_type": "display_data",
          "data": {
            "text/plain": [
              "<Figure size 640x480 with 2 Axes>"
            ],
            "image/png": "[encoded data removed]"
          },
          "metadata": {}
        }
      ]
    },
    {
      "cell_type": "code",
      "source": [
        "2042/2050"
      ],
      "metadata": {
        "id": "jRFt8Mo11tsF",
        "colab": {
          "base_uri": "https://localhost:8080/"
        },
        "outputId": "194d1405-78d8-4d45-9672-79712cb77bfe"
      },
      "execution_count": 20,
      "outputs": [
        {
          "output_type": "execute_result",
          "data": {
            "text/plain": [
              "0.9960975609756098"
            ]
          },
          "metadata": {},
          "execution_count": 20
        }
      ]
    },
    {
      "cell_type": "code",
      "source": [
        "index = 0\n",
        "misclassifiedIndexes = []\n",
        "for label, predict in zip(Y_val , ypred):\n",
        "     if label != predict:\n",
        "        misclassifiedIndexes.append(index)\n",
        "        index +=1\n",
        "\n",
        "plt.figure(figsize=(20,4))\n",
        "for plotIndex, badIndex in enumerate(misclassifiedIndexes[0:5]):\n",
        "    plt.subplot(1, 5, plotIndex + 1)\n",
        "    plt.imshow(np.reshape(X_gray[badIndex], (136,318, 3)), cmap=plt.cm.gray)\n",
        " #   plt.title('Predict: {}, Actual: {}'.format(predictions[badIndex], dev_labels[badIndex]), fontsize = 15)"
      ],
      "metadata": {
        "id": "JHFPNCJU1tvI",
        "colab": {
          "base_uri": "https://localhost:8080/",
          "height": 887
        },
        "outputId": "309baa39-d1b3-4266-9649-8e7059843c0e"
      },
      "execution_count": 23,
      "outputs": [
        {
          "output_type": "stream",
          "name": "stdout",
          "text": [
            "Error in callback <function _draw_all_if_interactive at 0x7ea936201fc0> (for post_execute):\n"
          ]
        },
        {
          "output_type": "error",
          "ename": "ValueError",
          "evalue": "ignored",
          "traceback": [
            "\u001b[0;31m---------------------------------------------------------------------------\u001b[0m",
            "\u001b[0;31mValueError\u001b[0m                                Traceback (most recent call last)",
            "\u001b[0;32m/usr/local/lib/python3.10/dist-packages/matplotlib/pyplot.py\u001b[0m in \u001b[0;36m_draw_all_if_interactive\u001b[0;34m()\u001b[0m\n\u001b[1;32m    118\u001b[0m \u001b[0;32mdef\u001b[0m \u001b[0m_draw_all_if_interactive\u001b[0m\u001b[0;34m(\u001b[0m\u001b[0;34m)\u001b[0m\u001b[0;34m:\u001b[0m\u001b[0;34m\u001b[0m\u001b[0;34m\u001b[0m\u001b[0m\n\u001b[1;32m    119\u001b[0m     \u001b[0;32mif\u001b[0m \u001b[0mmatplotlib\u001b[0m\u001b[0;34m.\u001b[0m\u001b[0mis_interactive\u001b[0m\u001b[0;34m(\u001b[0m\u001b[0;34m)\u001b[0m\u001b[0;34m:\u001b[0m\u001b[0;34m\u001b[0m\u001b[0;34m\u001b[0m\u001b[0m\n\u001b[0;32m--> 120\u001b[0;31m         \u001b[0mdraw_all\u001b[0m\u001b[0;34m(\u001b[0m\u001b[0;34m)\u001b[0m\u001b[0;34m\u001b[0m\u001b[0;34m\u001b[0m\u001b[0m\n\u001b[0m\u001b[1;32m    121\u001b[0m \u001b[0;34m\u001b[0m\u001b[0m\n\u001b[1;32m    122\u001b[0m \u001b[0;34m\u001b[0m\u001b[0m\n",
            "\u001b[0;32m/usr/local/lib/python3.10/dist-packages/matplotlib/_pylab_helpers.py\u001b[0m in \u001b[0;36mdraw_all\u001b[0;34m(cls, force)\u001b[0m\n\u001b[1;32m    130\u001b[0m         \u001b[0;32mfor\u001b[0m \u001b[0mmanager\u001b[0m \u001b[0;32min\u001b[0m \u001b[0mcls\u001b[0m\u001b[0;34m.\u001b[0m\u001b[0mget_all_fig_managers\u001b[0m\u001b[0;34m(\u001b[0m\u001b[0;34m)\u001b[0m\u001b[0;34m:\u001b[0m\u001b[0;34m\u001b[0m\u001b[0;34m\u001b[0m\u001b[0m\n\u001b[1;32m    131\u001b[0m             \u001b[0;32mif\u001b[0m \u001b[0mforce\u001b[0m \u001b[0;32mor\u001b[0m \u001b[0mmanager\u001b[0m\u001b[0;34m.\u001b[0m\u001b[0mcanvas\u001b[0m\u001b[0;34m.\u001b[0m\u001b[0mfigure\u001b[0m\u001b[0;34m.\u001b[0m\u001b[0mstale\u001b[0m\u001b[0;34m:\u001b[0m\u001b[0;34m\u001b[0m\u001b[0;34m\u001b[0m\u001b[0m\n\u001b[0;32m--> 132\u001b[0;31m                 \u001b[0mmanager\u001b[0m\u001b[0;34m.\u001b[0m\u001b[0mcanvas\u001b[0m\u001b[0;34m.\u001b[0m\u001b[0mdraw_idle\u001b[0m\u001b[0;34m(\u001b[0m\u001b[0;34m)\u001b[0m\u001b[0;34m\u001b[0m\u001b[0;34m\u001b[0m\u001b[0m\n\u001b[0m\u001b[1;32m    133\u001b[0m \u001b[0;34m\u001b[0m\u001b[0m\n\u001b[1;32m    134\u001b[0m \u001b[0;34m\u001b[0m\u001b[0m\n",
            "\u001b[0;32m/usr/local/lib/python3.10/dist-packages/matplotlib/backend_bases.py\u001b[0m in \u001b[0;36mdraw_idle\u001b[0;34m(self, *args, **kwargs)\u001b[0m\n\u001b[1;32m   2080\u001b[0m         \u001b[0;32mif\u001b[0m \u001b[0;32mnot\u001b[0m \u001b[0mself\u001b[0m\u001b[0;34m.\u001b[0m\u001b[0m_is_idle_drawing\u001b[0m\u001b[0;34m:\u001b[0m\u001b[0;34m\u001b[0m\u001b[0;34m\u001b[0m\u001b[0m\n\u001b[1;32m   2081\u001b[0m             \u001b[0;32mwith\u001b[0m \u001b[0mself\u001b[0m\u001b[0;34m.\u001b[0m\u001b[0m_idle_draw_cntx\u001b[0m\u001b[0;34m(\u001b[0m\u001b[0;34m)\u001b[0m\u001b[0;34m:\u001b[0m\u001b[0;34m\u001b[0m\u001b[0;34m\u001b[0m\u001b[0m\n\u001b[0;32m-> 2082\u001b[0;31m                 \u001b[0mself\u001b[0m\u001b[0;34m.\u001b[0m\u001b[0mdraw\u001b[0m\u001b[0;34m(\u001b[0m\u001b[0;34m*\u001b[0m\u001b[0margs\u001b[0m\u001b[0;34m,\u001b[0m \u001b[0;34m**\u001b[0m\u001b[0mkwargs\u001b[0m\u001b[0;34m)\u001b[0m\u001b[0;34m\u001b[0m\u001b[0;34m\u001b[0m\u001b[0m\n\u001b[0m\u001b[1;32m   2083\u001b[0m \u001b[0;34m\u001b[0m\u001b[0m\n\u001b[1;32m   2084\u001b[0m     \u001b[0;34m@\u001b[0m\u001b[0mproperty\u001b[0m\u001b[0;34m\u001b[0m\u001b[0;34m\u001b[0m\u001b[0m\n",
            "\u001b[0;32m/usr/local/lib/python3.10/dist-packages/matplotlib/backends/backend_agg.py\u001b[0m in \u001b[0;36mdraw\u001b[0;34m(self)\u001b[0m\n\u001b[1;32m    398\u001b[0m              (self.toolbar._wait_cursor_for_draw_cm() if self.toolbar\n\u001b[1;32m    399\u001b[0m               else nullcontext()):\n\u001b[0;32m--> 400\u001b[0;31m             \u001b[0mself\u001b[0m\u001b[0;34m.\u001b[0m\u001b[0mfigure\u001b[0m\u001b[0;34m.\u001b[0m\u001b[0mdraw\u001b[0m\u001b[0;34m(\u001b[0m\u001b[0mself\u001b[0m\u001b[0;34m.\u001b[0m\u001b[0mrenderer\u001b[0m\u001b[0;34m)\u001b[0m\u001b[0;34m\u001b[0m\u001b[0;34m\u001b[0m\u001b[0m\n\u001b[0m\u001b[1;32m    401\u001b[0m             \u001b[0;31m# A GUI class may be need to update a window using this draw, so\u001b[0m\u001b[0;34m\u001b[0m\u001b[0;34m\u001b[0m\u001b[0m\n\u001b[1;32m    402\u001b[0m             \u001b[0;31m# don't forget to call the superclass.\u001b[0m\u001b[0;34m\u001b[0m\u001b[0;34m\u001b[0m\u001b[0m\n",
            "\u001b[0;32m/usr/local/lib/python3.10/dist-packages/matplotlib/artist.py\u001b[0m in \u001b[0;36mdraw_wrapper\u001b[0;34m(artist, renderer, *args, **kwargs)\u001b[0m\n\u001b[1;32m     93\u001b[0m     \u001b[0;34m@\u001b[0m\u001b[0mwraps\u001b[0m\u001b[0;34m(\u001b[0m\u001b[0mdraw\u001b[0m\u001b[0;34m)\u001b[0m\u001b[0;34m\u001b[0m\u001b[0;34m\u001b[0m\u001b[0m\n\u001b[1;32m     94\u001b[0m     \u001b[0;32mdef\u001b[0m \u001b[0mdraw_wrapper\u001b[0m\u001b[0;34m(\u001b[0m\u001b[0martist\u001b[0m\u001b[0;34m,\u001b[0m \u001b[0mrenderer\u001b[0m\u001b[0;34m,\u001b[0m \u001b[0;34m*\u001b[0m\u001b[0margs\u001b[0m\u001b[0;34m,\u001b[0m \u001b[0;34m**\u001b[0m\u001b[0mkwargs\u001b[0m\u001b[0;34m)\u001b[0m\u001b[0;34m:\u001b[0m\u001b[0;34m\u001b[0m\u001b[0;34m\u001b[0m\u001b[0m\n\u001b[0;32m---> 95\u001b[0;31m         \u001b[0mresult\u001b[0m \u001b[0;34m=\u001b[0m \u001b[0mdraw\u001b[0m\u001b[0;34m(\u001b[0m\u001b[0martist\u001b[0m\u001b[0;34m,\u001b[0m \u001b[0mrenderer\u001b[0m\u001b[0;34m,\u001b[0m \u001b[0;34m*\u001b[0m\u001b[0margs\u001b[0m\u001b[0;34m,\u001b[0m \u001b[0;34m**\u001b[0m\u001b[0mkwargs\u001b[0m\u001b[0;34m)\u001b[0m\u001b[0;34m\u001b[0m\u001b[0;34m\u001b[0m\u001b[0m\n\u001b[0m\u001b[1;32m     96\u001b[0m         \u001b[0;32mif\u001b[0m \u001b[0mrenderer\u001b[0m\u001b[0;34m.\u001b[0m\u001b[0m_rasterizing\u001b[0m\u001b[0;34m:\u001b[0m\u001b[0;34m\u001b[0m\u001b[0;34m\u001b[0m\u001b[0m\n\u001b[1;32m     97\u001b[0m             \u001b[0mrenderer\u001b[0m\u001b[0;34m.\u001b[0m\u001b[0mstop_rasterizing\u001b[0m\u001b[0;34m(\u001b[0m\u001b[0;34m)\u001b[0m\u001b[0;34m\u001b[0m\u001b[0;34m\u001b[0m\u001b[0m\n",
            "\u001b[0;32m/usr/local/lib/python3.10/dist-packages/matplotlib/artist.py\u001b[0m in \u001b[0;36mdraw_wrapper\u001b[0;34m(artist, renderer)\u001b[0m\n\u001b[1;32m     70\u001b[0m                 \u001b[0mrenderer\u001b[0m\u001b[0;34m.\u001b[0m\u001b[0mstart_filter\u001b[0m\u001b[0;34m(\u001b[0m\u001b[0;34m)\u001b[0m\u001b[0;34m\u001b[0m\u001b[0;34m\u001b[0m\u001b[0m\n\u001b[1;32m     71\u001b[0m \u001b[0;34m\u001b[0m\u001b[0m\n\u001b[0;32m---> 72\u001b[0;31m             \u001b[0;32mreturn\u001b[0m \u001b[0mdraw\u001b[0m\u001b[0;34m(\u001b[0m\u001b[0martist\u001b[0m\u001b[0;34m,\u001b[0m \u001b[0mrenderer\u001b[0m\u001b[0;34m)\u001b[0m\u001b[0;34m\u001b[0m\u001b[0;34m\u001b[0m\u001b[0m\n\u001b[0m\u001b[1;32m     73\u001b[0m         \u001b[0;32mfinally\u001b[0m\u001b[0;34m:\u001b[0m\u001b[0;34m\u001b[0m\u001b[0;34m\u001b[0m\u001b[0m\n\u001b[1;32m     74\u001b[0m             \u001b[0;32mif\u001b[0m \u001b[0martist\u001b[0m\u001b[0;34m.\u001b[0m\u001b[0mget_agg_filter\u001b[0m\u001b[0;34m(\u001b[0m\u001b[0;34m)\u001b[0m \u001b[0;32mis\u001b[0m \u001b[0;32mnot\u001b[0m \u001b[0;32mNone\u001b[0m\u001b[0;34m:\u001b[0m\u001b[0;34m\u001b[0m\u001b[0;34m\u001b[0m\u001b[0m\n",
            "\u001b[0;32m/usr/local/lib/python3.10/dist-packages/matplotlib/figure.py\u001b[0m in \u001b[0;36mdraw\u001b[0;34m(self, renderer)\u001b[0m\n\u001b[1;32m   3138\u001b[0m \u001b[0;34m\u001b[0m\u001b[0m\n\u001b[1;32m   3139\u001b[0m             \u001b[0mself\u001b[0m\u001b[0;34m.\u001b[0m\u001b[0mpatch\u001b[0m\u001b[0;34m.\u001b[0m\u001b[0mdraw\u001b[0m\u001b[0;34m(\u001b[0m\u001b[0mrenderer\u001b[0m\u001b[0;34m)\u001b[0m\u001b[0;34m\u001b[0m\u001b[0;34m\u001b[0m\u001b[0m\n\u001b[0;32m-> 3140\u001b[0;31m             mimage._draw_list_compositing_images(\n\u001b[0m\u001b[1;32m   3141\u001b[0m                 renderer, self, artists, self.suppressComposite)\n\u001b[1;32m   3142\u001b[0m \u001b[0;34m\u001b[0m\u001b[0m\n",
            "\u001b[0;32m/usr/local/lib/python3.10/dist-packages/matplotlib/image.py\u001b[0m in \u001b[0;36m_draw_list_compositing_images\u001b[0;34m(renderer, parent, artists, suppress_composite)\u001b[0m\n\u001b[1;32m    129\u001b[0m     \u001b[0;32mif\u001b[0m \u001b[0mnot_composite\u001b[0m \u001b[0;32mor\u001b[0m \u001b[0;32mnot\u001b[0m \u001b[0mhas_images\u001b[0m\u001b[0;34m:\u001b[0m\u001b[0;34m\u001b[0m\u001b[0;34m\u001b[0m\u001b[0m\n\u001b[1;32m    130\u001b[0m         \u001b[0;32mfor\u001b[0m \u001b[0ma\u001b[0m \u001b[0;32min\u001b[0m \u001b[0martists\u001b[0m\u001b[0;34m:\u001b[0m\u001b[0;34m\u001b[0m\u001b[0;34m\u001b[0m\u001b[0m\n\u001b[0;32m--> 131\u001b[0;31m             \u001b[0ma\u001b[0m\u001b[0;34m.\u001b[0m\u001b[0mdraw\u001b[0m\u001b[0;34m(\u001b[0m\u001b[0mrenderer\u001b[0m\u001b[0;34m)\u001b[0m\u001b[0;34m\u001b[0m\u001b[0;34m\u001b[0m\u001b[0m\n\u001b[0m\u001b[1;32m    132\u001b[0m     \u001b[0;32melse\u001b[0m\u001b[0;34m:\u001b[0m\u001b[0;34m\u001b[0m\u001b[0;34m\u001b[0m\u001b[0m\n\u001b[1;32m    133\u001b[0m         \u001b[0;31m# Composite any adjacent images together\u001b[0m\u001b[0;34m\u001b[0m\u001b[0;34m\u001b[0m\u001b[0m\n",
            "\u001b[0;32m/usr/local/lib/python3.10/dist-packages/matplotlib/artist.py\u001b[0m in \u001b[0;36mdraw_wrapper\u001b[0;34m(artist, renderer)\u001b[0m\n\u001b[1;32m     70\u001b[0m                 \u001b[0mrenderer\u001b[0m\u001b[0;34m.\u001b[0m\u001b[0mstart_filter\u001b[0m\u001b[0;34m(\u001b[0m\u001b[0;34m)\u001b[0m\u001b[0;34m\u001b[0m\u001b[0;34m\u001b[0m\u001b[0m\n\u001b[1;32m     71\u001b[0m \u001b[0;34m\u001b[0m\u001b[0m\n\u001b[0;32m---> 72\u001b[0;31m             \u001b[0;32mreturn\u001b[0m \u001b[0mdraw\u001b[0m\u001b[0;34m(\u001b[0m\u001b[0martist\u001b[0m\u001b[0;34m,\u001b[0m \u001b[0mrenderer\u001b[0m\u001b[0;34m)\u001b[0m\u001b[0;34m\u001b[0m\u001b[0;34m\u001b[0m\u001b[0m\n\u001b[0m\u001b[1;32m     73\u001b[0m         \u001b[0;32mfinally\u001b[0m\u001b[0;34m:\u001b[0m\u001b[0;34m\u001b[0m\u001b[0;34m\u001b[0m\u001b[0m\n\u001b[1;32m     74\u001b[0m             \u001b[0;32mif\u001b[0m \u001b[0martist\u001b[0m\u001b[0;34m.\u001b[0m\u001b[0mget_agg_filter\u001b[0m\u001b[0;34m(\u001b[0m\u001b[0;34m)\u001b[0m \u001b[0;32mis\u001b[0m \u001b[0;32mnot\u001b[0m \u001b[0;32mNone\u001b[0m\u001b[0;34m:\u001b[0m\u001b[0;34m\u001b[0m\u001b[0;34m\u001b[0m\u001b[0m\n",
            "\u001b[0;32m/usr/local/lib/python3.10/dist-packages/matplotlib/axes/_base.py\u001b[0m in \u001b[0;36mdraw\u001b[0;34m(self, renderer)\u001b[0m\n\u001b[1;32m   3062\u001b[0m             \u001b[0m_draw_rasterized\u001b[0m\u001b[0;34m(\u001b[0m\u001b[0mself\u001b[0m\u001b[0;34m.\u001b[0m\u001b[0mfigure\u001b[0m\u001b[0;34m,\u001b[0m \u001b[0martists_rasterized\u001b[0m\u001b[0;34m,\u001b[0m \u001b[0mrenderer\u001b[0m\u001b[0;34m)\u001b[0m\u001b[0;34m\u001b[0m\u001b[0;34m\u001b[0m\u001b[0m\n\u001b[1;32m   3063\u001b[0m \u001b[0;34m\u001b[0m\u001b[0m\n\u001b[0;32m-> 3064\u001b[0;31m         mimage._draw_list_compositing_images(\n\u001b[0m\u001b[1;32m   3065\u001b[0m             renderer, self, artists, self.figure.suppressComposite)\n\u001b[1;32m   3066\u001b[0m \u001b[0;34m\u001b[0m\u001b[0m\n",
            "\u001b[0;32m/usr/local/lib/python3.10/dist-packages/matplotlib/image.py\u001b[0m in \u001b[0;36m_draw_list_compositing_images\u001b[0;34m(renderer, parent, artists, suppress_composite)\u001b[0m\n\u001b[1;32m    129\u001b[0m     \u001b[0;32mif\u001b[0m \u001b[0mnot_composite\u001b[0m \u001b[0;32mor\u001b[0m \u001b[0;32mnot\u001b[0m \u001b[0mhas_images\u001b[0m\u001b[0;34m:\u001b[0m\u001b[0;34m\u001b[0m\u001b[0;34m\u001b[0m\u001b[0m\n\u001b[1;32m    130\u001b[0m         \u001b[0;32mfor\u001b[0m \u001b[0ma\u001b[0m \u001b[0;32min\u001b[0m \u001b[0martists\u001b[0m\u001b[0;34m:\u001b[0m\u001b[0;34m\u001b[0m\u001b[0;34m\u001b[0m\u001b[0m\n\u001b[0;32m--> 131\u001b[0;31m             \u001b[0ma\u001b[0m\u001b[0;34m.\u001b[0m\u001b[0mdraw\u001b[0m\u001b[0;34m(\u001b[0m\u001b[0mrenderer\u001b[0m\u001b[0;34m)\u001b[0m\u001b[0;34m\u001b[0m\u001b[0;34m\u001b[0m\u001b[0m\n\u001b[0m\u001b[1;32m    132\u001b[0m     \u001b[0;32melse\u001b[0m\u001b[0;34m:\u001b[0m\u001b[0;34m\u001b[0m\u001b[0;34m\u001b[0m\u001b[0m\n\u001b[1;32m    133\u001b[0m         \u001b[0;31m# Composite any adjacent images together\u001b[0m\u001b[0;34m\u001b[0m\u001b[0;34m\u001b[0m\u001b[0m\n",
            "\u001b[0;32m/usr/local/lib/python3.10/dist-packages/matplotlib/artist.py\u001b[0m in \u001b[0;36mdraw_wrapper\u001b[0;34m(artist, renderer)\u001b[0m\n\u001b[1;32m     70\u001b[0m                 \u001b[0mrenderer\u001b[0m\u001b[0;34m.\u001b[0m\u001b[0mstart_filter\u001b[0m\u001b[0;34m(\u001b[0m\u001b[0;34m)\u001b[0m\u001b[0;34m\u001b[0m\u001b[0;34m\u001b[0m\u001b[0m\n\u001b[1;32m     71\u001b[0m \u001b[0;34m\u001b[0m\u001b[0m\n\u001b[0;32m---> 72\u001b[0;31m             \u001b[0;32mreturn\u001b[0m \u001b[0mdraw\u001b[0m\u001b[0;34m(\u001b[0m\u001b[0martist\u001b[0m\u001b[0;34m,\u001b[0m \u001b[0mrenderer\u001b[0m\u001b[0;34m)\u001b[0m\u001b[0;34m\u001b[0m\u001b[0;34m\u001b[0m\u001b[0m\n\u001b[0m\u001b[1;32m     73\u001b[0m         \u001b[0;32mfinally\u001b[0m\u001b[0;34m:\u001b[0m\u001b[0;34m\u001b[0m\u001b[0;34m\u001b[0m\u001b[0m\n\u001b[1;32m     74\u001b[0m             \u001b[0;32mif\u001b[0m \u001b[0martist\u001b[0m\u001b[0;34m.\u001b[0m\u001b[0mget_agg_filter\u001b[0m\u001b[0;34m(\u001b[0m\u001b[0;34m)\u001b[0m \u001b[0;32mis\u001b[0m \u001b[0;32mnot\u001b[0m \u001b[0;32mNone\u001b[0m\u001b[0;34m:\u001b[0m\u001b[0;34m\u001b[0m\u001b[0;34m\u001b[0m\u001b[0m\n",
            "\u001b[0;32m/usr/local/lib/python3.10/dist-packages/matplotlib/image.py\u001b[0m in \u001b[0;36mdraw\u001b[0;34m(self, renderer, *args, **kwargs)\u001b[0m\n\u001b[1;32m    639\u001b[0m                 \u001b[0mrenderer\u001b[0m\u001b[0;34m.\u001b[0m\u001b[0mdraw_image\u001b[0m\u001b[0;34m(\u001b[0m\u001b[0mgc\u001b[0m\u001b[0;34m,\u001b[0m \u001b[0ml\u001b[0m\u001b[0;34m,\u001b[0m \u001b[0mb\u001b[0m\u001b[0;34m,\u001b[0m \u001b[0mim\u001b[0m\u001b[0;34m,\u001b[0m \u001b[0mtrans\u001b[0m\u001b[0;34m)\u001b[0m\u001b[0;34m\u001b[0m\u001b[0;34m\u001b[0m\u001b[0m\n\u001b[1;32m    640\u001b[0m         \u001b[0;32melse\u001b[0m\u001b[0;34m:\u001b[0m\u001b[0;34m\u001b[0m\u001b[0;34m\u001b[0m\u001b[0m\n\u001b[0;32m--> 641\u001b[0;31m             im, l, b, trans = self.make_image(\n\u001b[0m\u001b[1;32m    642\u001b[0m                 renderer, renderer.get_image_magnification())\n\u001b[1;32m    643\u001b[0m             \u001b[0;32mif\u001b[0m \u001b[0mim\u001b[0m \u001b[0;32mis\u001b[0m \u001b[0;32mnot\u001b[0m \u001b[0;32mNone\u001b[0m\u001b[0;34m:\u001b[0m\u001b[0;34m\u001b[0m\u001b[0;34m\u001b[0m\u001b[0m\n",
            "\u001b[0;32m/usr/local/lib/python3.10/dist-packages/matplotlib/image.py\u001b[0m in \u001b[0;36mmake_image\u001b[0;34m(self, renderer, magnification, unsampled)\u001b[0m\n\u001b[1;32m    947\u001b[0m         clip = ((self.get_clip_box() or self.axes.bbox) if self.get_clip_on()\n\u001b[1;32m    948\u001b[0m                 else self.figure.bbox)\n\u001b[0;32m--> 949\u001b[0;31m         return self._make_image(self._A, bbox, transformed_bbox, clip,\n\u001b[0m\u001b[1;32m    950\u001b[0m                                 magnification, unsampled=unsampled)\n\u001b[1;32m    951\u001b[0m \u001b[0;34m\u001b[0m\u001b[0m\n",
            "\u001b[0;32m/usr/local/lib/python3.10/dist-packages/matplotlib/image.py\u001b[0m in \u001b[0;36m_make_image\u001b[0;34m(self, A, in_bbox, out_bbox, clip_bbox, magnification, unsampled, round_to_pixel_border)\u001b[0m\n\u001b[1;32m    551\u001b[0m                     \u001b[0mA\u001b[0m \u001b[0;34m=\u001b[0m \u001b[0m_rgb_to_rgba\u001b[0m\u001b[0;34m(\u001b[0m\u001b[0mA\u001b[0m\u001b[0;34m)\u001b[0m\u001b[0;34m\u001b[0m\u001b[0;34m\u001b[0m\u001b[0m\n\u001b[1;32m    552\u001b[0m                 \u001b[0malpha\u001b[0m \u001b[0;34m=\u001b[0m \u001b[0mself\u001b[0m\u001b[0;34m.\u001b[0m\u001b[0m_get_scalar_alpha\u001b[0m\u001b[0;34m(\u001b[0m\u001b[0;34m)\u001b[0m\u001b[0;34m\u001b[0m\u001b[0;34m\u001b[0m\u001b[0m\n\u001b[0;32m--> 553\u001b[0;31m                 output_alpha = _resample(  # resample alpha channel\n\u001b[0m\u001b[1;32m    554\u001b[0m                     self, A[..., 3], out_shape, t, alpha=alpha)\n\u001b[1;32m    555\u001b[0m                 output = _resample(  # resample rgb channels\n",
            "\u001b[0;32m/usr/local/lib/python3.10/dist-packages/matplotlib/image.py\u001b[0m in \u001b[0;36m_resample\u001b[0;34m(image_obj, data, out_shape, transform, resample, alpha)\u001b[0m\n\u001b[1;32m    205\u001b[0m     \u001b[0;32mif\u001b[0m \u001b[0mresample\u001b[0m \u001b[0;32mis\u001b[0m \u001b[0;32mNone\u001b[0m\u001b[0;34m:\u001b[0m\u001b[0;34m\u001b[0m\u001b[0;34m\u001b[0m\u001b[0m\n\u001b[1;32m    206\u001b[0m         \u001b[0mresample\u001b[0m \u001b[0;34m=\u001b[0m \u001b[0mimage_obj\u001b[0m\u001b[0;34m.\u001b[0m\u001b[0mget_resample\u001b[0m\u001b[0;34m(\u001b[0m\u001b[0;34m)\u001b[0m\u001b[0;34m\u001b[0m\u001b[0;34m\u001b[0m\u001b[0m\n\u001b[0;32m--> 207\u001b[0;31m     _image.resample(data, out, transform,\n\u001b[0m\u001b[1;32m    208\u001b[0m                     \u001b[0m_interpd_\u001b[0m\u001b[0;34m[\u001b[0m\u001b[0minterpolation\u001b[0m\u001b[0;34m]\u001b[0m\u001b[0;34m,\u001b[0m\u001b[0;34m\u001b[0m\u001b[0;34m\u001b[0m\u001b[0m\n\u001b[1;32m    209\u001b[0m                     \u001b[0mresample\u001b[0m\u001b[0;34m,\u001b[0m\u001b[0;34m\u001b[0m\u001b[0;34m\u001b[0m\u001b[0m\n",
            "\u001b[0;31mValueError\u001b[0m: Unsupported dtype"
          ]
        },
        {
          "output_type": "error",
          "ename": "ValueError",
          "evalue": "ignored",
          "traceback": [
            "\u001b[0;31m---------------------------------------------------------------------------\u001b[0m",
            "\u001b[0;31mValueError\u001b[0m                                Traceback (most recent call last)",
            "\u001b[0;32m/usr/local/lib/python3.10/dist-packages/IPython/core/formatters.py\u001b[0m in \u001b[0;36m__call__\u001b[0;34m(self, obj)\u001b[0m\n\u001b[1;32m    339\u001b[0m                 \u001b[0;32mpass\u001b[0m\u001b[0;34m\u001b[0m\u001b[0;34m\u001b[0m\u001b[0m\n\u001b[1;32m    340\u001b[0m             \u001b[0;32melse\u001b[0m\u001b[0;34m:\u001b[0m\u001b[0;34m\u001b[0m\u001b[0;34m\u001b[0m\u001b[0m\n\u001b[0;32m--> 341\u001b[0;31m                 \u001b[0;32mreturn\u001b[0m \u001b[0mprinter\u001b[0m\u001b[0;34m(\u001b[0m\u001b[0mobj\u001b[0m\u001b[0;34m)\u001b[0m\u001b[0;34m\u001b[0m\u001b[0;34m\u001b[0m\u001b[0m\n\u001b[0m\u001b[1;32m    342\u001b[0m             \u001b[0;31m# Finally look for special method names\u001b[0m\u001b[0;34m\u001b[0m\u001b[0;34m\u001b[0m\u001b[0m\n\u001b[1;32m    343\u001b[0m             \u001b[0mmethod\u001b[0m \u001b[0;34m=\u001b[0m \u001b[0mget_real_method\u001b[0m\u001b[0;34m(\u001b[0m\u001b[0mobj\u001b[0m\u001b[0;34m,\u001b[0m \u001b[0mself\u001b[0m\u001b[0;34m.\u001b[0m\u001b[0mprint_method\u001b[0m\u001b[0;34m)\u001b[0m\u001b[0;34m\u001b[0m\u001b[0;34m\u001b[0m\u001b[0m\n",
            "\u001b[0;32m/usr/local/lib/python3.10/dist-packages/IPython/core/pylabtools.py\u001b[0m in \u001b[0;36mprint_figure\u001b[0;34m(fig, fmt, bbox_inches, base64, **kwargs)\u001b[0m\n\u001b[1;32m    149\u001b[0m         \u001b[0mFigureCanvasBase\u001b[0m\u001b[0;34m(\u001b[0m\u001b[0mfig\u001b[0m\u001b[0;34m)\u001b[0m\u001b[0;34m\u001b[0m\u001b[0;34m\u001b[0m\u001b[0m\n\u001b[1;32m    150\u001b[0m \u001b[0;34m\u001b[0m\u001b[0m\n\u001b[0;32m--> 151\u001b[0;31m     \u001b[0mfig\u001b[0m\u001b[0;34m.\u001b[0m\u001b[0mcanvas\u001b[0m\u001b[0;34m.\u001b[0m\u001b[0mprint_figure\u001b[0m\u001b[0;34m(\u001b[0m\u001b[0mbytes_io\u001b[0m\u001b[0;34m,\u001b[0m \u001b[0;34m**\u001b[0m\u001b[0mkw\u001b[0m\u001b[0;34m)\u001b[0m\u001b[0;34m\u001b[0m\u001b[0;34m\u001b[0m\u001b[0m\n\u001b[0m\u001b[1;32m    152\u001b[0m     \u001b[0mdata\u001b[0m \u001b[0;34m=\u001b[0m \u001b[0mbytes_io\u001b[0m\u001b[0;34m.\u001b[0m\u001b[0mgetvalue\u001b[0m\u001b[0;34m(\u001b[0m\u001b[0;34m)\u001b[0m\u001b[0;34m\u001b[0m\u001b[0;34m\u001b[0m\u001b[0m\n\u001b[1;32m    153\u001b[0m     \u001b[0;32mif\u001b[0m \u001b[0mfmt\u001b[0m \u001b[0;34m==\u001b[0m \u001b[0;34m'svg'\u001b[0m\u001b[0;34m:\u001b[0m\u001b[0;34m\u001b[0m\u001b[0;34m\u001b[0m\u001b[0m\n",
            "\u001b[0;32m/usr/local/lib/python3.10/dist-packages/matplotlib/backend_bases.py\u001b[0m in \u001b[0;36mprint_figure\u001b[0;34m(self, filename, dpi, facecolor, edgecolor, orientation, format, bbox_inches, pad_inches, bbox_extra_artists, backend, **kwargs)\u001b[0m\n\u001b[1;32m   2340\u001b[0m                 )\n\u001b[1;32m   2341\u001b[0m                 \u001b[0;32mwith\u001b[0m \u001b[0mgetattr\u001b[0m\u001b[0;34m(\u001b[0m\u001b[0mrenderer\u001b[0m\u001b[0;34m,\u001b[0m \u001b[0;34m\"_draw_disabled\"\u001b[0m\u001b[0;34m,\u001b[0m \u001b[0mnullcontext\u001b[0m\u001b[0;34m)\u001b[0m\u001b[0;34m(\u001b[0m\u001b[0;34m)\u001b[0m\u001b[0;34m:\u001b[0m\u001b[0;34m\u001b[0m\u001b[0;34m\u001b[0m\u001b[0m\n\u001b[0;32m-> 2342\u001b[0;31m                     \u001b[0mself\u001b[0m\u001b[0;34m.\u001b[0m\u001b[0mfigure\u001b[0m\u001b[0;34m.\u001b[0m\u001b[0mdraw\u001b[0m\u001b[0;34m(\u001b[0m\u001b[0mrenderer\u001b[0m\u001b[0;34m)\u001b[0m\u001b[0;34m\u001b[0m\u001b[0;34m\u001b[0m\u001b[0m\n\u001b[0m\u001b[1;32m   2343\u001b[0m \u001b[0;34m\u001b[0m\u001b[0m\n\u001b[1;32m   2344\u001b[0m             \u001b[0;32mif\u001b[0m \u001b[0mbbox_inches\u001b[0m\u001b[0;34m:\u001b[0m\u001b[0;34m\u001b[0m\u001b[0;34m\u001b[0m\u001b[0m\n",
            "\u001b[0;32m/usr/local/lib/python3.10/dist-packages/matplotlib/artist.py\u001b[0m in \u001b[0;36mdraw_wrapper\u001b[0;34m(artist, renderer, *args, **kwargs)\u001b[0m\n\u001b[1;32m     93\u001b[0m     \u001b[0;34m@\u001b[0m\u001b[0mwraps\u001b[0m\u001b[0;34m(\u001b[0m\u001b[0mdraw\u001b[0m\u001b[0;34m)\u001b[0m\u001b[0;34m\u001b[0m\u001b[0;34m\u001b[0m\u001b[0m\n\u001b[1;32m     94\u001b[0m     \u001b[0;32mdef\u001b[0m \u001b[0mdraw_wrapper\u001b[0m\u001b[0;34m(\u001b[0m\u001b[0martist\u001b[0m\u001b[0;34m,\u001b[0m \u001b[0mrenderer\u001b[0m\u001b[0;34m,\u001b[0m \u001b[0;34m*\u001b[0m\u001b[0margs\u001b[0m\u001b[0;34m,\u001b[0m \u001b[0;34m**\u001b[0m\u001b[0mkwargs\u001b[0m\u001b[0;34m)\u001b[0m\u001b[0;34m:\u001b[0m\u001b[0;34m\u001b[0m\u001b[0;34m\u001b[0m\u001b[0m\n\u001b[0;32m---> 95\u001b[0;31m         \u001b[0mresult\u001b[0m \u001b[0;34m=\u001b[0m \u001b[0mdraw\u001b[0m\u001b[0;34m(\u001b[0m\u001b[0martist\u001b[0m\u001b[0;34m,\u001b[0m \u001b[0mrenderer\u001b[0m\u001b[0;34m,\u001b[0m \u001b[0;34m*\u001b[0m\u001b[0margs\u001b[0m\u001b[0;34m,\u001b[0m \u001b[0;34m**\u001b[0m\u001b[0mkwargs\u001b[0m\u001b[0;34m)\u001b[0m\u001b[0;34m\u001b[0m\u001b[0;34m\u001b[0m\u001b[0m\n\u001b[0m\u001b[1;32m     96\u001b[0m         \u001b[0;32mif\u001b[0m \u001b[0mrenderer\u001b[0m\u001b[0;34m.\u001b[0m\u001b[0m_rasterizing\u001b[0m\u001b[0;34m:\u001b[0m\u001b[0;34m\u001b[0m\u001b[0;34m\u001b[0m\u001b[0m\n\u001b[1;32m     97\u001b[0m             \u001b[0mrenderer\u001b[0m\u001b[0;34m.\u001b[0m\u001b[0mstop_rasterizing\u001b[0m\u001b[0;34m(\u001b[0m\u001b[0;34m)\u001b[0m\u001b[0;34m\u001b[0m\u001b[0;34m\u001b[0m\u001b[0m\n",
            "\u001b[0;32m/usr/local/lib/python3.10/dist-packages/matplotlib/artist.py\u001b[0m in \u001b[0;36mdraw_wrapper\u001b[0;34m(artist, renderer)\u001b[0m\n\u001b[1;32m     70\u001b[0m                 \u001b[0mrenderer\u001b[0m\u001b[0;34m.\u001b[0m\u001b[0mstart_filter\u001b[0m\u001b[0;34m(\u001b[0m\u001b[0;34m)\u001b[0m\u001b[0;34m\u001b[0m\u001b[0;34m\u001b[0m\u001b[0m\n\u001b[1;32m     71\u001b[0m \u001b[0;34m\u001b[0m\u001b[0m\n\u001b[0;32m---> 72\u001b[0;31m             \u001b[0;32mreturn\u001b[0m \u001b[0mdraw\u001b[0m\u001b[0;34m(\u001b[0m\u001b[0martist\u001b[0m\u001b[0;34m,\u001b[0m \u001b[0mrenderer\u001b[0m\u001b[0;34m)\u001b[0m\u001b[0;34m\u001b[0m\u001b[0;34m\u001b[0m\u001b[0m\n\u001b[0m\u001b[1;32m     73\u001b[0m         \u001b[0;32mfinally\u001b[0m\u001b[0;34m:\u001b[0m\u001b[0;34m\u001b[0m\u001b[0;34m\u001b[0m\u001b[0m\n\u001b[1;32m     74\u001b[0m             \u001b[0;32mif\u001b[0m \u001b[0martist\u001b[0m\u001b[0;34m.\u001b[0m\u001b[0mget_agg_filter\u001b[0m\u001b[0;34m(\u001b[0m\u001b[0;34m)\u001b[0m \u001b[0;32mis\u001b[0m \u001b[0;32mnot\u001b[0m \u001b[0;32mNone\u001b[0m\u001b[0;34m:\u001b[0m\u001b[0;34m\u001b[0m\u001b[0;34m\u001b[0m\u001b[0m\n",
            "\u001b[0;32m/usr/local/lib/python3.10/dist-packages/matplotlib/figure.py\u001b[0m in \u001b[0;36mdraw\u001b[0;34m(self, renderer)\u001b[0m\n\u001b[1;32m   3138\u001b[0m \u001b[0;34m\u001b[0m\u001b[0m\n\u001b[1;32m   3139\u001b[0m             \u001b[0mself\u001b[0m\u001b[0;34m.\u001b[0m\u001b[0mpatch\u001b[0m\u001b[0;34m.\u001b[0m\u001b[0mdraw\u001b[0m\u001b[0;34m(\u001b[0m\u001b[0mrenderer\u001b[0m\u001b[0;34m)\u001b[0m\u001b[0;34m\u001b[0m\u001b[0;34m\u001b[0m\u001b[0m\n\u001b[0;32m-> 3140\u001b[0;31m             mimage._draw_list_compositing_images(\n\u001b[0m\u001b[1;32m   3141\u001b[0m                 renderer, self, artists, self.suppressComposite)\n\u001b[1;32m   3142\u001b[0m \u001b[0;34m\u001b[0m\u001b[0m\n",
            "\u001b[0;32m/usr/local/lib/python3.10/dist-packages/matplotlib/image.py\u001b[0m in \u001b[0;36m_draw_list_compositing_images\u001b[0;34m(renderer, parent, artists, suppress_composite)\u001b[0m\n\u001b[1;32m    129\u001b[0m     \u001b[0;32mif\u001b[0m \u001b[0mnot_composite\u001b[0m \u001b[0;32mor\u001b[0m \u001b[0;32mnot\u001b[0m \u001b[0mhas_images\u001b[0m\u001b[0;34m:\u001b[0m\u001b[0;34m\u001b[0m\u001b[0;34m\u001b[0m\u001b[0m\n\u001b[1;32m    130\u001b[0m         \u001b[0;32mfor\u001b[0m \u001b[0ma\u001b[0m \u001b[0;32min\u001b[0m \u001b[0martists\u001b[0m\u001b[0;34m:\u001b[0m\u001b[0;34m\u001b[0m\u001b[0;34m\u001b[0m\u001b[0m\n\u001b[0;32m--> 131\u001b[0;31m             \u001b[0ma\u001b[0m\u001b[0;34m.\u001b[0m\u001b[0mdraw\u001b[0m\u001b[0;34m(\u001b[0m\u001b[0mrenderer\u001b[0m\u001b[0;34m)\u001b[0m\u001b[0;34m\u001b[0m\u001b[0;34m\u001b[0m\u001b[0m\n\u001b[0m\u001b[1;32m    132\u001b[0m     \u001b[0;32melse\u001b[0m\u001b[0;34m:\u001b[0m\u001b[0;34m\u001b[0m\u001b[0;34m\u001b[0m\u001b[0m\n\u001b[1;32m    133\u001b[0m         \u001b[0;31m# Composite any adjacent images together\u001b[0m\u001b[0;34m\u001b[0m\u001b[0;34m\u001b[0m\u001b[0m\n",
            "\u001b[0;32m/usr/local/lib/python3.10/dist-packages/matplotlib/artist.py\u001b[0m in \u001b[0;36mdraw_wrapper\u001b[0;34m(artist, renderer)\u001b[0m\n\u001b[1;32m     70\u001b[0m                 \u001b[0mrenderer\u001b[0m\u001b[0;34m.\u001b[0m\u001b[0mstart_filter\u001b[0m\u001b[0;34m(\u001b[0m\u001b[0;34m)\u001b[0m\u001b[0;34m\u001b[0m\u001b[0;34m\u001b[0m\u001b[0m\n\u001b[1;32m     71\u001b[0m \u001b[0;34m\u001b[0m\u001b[0m\n\u001b[0;32m---> 72\u001b[0;31m             \u001b[0;32mreturn\u001b[0m \u001b[0mdraw\u001b[0m\u001b[0;34m(\u001b[0m\u001b[0martist\u001b[0m\u001b[0;34m,\u001b[0m \u001b[0mrenderer\u001b[0m\u001b[0;34m)\u001b[0m\u001b[0;34m\u001b[0m\u001b[0;34m\u001b[0m\u001b[0m\n\u001b[0m\u001b[1;32m     73\u001b[0m         \u001b[0;32mfinally\u001b[0m\u001b[0;34m:\u001b[0m\u001b[0;34m\u001b[0m\u001b[0;34m\u001b[0m\u001b[0m\n\u001b[1;32m     74\u001b[0m             \u001b[0;32mif\u001b[0m \u001b[0martist\u001b[0m\u001b[0;34m.\u001b[0m\u001b[0mget_agg_filter\u001b[0m\u001b[0;34m(\u001b[0m\u001b[0;34m)\u001b[0m \u001b[0;32mis\u001b[0m \u001b[0;32mnot\u001b[0m \u001b[0;32mNone\u001b[0m\u001b[0;34m:\u001b[0m\u001b[0;34m\u001b[0m\u001b[0;34m\u001b[0m\u001b[0m\n",
            "\u001b[0;32m/usr/local/lib/python3.10/dist-packages/matplotlib/axes/_base.py\u001b[0m in \u001b[0;36mdraw\u001b[0;34m(self, renderer)\u001b[0m\n\u001b[1;32m   3062\u001b[0m             \u001b[0m_draw_rasterized\u001b[0m\u001b[0;34m(\u001b[0m\u001b[0mself\u001b[0m\u001b[0;34m.\u001b[0m\u001b[0mfigure\u001b[0m\u001b[0;34m,\u001b[0m \u001b[0martists_rasterized\u001b[0m\u001b[0;34m,\u001b[0m \u001b[0mrenderer\u001b[0m\u001b[0;34m)\u001b[0m\u001b[0;34m\u001b[0m\u001b[0;34m\u001b[0m\u001b[0m\n\u001b[1;32m   3063\u001b[0m \u001b[0;34m\u001b[0m\u001b[0m\n\u001b[0;32m-> 3064\u001b[0;31m         mimage._draw_list_compositing_images(\n\u001b[0m\u001b[1;32m   3065\u001b[0m             renderer, self, artists, self.figure.suppressComposite)\n\u001b[1;32m   3066\u001b[0m \u001b[0;34m\u001b[0m\u001b[0m\n",
            "\u001b[0;32m/usr/local/lib/python3.10/dist-packages/matplotlib/image.py\u001b[0m in \u001b[0;36m_draw_list_compositing_images\u001b[0;34m(renderer, parent, artists, suppress_composite)\u001b[0m\n\u001b[1;32m    129\u001b[0m     \u001b[0;32mif\u001b[0m \u001b[0mnot_composite\u001b[0m \u001b[0;32mor\u001b[0m \u001b[0;32mnot\u001b[0m \u001b[0mhas_images\u001b[0m\u001b[0;34m:\u001b[0m\u001b[0;34m\u001b[0m\u001b[0;34m\u001b[0m\u001b[0m\n\u001b[1;32m    130\u001b[0m         \u001b[0;32mfor\u001b[0m \u001b[0ma\u001b[0m \u001b[0;32min\u001b[0m \u001b[0martists\u001b[0m\u001b[0;34m:\u001b[0m\u001b[0;34m\u001b[0m\u001b[0;34m\u001b[0m\u001b[0m\n\u001b[0;32m--> 131\u001b[0;31m             \u001b[0ma\u001b[0m\u001b[0;34m.\u001b[0m\u001b[0mdraw\u001b[0m\u001b[0;34m(\u001b[0m\u001b[0mrenderer\u001b[0m\u001b[0;34m)\u001b[0m\u001b[0;34m\u001b[0m\u001b[0;34m\u001b[0m\u001b[0m\n\u001b[0m\u001b[1;32m    132\u001b[0m     \u001b[0;32melse\u001b[0m\u001b[0;34m:\u001b[0m\u001b[0;34m\u001b[0m\u001b[0;34m\u001b[0m\u001b[0m\n\u001b[1;32m    133\u001b[0m         \u001b[0;31m# Composite any adjacent images together\u001b[0m\u001b[0;34m\u001b[0m\u001b[0;34m\u001b[0m\u001b[0m\n",
            "\u001b[0;32m/usr/local/lib/python3.10/dist-packages/matplotlib/artist.py\u001b[0m in \u001b[0;36mdraw_wrapper\u001b[0;34m(artist, renderer)\u001b[0m\n\u001b[1;32m     70\u001b[0m                 \u001b[0mrenderer\u001b[0m\u001b[0;34m.\u001b[0m\u001b[0mstart_filter\u001b[0m\u001b[0;34m(\u001b[0m\u001b[0;34m)\u001b[0m\u001b[0;34m\u001b[0m\u001b[0;34m\u001b[0m\u001b[0m\n\u001b[1;32m     71\u001b[0m \u001b[0;34m\u001b[0m\u001b[0m\n\u001b[0;32m---> 72\u001b[0;31m             \u001b[0;32mreturn\u001b[0m \u001b[0mdraw\u001b[0m\u001b[0;34m(\u001b[0m\u001b[0martist\u001b[0m\u001b[0;34m,\u001b[0m \u001b[0mrenderer\u001b[0m\u001b[0;34m)\u001b[0m\u001b[0;34m\u001b[0m\u001b[0;34m\u001b[0m\u001b[0m\n\u001b[0m\u001b[1;32m     73\u001b[0m         \u001b[0;32mfinally\u001b[0m\u001b[0;34m:\u001b[0m\u001b[0;34m\u001b[0m\u001b[0;34m\u001b[0m\u001b[0m\n\u001b[1;32m     74\u001b[0m             \u001b[0;32mif\u001b[0m \u001b[0martist\u001b[0m\u001b[0;34m.\u001b[0m\u001b[0mget_agg_filter\u001b[0m\u001b[0;34m(\u001b[0m\u001b[0;34m)\u001b[0m \u001b[0;32mis\u001b[0m \u001b[0;32mnot\u001b[0m \u001b[0;32mNone\u001b[0m\u001b[0;34m:\u001b[0m\u001b[0;34m\u001b[0m\u001b[0;34m\u001b[0m\u001b[0m\n",
            "\u001b[0;32m/usr/local/lib/python3.10/dist-packages/matplotlib/image.py\u001b[0m in \u001b[0;36mdraw\u001b[0;34m(self, renderer, *args, **kwargs)\u001b[0m\n\u001b[1;32m    639\u001b[0m                 \u001b[0mrenderer\u001b[0m\u001b[0;34m.\u001b[0m\u001b[0mdraw_image\u001b[0m\u001b[0;34m(\u001b[0m\u001b[0mgc\u001b[0m\u001b[0;34m,\u001b[0m \u001b[0ml\u001b[0m\u001b[0;34m,\u001b[0m \u001b[0mb\u001b[0m\u001b[0;34m,\u001b[0m \u001b[0mim\u001b[0m\u001b[0;34m,\u001b[0m \u001b[0mtrans\u001b[0m\u001b[0;34m)\u001b[0m\u001b[0;34m\u001b[0m\u001b[0;34m\u001b[0m\u001b[0m\n\u001b[1;32m    640\u001b[0m         \u001b[0;32melse\u001b[0m\u001b[0;34m:\u001b[0m\u001b[0;34m\u001b[0m\u001b[0;34m\u001b[0m\u001b[0m\n\u001b[0;32m--> 641\u001b[0;31m             im, l, b, trans = self.make_image(\n\u001b[0m\u001b[1;32m    642\u001b[0m                 renderer, renderer.get_image_magnification())\n\u001b[1;32m    643\u001b[0m             \u001b[0;32mif\u001b[0m \u001b[0mim\u001b[0m \u001b[0;32mis\u001b[0m \u001b[0;32mnot\u001b[0m \u001b[0;32mNone\u001b[0m\u001b[0;34m:\u001b[0m\u001b[0;34m\u001b[0m\u001b[0;34m\u001b[0m\u001b[0m\n",
            "\u001b[0;32m/usr/local/lib/python3.10/dist-packages/matplotlib/image.py\u001b[0m in \u001b[0;36mmake_image\u001b[0;34m(self, renderer, magnification, unsampled)\u001b[0m\n\u001b[1;32m    947\u001b[0m         clip = ((self.get_clip_box() or self.axes.bbox) if self.get_clip_on()\n\u001b[1;32m    948\u001b[0m                 else self.figure.bbox)\n\u001b[0;32m--> 949\u001b[0;31m         return self._make_image(self._A, bbox, transformed_bbox, clip,\n\u001b[0m\u001b[1;32m    950\u001b[0m                                 magnification, unsampled=unsampled)\n\u001b[1;32m    951\u001b[0m \u001b[0;34m\u001b[0m\u001b[0m\n",
            "\u001b[0;32m/usr/local/lib/python3.10/dist-packages/matplotlib/image.py\u001b[0m in \u001b[0;36m_make_image\u001b[0;34m(self, A, in_bbox, out_bbox, clip_bbox, magnification, unsampled, round_to_pixel_border)\u001b[0m\n\u001b[1;32m    551\u001b[0m                     \u001b[0mA\u001b[0m \u001b[0;34m=\u001b[0m \u001b[0m_rgb_to_rgba\u001b[0m\u001b[0;34m(\u001b[0m\u001b[0mA\u001b[0m\u001b[0;34m)\u001b[0m\u001b[0;34m\u001b[0m\u001b[0;34m\u001b[0m\u001b[0m\n\u001b[1;32m    552\u001b[0m                 \u001b[0malpha\u001b[0m \u001b[0;34m=\u001b[0m \u001b[0mself\u001b[0m\u001b[0;34m.\u001b[0m\u001b[0m_get_scalar_alpha\u001b[0m\u001b[0;34m(\u001b[0m\u001b[0;34m)\u001b[0m\u001b[0;34m\u001b[0m\u001b[0;34m\u001b[0m\u001b[0m\n\u001b[0;32m--> 553\u001b[0;31m                 output_alpha = _resample(  # resample alpha channel\n\u001b[0m\u001b[1;32m    554\u001b[0m                     self, A[..., 3], out_shape, t, alpha=alpha)\n\u001b[1;32m    555\u001b[0m                 output = _resample(  # resample rgb channels\n",
            "\u001b[0;32m/usr/local/lib/python3.10/dist-packages/matplotlib/image.py\u001b[0m in \u001b[0;36m_resample\u001b[0;34m(image_obj, data, out_shape, transform, resample, alpha)\u001b[0m\n\u001b[1;32m    205\u001b[0m     \u001b[0;32mif\u001b[0m \u001b[0mresample\u001b[0m \u001b[0;32mis\u001b[0m \u001b[0;32mNone\u001b[0m\u001b[0;34m:\u001b[0m\u001b[0;34m\u001b[0m\u001b[0;34m\u001b[0m\u001b[0m\n\u001b[1;32m    206\u001b[0m         \u001b[0mresample\u001b[0m \u001b[0;34m=\u001b[0m \u001b[0mimage_obj\u001b[0m\u001b[0;34m.\u001b[0m\u001b[0mget_resample\u001b[0m\u001b[0;34m(\u001b[0m\u001b[0;34m)\u001b[0m\u001b[0;34m\u001b[0m\u001b[0;34m\u001b[0m\u001b[0m\n\u001b[0;32m--> 207\u001b[0;31m     _image.resample(data, out, transform,\n\u001b[0m\u001b[1;32m    208\u001b[0m                     \u001b[0m_interpd_\u001b[0m\u001b[0;34m[\u001b[0m\u001b[0minterpolation\u001b[0m\u001b[0;34m]\u001b[0m\u001b[0;34m,\u001b[0m\u001b[0;34m\u001b[0m\u001b[0;34m\u001b[0m\u001b[0m\n\u001b[1;32m    209\u001b[0m                     \u001b[0mresample\u001b[0m\u001b[0;34m,\u001b[0m\u001b[0;34m\u001b[0m\u001b[0;34m\u001b[0m\u001b[0m\n",
            "\u001b[0;31mValueError\u001b[0m: Unsupported dtype"
          ]
        },
        {
          "output_type": "display_data",
          "data": {
            "text/plain": [
              "<Figure size 2000x400 with 5 Axes>"
            ]
          },
          "metadata": {}
        }
      ]
    },
    {
      "cell_type": "code",
      "source": [],
      "metadata": {
        "id": "RUl-nIJBzVms"
      },
      "execution_count": null,
      "outputs": []
    }
  ],
  "metadata": {
    "accelerator": "GPU",
    "colab": {
      "machine_shape": "hm",
      "provenance": [],
      "gpuType": "V100",
      "authorship_tag": "ABX9TyNydNEZ61UzO4cKJe9U/zae",
      "include_colab_link": true
    },
    "kernelspec": {
      "display_name": "Python 3",
      "name": "python3"
    },
    "language_info": {
      "name": "python"
    }
  },
  "nbformat": 4,
  "nbformat_minor": 0
}